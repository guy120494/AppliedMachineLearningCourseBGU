{
 "cells": [
  {
   "cell_type": "code",
   "execution_count": 1,
   "id": "initial_id",
   "metadata": {
    "collapsed": true,
    "ExecuteTime": {
     "end_time": "2024-06-23T07:22:12.387694Z",
     "start_time": "2024-06-23T07:22:06.764095Z"
    }
   },
   "outputs": [],
   "source": [
    "import math\n",
    "import pandas as pd\n",
    "import numpy as np\n",
    "from sklearn import *\n",
    "import matplotlib.pyplot as plt\n",
    "import xgboost as xgb\n",
    "from pandas.plotting import scatter_matrix\n",
    "from sklearn.ensemble import RandomForestClassifier, GradientBoostingClassifier\n",
    "from sklearn.metrics import accuracy_score, confusion_matrix\n",
    "from sklearn.model_selection import GridSearchCV\n",
    "from sklearn.pipeline import Pipeline\n",
    "from sklearn.svm import SVC\n",
    "from sklearn.preprocessing import PowerTransformer, PolynomialFeatures\n",
    "import seaborn as sns\n",
    "from imblearn.under_sampling import RandomUnderSampler\n",
    "from imblearn.over_sampling import SMOTE"
   ]
  },
  {
   "cell_type": "markdown",
   "source": [
    "# **Data inspection and preprocessing**"
   ],
   "metadata": {
    "collapsed": false
   },
   "id": "e41253a8b63fb37e"
  },
  {
   "cell_type": "code",
   "outputs": [],
   "source": [
    "# Unpacking data from pickle file and basic information about the data\n",
    "data = pd.read_pickle('./ass3.pickle')\n",
    "train, dev, test = data['train'], data['dev'], data['test']"
   ],
   "metadata": {
    "collapsed": false,
    "ExecuteTime": {
     "end_time": "2024-06-23T07:22:21.539230Z",
     "start_time": "2024-06-23T07:22:21.531754Z"
    }
   },
   "id": "219550c70d9ccf3b",
   "execution_count": 2
  },
  {
   "cell_type": "code",
   "outputs": [
    {
     "name": "stdout",
     "output_type": "stream",
     "text": [
      "number of features: 8\n",
      "types of labels: [1.695 2.796 1.322 ... 3.508 4.321 2.355]\n",
      "number of different values: [('f0', 8588), ('f1', 53), ('f2', 11722), ('f3', 9386), ('f4', 3305), ('f5', 11485), ('f6', 799), ('f7', 783), ('target', 3391)]\n",
      "number of rows in train: 12384\n",
      "number of rows in dev: 4128\n",
      "number of rows in test: 4128\n"
     ]
    }
   ],
   "source": [
    "# Show basic data information\n",
    "print(f\"number of features: {len(train.columns) - 1}\")\n",
    "print(f\"types of labels: {train['target'].unique()}\")\n",
    "print(f\"number of different values: {[(c,len(train[c].unique()))  for c in train]}\")\n",
    "print(f\"number of rows in train: {len(train)}\")\n",
    "print(f\"number of rows in dev: {len(dev)}\")\n",
    "print(f\"number of rows in test: {len(test)}\")\n"
   ],
   "metadata": {
    "collapsed": false,
    "ExecuteTime": {
     "end_time": "2024-06-23T07:22:27.319979Z",
     "start_time": "2024-06-23T07:22:27.305687Z"
    }
   },
   "id": "e6e9009832d40839",
   "execution_count": 3
  },
  {
   "cell_type": "code",
   "outputs": [
    {
     "data": {
      "text/plain": "f0        174\nf1        140\nf2        158\nf3        156\nf4        169\nf5        142\nf6        151\nf7        148\ntarget      0\ndtype: int64"
     },
     "execution_count": 4,
     "metadata": {},
     "output_type": "execute_result"
    }
   ],
   "source": [
    "#Checking for missing values\n",
    "train.isnull().sum()"
   ],
   "metadata": {
    "collapsed": false,
    "ExecuteTime": {
     "end_time": "2024-06-23T07:22:54.692551Z",
     "start_time": "2024-06-23T07:22:54.683453Z"
    }
   },
   "id": "d122130648f40153",
   "execution_count": 4
  },
  {
   "cell_type": "code",
   "outputs": [
    {
     "data": {
      "text/plain": "                 f0            f1            f2            f3            f4  \\\ncount  12210.000000  12244.000000  12226.000000  12228.000000  12215.000000   \nmean       3.872771     28.630595      5.420978      1.096626   1426.830618   \nstd        1.919183     12.566127      2.382548      0.471398   1103.528284   \nmin        0.499900      1.000000      0.846154      0.500000      3.000000   \n25%        2.555600     18.000000      4.430232      1.006386    786.000000   \n50%        3.534100     29.000000      5.218429      1.049202   1170.000000   \n75%        4.745975     37.000000      6.043349      1.099202   1739.000000   \nmax       15.000100     52.000000    132.533333     34.066667  28566.000000   \n\n                 f5            f6            f7        target  \ncount  12242.000000  12233.000000  12236.000000  12384.000000  \nmean       3.144714     35.626833   -119.561040      2.066362  \nstd       13.440452      2.133539      1.996646      1.147908  \nmin        0.692308     32.550000   -124.350000      0.149990  \n25%        2.428571     33.940000   -121.790000      1.198000  \n50%        2.816384     34.250000   -118.490000      1.798000  \n75%        3.276456     37.710000   -118.020000      2.646000  \nmax     1243.333333     41.950000   -114.550000      5.000010  ",
      "text/html": "<div>\n<style scoped>\n    .dataframe tbody tr th:only-of-type {\n        vertical-align: middle;\n    }\n\n    .dataframe tbody tr th {\n        vertical-align: top;\n    }\n\n    .dataframe thead th {\n        text-align: right;\n    }\n</style>\n<table border=\"1\" class=\"dataframe\">\n  <thead>\n    <tr style=\"text-align: right;\">\n      <th></th>\n      <th>f0</th>\n      <th>f1</th>\n      <th>f2</th>\n      <th>f3</th>\n      <th>f4</th>\n      <th>f5</th>\n      <th>f6</th>\n      <th>f7</th>\n      <th>target</th>\n    </tr>\n  </thead>\n  <tbody>\n    <tr>\n      <th>count</th>\n      <td>12210.000000</td>\n      <td>12244.000000</td>\n      <td>12226.000000</td>\n      <td>12228.000000</td>\n      <td>12215.000000</td>\n      <td>12242.000000</td>\n      <td>12233.000000</td>\n      <td>12236.000000</td>\n      <td>12384.000000</td>\n    </tr>\n    <tr>\n      <th>mean</th>\n      <td>3.872771</td>\n      <td>28.630595</td>\n      <td>5.420978</td>\n      <td>1.096626</td>\n      <td>1426.830618</td>\n      <td>3.144714</td>\n      <td>35.626833</td>\n      <td>-119.561040</td>\n      <td>2.066362</td>\n    </tr>\n    <tr>\n      <th>std</th>\n      <td>1.919183</td>\n      <td>12.566127</td>\n      <td>2.382548</td>\n      <td>0.471398</td>\n      <td>1103.528284</td>\n      <td>13.440452</td>\n      <td>2.133539</td>\n      <td>1.996646</td>\n      <td>1.147908</td>\n    </tr>\n    <tr>\n      <th>min</th>\n      <td>0.499900</td>\n      <td>1.000000</td>\n      <td>0.846154</td>\n      <td>0.500000</td>\n      <td>3.000000</td>\n      <td>0.692308</td>\n      <td>32.550000</td>\n      <td>-124.350000</td>\n      <td>0.149990</td>\n    </tr>\n    <tr>\n      <th>25%</th>\n      <td>2.555600</td>\n      <td>18.000000</td>\n      <td>4.430232</td>\n      <td>1.006386</td>\n      <td>786.000000</td>\n      <td>2.428571</td>\n      <td>33.940000</td>\n      <td>-121.790000</td>\n      <td>1.198000</td>\n    </tr>\n    <tr>\n      <th>50%</th>\n      <td>3.534100</td>\n      <td>29.000000</td>\n      <td>5.218429</td>\n      <td>1.049202</td>\n      <td>1170.000000</td>\n      <td>2.816384</td>\n      <td>34.250000</td>\n      <td>-118.490000</td>\n      <td>1.798000</td>\n    </tr>\n    <tr>\n      <th>75%</th>\n      <td>4.745975</td>\n      <td>37.000000</td>\n      <td>6.043349</td>\n      <td>1.099202</td>\n      <td>1739.000000</td>\n      <td>3.276456</td>\n      <td>37.710000</td>\n      <td>-118.020000</td>\n      <td>2.646000</td>\n    </tr>\n    <tr>\n      <th>max</th>\n      <td>15.000100</td>\n      <td>52.000000</td>\n      <td>132.533333</td>\n      <td>34.066667</td>\n      <td>28566.000000</td>\n      <td>1243.333333</td>\n      <td>41.950000</td>\n      <td>-114.550000</td>\n      <td>5.000010</td>\n    </tr>\n  </tbody>\n</table>\n</div>"
     },
     "execution_count": 5,
     "metadata": {},
     "output_type": "execute_result"
    }
   ],
   "source": [
    "# Show general information about the data (mean, ste, etc. by feature)\n",
    "train.describe()"
   ],
   "metadata": {
    "collapsed": false,
    "ExecuteTime": {
     "end_time": "2024-06-23T07:23:25.670683Z",
     "start_time": "2024-06-23T07:23:25.641321Z"
    }
   },
   "id": "c21df38687cd1f61",
   "execution_count": 5
  },
  {
   "cell_type": "code",
   "outputs": [
    {
     "data": {
      "text/plain": "            f0                                                            \\\n         count      mean       std     min       25%      50%        75%   \ntarget                                                                     \n0.14999    2.0  1.098350  0.795283  0.5360  0.817175  1.09835   1.379525   \n0.17500    1.0  2.366700       NaN  2.3667  2.366700  2.36670   2.366700   \n0.22500    1.0  1.091800       NaN  1.0918  1.091800  1.09180   1.091800   \n0.25000    1.0  0.857100       NaN  0.8571  0.857100  0.85710   0.857100   \n0.27500    1.0  1.265600       NaN  1.2656  1.265600  1.26560   1.265600   \n...        ...       ...       ...     ...       ...      ...        ...   \n4.98800    1.0  8.248000       NaN  8.2480  8.248000  8.24800   8.248000   \n4.99000    1.0  8.148900       NaN  8.1489  8.148900  8.14890   8.148900   \n4.99100    1.0  6.786100       NaN  6.7861  6.786100  6.78610   6.786100   \n5.00000   17.0  3.452000  1.224370  1.2656  2.610300  3.37150   4.141700   \n5.00001  548.0  8.014742  3.317088  0.4999  5.316375  7.86535  10.229825   \n\n                     f1             ...      f6            f7              \\\n             max  count       mean  ...     75%    max  count        mean   \ntarget                              ...                                     \n0.14999   1.6607    3.0  34.666667  ...  40.010  40.31    3.0 -121.256667   \n0.17500   2.3667    1.0  39.000000  ...  34.150  34.15    1.0 -118.330000   \n0.22500   1.0918    1.0  52.000000  ...  32.710  32.71    1.0 -117.160000   \n0.25000   0.8571    1.0  21.000000  ...  32.790  32.79    1.0 -114.650000   \n0.27500   1.2656    1.0  17.000000  ...  33.920  33.92    1.0 -114.670000   \n...          ...    ...        ...  ...     ...    ...    ...         ...   \n4.98800   8.2480    1.0  29.000000  ...  37.330  37.33    1.0 -122.060000   \n4.99000   8.1489    1.0  18.000000  ...  37.890  37.89    1.0 -122.180000   \n4.99100   6.7861    1.0  28.000000  ...  33.550  33.55    1.0 -117.770000   \n5.00000   6.0199   18.0  38.333333  ...  37.785  37.80   17.0 -120.200000   \n5.00001  15.0001  548.0  33.468978  ...  37.385  37.98  552.0 -119.693478   \n\n                                                             \n              std     min      25%      50%     75%     max  \ntarget                                                       \n0.14999  2.949446 -123.17 -122.955 -122.740 -120.30 -117.86  \n0.17500       NaN -118.33 -118.330 -118.330 -118.33 -118.33  \n0.22500       NaN -117.16 -117.160 -117.160 -117.16 -117.16  \n0.25000       NaN -114.65 -114.650 -114.650 -114.65 -114.65  \n0.27500       NaN -114.67 -114.670 -114.670 -114.67 -114.67  \n...           ...     ...      ...      ...     ...     ...  \n4.98800       NaN -122.06 -122.060 -122.060 -122.06 -122.06  \n4.99000       NaN -122.18 -122.180 -122.180 -122.18 -122.18  \n4.99100       NaN -117.77 -117.770 -117.770 -117.77 -117.77  \n5.00000  2.171532 -122.49 -122.440 -119.690 -118.31 -117.38  \n5.00001  1.918801 -122.56 -122.110 -118.485 -118.35 -116.55  \n\n[3391 rows x 64 columns]",
      "text/html": "<div>\n<style scoped>\n    .dataframe tbody tr th:only-of-type {\n        vertical-align: middle;\n    }\n\n    .dataframe tbody tr th {\n        vertical-align: top;\n    }\n\n    .dataframe thead tr th {\n        text-align: left;\n    }\n\n    .dataframe thead tr:last-of-type th {\n        text-align: right;\n    }\n</style>\n<table border=\"1\" class=\"dataframe\">\n  <thead>\n    <tr>\n      <th></th>\n      <th colspan=\"8\" halign=\"left\">f0</th>\n      <th colspan=\"2\" halign=\"left\">f1</th>\n      <th>...</th>\n      <th colspan=\"2\" halign=\"left\">f6</th>\n      <th colspan=\"8\" halign=\"left\">f7</th>\n    </tr>\n    <tr>\n      <th></th>\n      <th>count</th>\n      <th>mean</th>\n      <th>std</th>\n      <th>min</th>\n      <th>25%</th>\n      <th>50%</th>\n      <th>75%</th>\n      <th>max</th>\n      <th>count</th>\n      <th>mean</th>\n      <th>...</th>\n      <th>75%</th>\n      <th>max</th>\n      <th>count</th>\n      <th>mean</th>\n      <th>std</th>\n      <th>min</th>\n      <th>25%</th>\n      <th>50%</th>\n      <th>75%</th>\n      <th>max</th>\n    </tr>\n    <tr>\n      <th>target</th>\n      <th></th>\n      <th></th>\n      <th></th>\n      <th></th>\n      <th></th>\n      <th></th>\n      <th></th>\n      <th></th>\n      <th></th>\n      <th></th>\n      <th></th>\n      <th></th>\n      <th></th>\n      <th></th>\n      <th></th>\n      <th></th>\n      <th></th>\n      <th></th>\n      <th></th>\n      <th></th>\n      <th></th>\n    </tr>\n  </thead>\n  <tbody>\n    <tr>\n      <th>0.14999</th>\n      <td>2.0</td>\n      <td>1.098350</td>\n      <td>0.795283</td>\n      <td>0.5360</td>\n      <td>0.817175</td>\n      <td>1.09835</td>\n      <td>1.379525</td>\n      <td>1.6607</td>\n      <td>3.0</td>\n      <td>34.666667</td>\n      <td>...</td>\n      <td>40.010</td>\n      <td>40.31</td>\n      <td>3.0</td>\n      <td>-121.256667</td>\n      <td>2.949446</td>\n      <td>-123.17</td>\n      <td>-122.955</td>\n      <td>-122.740</td>\n      <td>-120.30</td>\n      <td>-117.86</td>\n    </tr>\n    <tr>\n      <th>0.17500</th>\n      <td>1.0</td>\n      <td>2.366700</td>\n      <td>NaN</td>\n      <td>2.3667</td>\n      <td>2.366700</td>\n      <td>2.36670</td>\n      <td>2.366700</td>\n      <td>2.3667</td>\n      <td>1.0</td>\n      <td>39.000000</td>\n      <td>...</td>\n      <td>34.150</td>\n      <td>34.15</td>\n      <td>1.0</td>\n      <td>-118.330000</td>\n      <td>NaN</td>\n      <td>-118.33</td>\n      <td>-118.330</td>\n      <td>-118.330</td>\n      <td>-118.33</td>\n      <td>-118.33</td>\n    </tr>\n    <tr>\n      <th>0.22500</th>\n      <td>1.0</td>\n      <td>1.091800</td>\n      <td>NaN</td>\n      <td>1.0918</td>\n      <td>1.091800</td>\n      <td>1.09180</td>\n      <td>1.091800</td>\n      <td>1.0918</td>\n      <td>1.0</td>\n      <td>52.000000</td>\n      <td>...</td>\n      <td>32.710</td>\n      <td>32.71</td>\n      <td>1.0</td>\n      <td>-117.160000</td>\n      <td>NaN</td>\n      <td>-117.16</td>\n      <td>-117.160</td>\n      <td>-117.160</td>\n      <td>-117.16</td>\n      <td>-117.16</td>\n    </tr>\n    <tr>\n      <th>0.25000</th>\n      <td>1.0</td>\n      <td>0.857100</td>\n      <td>NaN</td>\n      <td>0.8571</td>\n      <td>0.857100</td>\n      <td>0.85710</td>\n      <td>0.857100</td>\n      <td>0.8571</td>\n      <td>1.0</td>\n      <td>21.000000</td>\n      <td>...</td>\n      <td>32.790</td>\n      <td>32.79</td>\n      <td>1.0</td>\n      <td>-114.650000</td>\n      <td>NaN</td>\n      <td>-114.65</td>\n      <td>-114.650</td>\n      <td>-114.650</td>\n      <td>-114.65</td>\n      <td>-114.65</td>\n    </tr>\n    <tr>\n      <th>0.27500</th>\n      <td>1.0</td>\n      <td>1.265600</td>\n      <td>NaN</td>\n      <td>1.2656</td>\n      <td>1.265600</td>\n      <td>1.26560</td>\n      <td>1.265600</td>\n      <td>1.2656</td>\n      <td>1.0</td>\n      <td>17.000000</td>\n      <td>...</td>\n      <td>33.920</td>\n      <td>33.92</td>\n      <td>1.0</td>\n      <td>-114.670000</td>\n      <td>NaN</td>\n      <td>-114.67</td>\n      <td>-114.670</td>\n      <td>-114.670</td>\n      <td>-114.67</td>\n      <td>-114.67</td>\n    </tr>\n    <tr>\n      <th>...</th>\n      <td>...</td>\n      <td>...</td>\n      <td>...</td>\n      <td>...</td>\n      <td>...</td>\n      <td>...</td>\n      <td>...</td>\n      <td>...</td>\n      <td>...</td>\n      <td>...</td>\n      <td>...</td>\n      <td>...</td>\n      <td>...</td>\n      <td>...</td>\n      <td>...</td>\n      <td>...</td>\n      <td>...</td>\n      <td>...</td>\n      <td>...</td>\n      <td>...</td>\n      <td>...</td>\n    </tr>\n    <tr>\n      <th>4.98800</th>\n      <td>1.0</td>\n      <td>8.248000</td>\n      <td>NaN</td>\n      <td>8.2480</td>\n      <td>8.248000</td>\n      <td>8.24800</td>\n      <td>8.248000</td>\n      <td>8.2480</td>\n      <td>1.0</td>\n      <td>29.000000</td>\n      <td>...</td>\n      <td>37.330</td>\n      <td>37.33</td>\n      <td>1.0</td>\n      <td>-122.060000</td>\n      <td>NaN</td>\n      <td>-122.06</td>\n      <td>-122.060</td>\n      <td>-122.060</td>\n      <td>-122.06</td>\n      <td>-122.06</td>\n    </tr>\n    <tr>\n      <th>4.99000</th>\n      <td>1.0</td>\n      <td>8.148900</td>\n      <td>NaN</td>\n      <td>8.1489</td>\n      <td>8.148900</td>\n      <td>8.14890</td>\n      <td>8.148900</td>\n      <td>8.1489</td>\n      <td>1.0</td>\n      <td>18.000000</td>\n      <td>...</td>\n      <td>37.890</td>\n      <td>37.89</td>\n      <td>1.0</td>\n      <td>-122.180000</td>\n      <td>NaN</td>\n      <td>-122.18</td>\n      <td>-122.180</td>\n      <td>-122.180</td>\n      <td>-122.18</td>\n      <td>-122.18</td>\n    </tr>\n    <tr>\n      <th>4.99100</th>\n      <td>1.0</td>\n      <td>6.786100</td>\n      <td>NaN</td>\n      <td>6.7861</td>\n      <td>6.786100</td>\n      <td>6.78610</td>\n      <td>6.786100</td>\n      <td>6.7861</td>\n      <td>1.0</td>\n      <td>28.000000</td>\n      <td>...</td>\n      <td>33.550</td>\n      <td>33.55</td>\n      <td>1.0</td>\n      <td>-117.770000</td>\n      <td>NaN</td>\n      <td>-117.77</td>\n      <td>-117.770</td>\n      <td>-117.770</td>\n      <td>-117.77</td>\n      <td>-117.77</td>\n    </tr>\n    <tr>\n      <th>5.00000</th>\n      <td>17.0</td>\n      <td>3.452000</td>\n      <td>1.224370</td>\n      <td>1.2656</td>\n      <td>2.610300</td>\n      <td>3.37150</td>\n      <td>4.141700</td>\n      <td>6.0199</td>\n      <td>18.0</td>\n      <td>38.333333</td>\n      <td>...</td>\n      <td>37.785</td>\n      <td>37.80</td>\n      <td>17.0</td>\n      <td>-120.200000</td>\n      <td>2.171532</td>\n      <td>-122.49</td>\n      <td>-122.440</td>\n      <td>-119.690</td>\n      <td>-118.31</td>\n      <td>-117.38</td>\n    </tr>\n    <tr>\n      <th>5.00001</th>\n      <td>548.0</td>\n      <td>8.014742</td>\n      <td>3.317088</td>\n      <td>0.4999</td>\n      <td>5.316375</td>\n      <td>7.86535</td>\n      <td>10.229825</td>\n      <td>15.0001</td>\n      <td>548.0</td>\n      <td>33.468978</td>\n      <td>...</td>\n      <td>37.385</td>\n      <td>37.98</td>\n      <td>552.0</td>\n      <td>-119.693478</td>\n      <td>1.918801</td>\n      <td>-122.56</td>\n      <td>-122.110</td>\n      <td>-118.485</td>\n      <td>-118.35</td>\n      <td>-116.55</td>\n    </tr>\n  </tbody>\n</table>\n<p>3391 rows × 64 columns</p>\n</div>"
     },
     "execution_count": 6,
     "metadata": {},
     "output_type": "execute_result"
    }
   ],
   "source": [
    "# Information about the training data - group by label\n",
    "train.groupby('target').describe()"
   ],
   "metadata": {
    "collapsed": false,
    "ExecuteTime": {
     "end_time": "2024-06-23T07:24:28.789909Z",
     "start_time": "2024-06-23T07:23:57.744029Z"
    }
   },
   "id": "9faac1d68750506b",
   "execution_count": 6
  },
  {
   "cell_type": "code",
   "outputs": [],
   "source": [],
   "metadata": {
    "collapsed": false
   },
   "id": "2e7c769a338b39a5"
  }
 ],
 "metadata": {
  "kernelspec": {
   "display_name": "Python 3",
   "language": "python",
   "name": "python3"
  },
  "language_info": {
   "codemirror_mode": {
    "name": "ipython",
    "version": 2
   },
   "file_extension": ".py",
   "mimetype": "text/x-python",
   "name": "python",
   "nbconvert_exporter": "python",
   "pygments_lexer": "ipython2",
   "version": "2.7.6"
  }
 },
 "nbformat": 4,
 "nbformat_minor": 5
}
