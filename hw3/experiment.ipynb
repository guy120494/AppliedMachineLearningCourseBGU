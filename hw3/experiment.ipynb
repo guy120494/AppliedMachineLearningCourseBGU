{
 "cells": [
  {
   "cell_type": "code",
   "execution_count": 19,
   "id": "c4db988e68caf031",
   "metadata": {
    "collapsed": false,
    "ExecuteTime": {
     "end_time": "2024-07-07T10:43:17.412301Z",
     "start_time": "2024-07-07T10:43:15.897794Z"
    }
   },
   "outputs": [
    {
     "name": "stdout",
     "output_type": "stream",
     "text": [
      "Requirement already satisfied: optuna in c:\\users\\admin\\pycharmprojects\\appliedmachinelearning\\.venv\\lib\\site-packages (3.6.1)\n",
      "Requirement already satisfied: alembic>=1.5.0 in c:\\users\\admin\\pycharmprojects\\appliedmachinelearning\\.venv\\lib\\site-packages (from optuna) (1.13.2)\n",
      "Requirement already satisfied: colorlog in c:\\users\\admin\\pycharmprojects\\appliedmachinelearning\\.venv\\lib\\site-packages (from optuna) (6.8.2)\n",
      "Requirement already satisfied: numpy in c:\\users\\admin\\pycharmprojects\\appliedmachinelearning\\.venv\\lib\\site-packages (from optuna) (1.26.4)\n",
      "Requirement already satisfied: packaging>=20.0 in c:\\users\\admin\\pycharmprojects\\appliedmachinelearning\\.venv\\lib\\site-packages (from optuna) (24.0)\n",
      "Requirement already satisfied: sqlalchemy>=1.3.0 in c:\\users\\admin\\pycharmprojects\\appliedmachinelearning\\.venv\\lib\\site-packages (from optuna) (2.0.31)\n",
      "Requirement already satisfied: tqdm in c:\\users\\admin\\pycharmprojects\\appliedmachinelearning\\.venv\\lib\\site-packages (from optuna) (4.66.4)\n",
      "Requirement already satisfied: PyYAML in c:\\users\\admin\\pycharmprojects\\appliedmachinelearning\\.venv\\lib\\site-packages (from optuna) (6.0.1)\n",
      "Requirement already satisfied: Mako in c:\\users\\admin\\pycharmprojects\\appliedmachinelearning\\.venv\\lib\\site-packages (from alembic>=1.5.0->optuna) (1.3.5)\n",
      "Requirement already satisfied: typing-extensions>=4 in c:\\users\\admin\\pycharmprojects\\appliedmachinelearning\\.venv\\lib\\site-packages (from alembic>=1.5.0->optuna) (4.12.2)\n",
      "Requirement already satisfied: greenlet!=0.4.17 in c:\\users\\admin\\pycharmprojects\\appliedmachinelearning\\.venv\\lib\\site-packages (from sqlalchemy>=1.3.0->optuna) (3.0.3)\n",
      "Requirement already satisfied: colorama in c:\\users\\admin\\pycharmprojects\\appliedmachinelearning\\.venv\\lib\\site-packages (from colorlog->optuna) (0.4.6)\n",
      "Requirement already satisfied: MarkupSafe>=0.9.2 in c:\\users\\admin\\pycharmprojects\\appliedmachinelearning\\.venv\\lib\\site-packages (from Mako->alembic>=1.5.0->optuna) (2.1.5)\n"
     ]
    },
    {
     "name": "stderr",
     "output_type": "stream",
     "text": [
      "\n",
      "[notice] A new release of pip is available: 24.0 -> 24.1.1\n",
      "[notice] To update, run: python.exe -m pip install --upgrade pip\n"
     ]
    }
   ],
   "source": [
    "!pip install optuna"
   ]
  },
  {
   "cell_type": "code",
   "outputs": [],
   "source": [
    "import optuna\n",
    "from optuna import Trial\n",
    "import pandas as pd\n",
    "import numpy as np\n",
    "from sklearn import *\n",
    "import matplotlib.pyplot as plt\n",
    "import xgboost as xgb\n",
    "from pandas.plotting import scatter_matrix\n",
    "from sklearn.ensemble import RandomForestClassifier, GradientBoostingClassifier\n",
    "from sklearn.metrics import accuracy_score, confusion_matrix\n",
    "from sklearn.model_selection import GridSearchCV\n",
    "from sklearn.pipeline import Pipeline\n",
    "from sklearn.svm import SVC\n",
    "from sklearn.preprocessing import PowerTransformer, PolynomialFeatures\n",
    "import seaborn as sns\n",
    "from imblearn.under_sampling import RandomUnderSampler\n",
    "from imblearn.over_sampling import SMOTE"
   ],
   "metadata": {
    "collapsed": true,
    "ExecuteTime": {
     "end_time": "2024-07-15T09:43:11.394758600Z",
     "start_time": "2024-07-15T09:43:09.896758Z"
    }
   },
   "id": "initial_id",
   "execution_count": 2
  },
  {
   "cell_type": "markdown",
   "source": [
    "# **Data inspection and preprocessing**"
   ],
   "metadata": {
    "collapsed": false
   },
   "id": "e41253a8b63fb37e"
  },
  {
   "cell_type": "code",
   "outputs": [],
   "source": [
    "# Unpacking data from pickle file and basic information about the data\n",
    "data = pd.read_pickle('./ass3.pickle')\n",
    "train, dev, test = data['train'], data['dev'], data['test']"
   ],
   "metadata": {
    "collapsed": false,
    "ExecuteTime": {
     "end_time": "2024-07-15T09:43:11.591777600Z",
     "start_time": "2024-07-15T09:43:11.565758300Z"
    }
   },
   "id": "219550c70d9ccf3b",
   "execution_count": 3
  },
  {
   "cell_type": "code",
   "outputs": [
    {
     "name": "stdout",
     "output_type": "stream",
     "text": [
      "number of features: 8\n",
      "types of labels: [1.695 2.796 1.322 ... 3.508 4.321 2.355]\n",
      "number of different values: [('f0', 8588), ('f1', 53), ('f2', 11722), ('f3', 9386), ('f4', 3305), ('f5', 11485), ('f6', 799), ('f7', 783), ('target', 3391)]\n",
      "number of rows in train: 12384\n",
      "number of rows in dev: 4128\n",
      "number of rows in test: 4128\n"
     ]
    }
   ],
   "source": [
    "# Show basic data information\n",
    "print(f\"number of features: {len(train.columns) - 1}\")\n",
    "print(f\"types of labels: {train['target'].unique()}\")\n",
    "print(f\"number of different values: {[(c,len(train[c].unique()))  for c in train]}\")\n",
    "print(f\"number of rows in train: {len(train)}\")\n",
    "print(f\"number of rows in dev: {len(dev)}\")\n",
    "print(f\"number of rows in test: {len(test)}\")\n"
   ],
   "metadata": {
    "collapsed": false,
    "ExecuteTime": {
     "end_time": "2024-07-15T09:43:12.245761200Z",
     "start_time": "2024-07-15T09:43:12.215759400Z"
    }
   },
   "id": "e6e9009832d40839",
   "execution_count": 4
  },
  {
   "cell_type": "code",
   "outputs": [
    {
     "data": {
      "text/plain": "           f0    f1        f2        f3      f4        f5     f6      f7  \\\n14981  4.0391  15.0  6.297710  0.992366   334.0  2.549618  32.72 -116.99   \n6614   4.7241  46.0  5.375758  0.954545   753.0  2.281818  34.17 -118.10   \n14233  3.3553   7.0  5.229213  1.101124  1304.0  2.930337  32.70 -117.01   \n1802   1.3929  52.0  5.000000  0.953488   126.0  2.930233  37.92 -122.36   \n6030   1.6006  52.0  4.427083  1.017361  1246.0  2.163194  34.07 -117.75   \n...       ...   ...       ...       ...     ...       ...    ...     ...   \n1377   3.8824  37.0  5.049275  0.982609  1128.0  3.269565  38.02 -122.09   \n7250   2.5395  26.0  4.528600  1.053254  1777.0  3.504931  33.99 -118.12   \n17934  3.6118  48.0  4.387324  1.035211   697.0  2.454225  37.35 -121.95   \n1355   3.5436  16.0  5.013825  1.069124  1410.0  3.248848  38.03 -121.92   \n11666  3.8864  29.0  5.160000  1.117500  1265.0  3.162500  33.85 -118.01   \n\n       target  \n14981   1.695  \n6614    2.796  \n14233   1.322  \n1802    1.042  \n6030    1.462  \n...       ...  \n1377    1.137  \n7250    1.910  \n17934   2.355  \n1355    1.002  \n11666   2.093  \n\n[11146 rows x 9 columns]",
      "text/html": "<div>\n<style scoped>\n    .dataframe tbody tr th:only-of-type {\n        vertical-align: middle;\n    }\n\n    .dataframe tbody tr th {\n        vertical-align: top;\n    }\n\n    .dataframe thead th {\n        text-align: right;\n    }\n</style>\n<table border=\"1\" class=\"dataframe\">\n  <thead>\n    <tr style=\"text-align: right;\">\n      <th></th>\n      <th>f0</th>\n      <th>f1</th>\n      <th>f2</th>\n      <th>f3</th>\n      <th>f4</th>\n      <th>f5</th>\n      <th>f6</th>\n      <th>f7</th>\n      <th>target</th>\n    </tr>\n  </thead>\n  <tbody>\n    <tr>\n      <th>14981</th>\n      <td>4.0391</td>\n      <td>15.0</td>\n      <td>6.297710</td>\n      <td>0.992366</td>\n      <td>334.0</td>\n      <td>2.549618</td>\n      <td>32.72</td>\n      <td>-116.99</td>\n      <td>1.695</td>\n    </tr>\n    <tr>\n      <th>6614</th>\n      <td>4.7241</td>\n      <td>46.0</td>\n      <td>5.375758</td>\n      <td>0.954545</td>\n      <td>753.0</td>\n      <td>2.281818</td>\n      <td>34.17</td>\n      <td>-118.10</td>\n      <td>2.796</td>\n    </tr>\n    <tr>\n      <th>14233</th>\n      <td>3.3553</td>\n      <td>7.0</td>\n      <td>5.229213</td>\n      <td>1.101124</td>\n      <td>1304.0</td>\n      <td>2.930337</td>\n      <td>32.70</td>\n      <td>-117.01</td>\n      <td>1.322</td>\n    </tr>\n    <tr>\n      <th>1802</th>\n      <td>1.3929</td>\n      <td>52.0</td>\n      <td>5.000000</td>\n      <td>0.953488</td>\n      <td>126.0</td>\n      <td>2.930233</td>\n      <td>37.92</td>\n      <td>-122.36</td>\n      <td>1.042</td>\n    </tr>\n    <tr>\n      <th>6030</th>\n      <td>1.6006</td>\n      <td>52.0</td>\n      <td>4.427083</td>\n      <td>1.017361</td>\n      <td>1246.0</td>\n      <td>2.163194</td>\n      <td>34.07</td>\n      <td>-117.75</td>\n      <td>1.462</td>\n    </tr>\n    <tr>\n      <th>...</th>\n      <td>...</td>\n      <td>...</td>\n      <td>...</td>\n      <td>...</td>\n      <td>...</td>\n      <td>...</td>\n      <td>...</td>\n      <td>...</td>\n      <td>...</td>\n    </tr>\n    <tr>\n      <th>1377</th>\n      <td>3.8824</td>\n      <td>37.0</td>\n      <td>5.049275</td>\n      <td>0.982609</td>\n      <td>1128.0</td>\n      <td>3.269565</td>\n      <td>38.02</td>\n      <td>-122.09</td>\n      <td>1.137</td>\n    </tr>\n    <tr>\n      <th>7250</th>\n      <td>2.5395</td>\n      <td>26.0</td>\n      <td>4.528600</td>\n      <td>1.053254</td>\n      <td>1777.0</td>\n      <td>3.504931</td>\n      <td>33.99</td>\n      <td>-118.12</td>\n      <td>1.910</td>\n    </tr>\n    <tr>\n      <th>17934</th>\n      <td>3.6118</td>\n      <td>48.0</td>\n      <td>4.387324</td>\n      <td>1.035211</td>\n      <td>697.0</td>\n      <td>2.454225</td>\n      <td>37.35</td>\n      <td>-121.95</td>\n      <td>2.355</td>\n    </tr>\n    <tr>\n      <th>1355</th>\n      <td>3.5436</td>\n      <td>16.0</td>\n      <td>5.013825</td>\n      <td>1.069124</td>\n      <td>1410.0</td>\n      <td>3.248848</td>\n      <td>38.03</td>\n      <td>-121.92</td>\n      <td>1.002</td>\n    </tr>\n    <tr>\n      <th>11666</th>\n      <td>3.8864</td>\n      <td>29.0</td>\n      <td>5.160000</td>\n      <td>1.117500</td>\n      <td>1265.0</td>\n      <td>3.162500</td>\n      <td>33.85</td>\n      <td>-118.01</td>\n      <td>2.093</td>\n    </tr>\n  </tbody>\n</table>\n<p>11146 rows × 9 columns</p>\n</div>"
     },
     "execution_count": 5,
     "metadata": {},
     "output_type": "execute_result"
    }
   ],
   "source": [
    "#Checking for missing values\n",
    "train.isnull().sum()\n",
    "train = train.dropna()\n",
    "train"
   ],
   "metadata": {
    "collapsed": false,
    "ExecuteTime": {
     "end_time": "2024-07-15T09:43:13.370779300Z",
     "start_time": "2024-07-15T09:43:13.281759900Z"
    }
   },
   "id": "d122130648f40153",
   "execution_count": 5
  },
  {
   "cell_type": "code",
   "outputs": [
    {
     "data": {
      "text/plain": "                 f0            f1            f2            f3            f4  \\\ncount  11146.000000  11146.000000  11146.000000  11146.000000  11146.000000   \nmean       3.879911     28.518841      5.435400      1.098660   1428.847389   \nstd        1.917411     12.554143      2.450915      0.489939   1104.163812   \nmin        0.499900      1.000000      0.846154      0.500000      3.000000   \n25%        2.558900     18.000000      4.433962      1.006135    788.000000   \n50%        3.543100     29.000000      5.221985      1.049440   1170.000000   \n75%        4.753600     37.000000      6.049334      1.099461   1745.750000   \nmax       15.000100     52.000000    132.533333     34.066667  28566.000000   \n\n                 f5            f6            f7        target  \ncount  11146.000000  11146.000000  11146.000000  11146.000000  \nmean       3.117393     35.626729   -119.561998      2.070301  \nstd       13.263232      2.136671      1.998680      1.147234  \nmin        0.692308     32.550000   -124.350000      0.149990  \n25%        2.428343     33.930000   -121.790000      1.202000  \n50%        2.816541     34.250000   -118.490000      1.804000  \n75%        3.272933     37.710000   -118.020000      2.653000  \nmax     1243.333333     41.950000   -114.550000      5.000010  ",
      "text/html": "<div>\n<style scoped>\n    .dataframe tbody tr th:only-of-type {\n        vertical-align: middle;\n    }\n\n    .dataframe tbody tr th {\n        vertical-align: top;\n    }\n\n    .dataframe thead th {\n        text-align: right;\n    }\n</style>\n<table border=\"1\" class=\"dataframe\">\n  <thead>\n    <tr style=\"text-align: right;\">\n      <th></th>\n      <th>f0</th>\n      <th>f1</th>\n      <th>f2</th>\n      <th>f3</th>\n      <th>f4</th>\n      <th>f5</th>\n      <th>f6</th>\n      <th>f7</th>\n      <th>target</th>\n    </tr>\n  </thead>\n  <tbody>\n    <tr>\n      <th>count</th>\n      <td>11146.000000</td>\n      <td>11146.000000</td>\n      <td>11146.000000</td>\n      <td>11146.000000</td>\n      <td>11146.000000</td>\n      <td>11146.000000</td>\n      <td>11146.000000</td>\n      <td>11146.000000</td>\n      <td>11146.000000</td>\n    </tr>\n    <tr>\n      <th>mean</th>\n      <td>3.879911</td>\n      <td>28.518841</td>\n      <td>5.435400</td>\n      <td>1.098660</td>\n      <td>1428.847389</td>\n      <td>3.117393</td>\n      <td>35.626729</td>\n      <td>-119.561998</td>\n      <td>2.070301</td>\n    </tr>\n    <tr>\n      <th>std</th>\n      <td>1.917411</td>\n      <td>12.554143</td>\n      <td>2.450915</td>\n      <td>0.489939</td>\n      <td>1104.163812</td>\n      <td>13.263232</td>\n      <td>2.136671</td>\n      <td>1.998680</td>\n      <td>1.147234</td>\n    </tr>\n    <tr>\n      <th>min</th>\n      <td>0.499900</td>\n      <td>1.000000</td>\n      <td>0.846154</td>\n      <td>0.500000</td>\n      <td>3.000000</td>\n      <td>0.692308</td>\n      <td>32.550000</td>\n      <td>-124.350000</td>\n      <td>0.149990</td>\n    </tr>\n    <tr>\n      <th>25%</th>\n      <td>2.558900</td>\n      <td>18.000000</td>\n      <td>4.433962</td>\n      <td>1.006135</td>\n      <td>788.000000</td>\n      <td>2.428343</td>\n      <td>33.930000</td>\n      <td>-121.790000</td>\n      <td>1.202000</td>\n    </tr>\n    <tr>\n      <th>50%</th>\n      <td>3.543100</td>\n      <td>29.000000</td>\n      <td>5.221985</td>\n      <td>1.049440</td>\n      <td>1170.000000</td>\n      <td>2.816541</td>\n      <td>34.250000</td>\n      <td>-118.490000</td>\n      <td>1.804000</td>\n    </tr>\n    <tr>\n      <th>75%</th>\n      <td>4.753600</td>\n      <td>37.000000</td>\n      <td>6.049334</td>\n      <td>1.099461</td>\n      <td>1745.750000</td>\n      <td>3.272933</td>\n      <td>37.710000</td>\n      <td>-118.020000</td>\n      <td>2.653000</td>\n    </tr>\n    <tr>\n      <th>max</th>\n      <td>15.000100</td>\n      <td>52.000000</td>\n      <td>132.533333</td>\n      <td>34.066667</td>\n      <td>28566.000000</td>\n      <td>1243.333333</td>\n      <td>41.950000</td>\n      <td>-114.550000</td>\n      <td>5.000010</td>\n    </tr>\n  </tbody>\n</table>\n</div>"
     },
     "execution_count": 6,
     "metadata": {},
     "output_type": "execute_result"
    }
   ],
   "source": [
    "# Show general information about the data (mean, ste, etc. by feature)\n",
    "train.describe()"
   ],
   "metadata": {
    "collapsed": false,
    "ExecuteTime": {
     "end_time": "2024-07-15T09:43:14.535758200Z",
     "start_time": "2024-07-15T09:43:14.485760100Z"
    }
   },
   "id": "c21df38687cd1f61",
   "execution_count": 6
  },
  {
   "cell_type": "code",
   "outputs": [
    {
     "data": {
      "text/plain": "            f0                                                            \\\n         count      mean       std     min       25%      50%        75%   \ntarget                                                                     \n0.14999    2.0  1.098350  0.795283  0.5360  0.817175  1.09835   1.379525   \n0.17500    1.0  2.366700       NaN  2.3667  2.366700  2.36670   2.366700   \n0.25000    1.0  0.857100       NaN  0.8571  0.857100  0.85710   0.857100   \n0.27500    1.0  1.265600       NaN  1.2656  1.265600  1.26560   1.265600   \n0.28300    1.0  2.737700       NaN  2.7377  2.737700  2.73770   2.737700   \n...        ...       ...       ...     ...       ...      ...        ...   \n4.98800    1.0  8.248000       NaN  8.2480  8.248000  8.24800   8.248000   \n4.99000    1.0  8.148900       NaN  8.1489  8.148900  8.14890   8.148900   \n4.99100    1.0  6.786100       NaN  6.7861  6.786100  6.78610   6.786100   \n5.00000   15.0  3.472600  1.307130  1.2656  2.481950  3.61210   4.352100   \n5.00001  503.0  8.028735  3.292247  0.4999  5.373000  7.89970  10.229050   \n\n                     f1            ...      f6            f7              \\\n             max  count      mean  ...     75%    max  count        mean   \ntarget                             ...                                     \n0.14999   1.6607    2.0  26.00000  ...  40.160  40.31    2.0 -122.955000   \n0.17500   2.3667    1.0  39.00000  ...  34.150  34.15    1.0 -118.330000   \n0.25000   0.8571    1.0  21.00000  ...  32.790  32.79    1.0 -114.650000   \n0.27500   1.2656    1.0  17.00000  ...  33.920  33.92    1.0 -114.670000   \n0.28300   2.7377    1.0  29.00000  ...  34.700  34.70    1.0 -120.590000   \n...          ...    ...       ...  ...     ...    ...    ...         ...   \n4.98800   8.2480    1.0  29.00000  ...  37.330  37.33    1.0 -122.060000   \n4.99000   8.1489    1.0  18.00000  ...  37.890  37.89    1.0 -122.180000   \n4.99100   6.7861    1.0  28.00000  ...  33.550  33.55    1.0 -117.770000   \n5.00000   6.0199   15.0  35.60000  ...  37.635  37.80   15.0 -119.902667   \n5.00001  15.0001  503.0  33.40159  ...  37.380  37.98  503.0 -119.667654   \n\n                                                                \n              std     min       25%      50%       75%     max  \ntarget                                                          \n0.14999  0.304056 -123.17 -123.0625 -122.955 -122.8475 -122.74  \n0.17500       NaN -118.33 -118.3300 -118.330 -118.3300 -118.33  \n0.25000       NaN -114.65 -114.6500 -114.650 -114.6500 -114.65  \n0.27500       NaN -114.67 -114.6700 -114.670 -114.6700 -114.67  \n0.28300       NaN -120.59 -120.5900 -120.590 -120.5900 -120.59  \n...           ...     ...       ...      ...       ...     ...  \n4.98800       NaN -122.06 -122.0600 -122.060 -122.0600 -122.06  \n4.99000       NaN -122.18 -122.1800 -122.180 -122.1800 -122.18  \n4.99100       NaN -117.77 -117.7700 -117.770 -117.7700 -117.77  \n5.00000  2.141043 -122.49 -122.4400 -118.480 -118.2300 -117.38  \n5.00001  1.911683 -122.56 -122.0900 -118.490 -118.3400 -116.55  \n\n[3311 rows x 64 columns]",
      "text/html": "<div>\n<style scoped>\n    .dataframe tbody tr th:only-of-type {\n        vertical-align: middle;\n    }\n\n    .dataframe tbody tr th {\n        vertical-align: top;\n    }\n\n    .dataframe thead tr th {\n        text-align: left;\n    }\n\n    .dataframe thead tr:last-of-type th {\n        text-align: right;\n    }\n</style>\n<table border=\"1\" class=\"dataframe\">\n  <thead>\n    <tr>\n      <th></th>\n      <th colspan=\"8\" halign=\"left\">f0</th>\n      <th colspan=\"2\" halign=\"left\">f1</th>\n      <th>...</th>\n      <th colspan=\"2\" halign=\"left\">f6</th>\n      <th colspan=\"8\" halign=\"left\">f7</th>\n    </tr>\n    <tr>\n      <th></th>\n      <th>count</th>\n      <th>mean</th>\n      <th>std</th>\n      <th>min</th>\n      <th>25%</th>\n      <th>50%</th>\n      <th>75%</th>\n      <th>max</th>\n      <th>count</th>\n      <th>mean</th>\n      <th>...</th>\n      <th>75%</th>\n      <th>max</th>\n      <th>count</th>\n      <th>mean</th>\n      <th>std</th>\n      <th>min</th>\n      <th>25%</th>\n      <th>50%</th>\n      <th>75%</th>\n      <th>max</th>\n    </tr>\n    <tr>\n      <th>target</th>\n      <th></th>\n      <th></th>\n      <th></th>\n      <th></th>\n      <th></th>\n      <th></th>\n      <th></th>\n      <th></th>\n      <th></th>\n      <th></th>\n      <th></th>\n      <th></th>\n      <th></th>\n      <th></th>\n      <th></th>\n      <th></th>\n      <th></th>\n      <th></th>\n      <th></th>\n      <th></th>\n      <th></th>\n    </tr>\n  </thead>\n  <tbody>\n    <tr>\n      <th>0.14999</th>\n      <td>2.0</td>\n      <td>1.098350</td>\n      <td>0.795283</td>\n      <td>0.5360</td>\n      <td>0.817175</td>\n      <td>1.09835</td>\n      <td>1.379525</td>\n      <td>1.6607</td>\n      <td>2.0</td>\n      <td>26.00000</td>\n      <td>...</td>\n      <td>40.160</td>\n      <td>40.31</td>\n      <td>2.0</td>\n      <td>-122.955000</td>\n      <td>0.304056</td>\n      <td>-123.17</td>\n      <td>-123.0625</td>\n      <td>-122.955</td>\n      <td>-122.8475</td>\n      <td>-122.74</td>\n    </tr>\n    <tr>\n      <th>0.17500</th>\n      <td>1.0</td>\n      <td>2.366700</td>\n      <td>NaN</td>\n      <td>2.3667</td>\n      <td>2.366700</td>\n      <td>2.36670</td>\n      <td>2.366700</td>\n      <td>2.3667</td>\n      <td>1.0</td>\n      <td>39.00000</td>\n      <td>...</td>\n      <td>34.150</td>\n      <td>34.15</td>\n      <td>1.0</td>\n      <td>-118.330000</td>\n      <td>NaN</td>\n      <td>-118.33</td>\n      <td>-118.3300</td>\n      <td>-118.330</td>\n      <td>-118.3300</td>\n      <td>-118.33</td>\n    </tr>\n    <tr>\n      <th>0.25000</th>\n      <td>1.0</td>\n      <td>0.857100</td>\n      <td>NaN</td>\n      <td>0.8571</td>\n      <td>0.857100</td>\n      <td>0.85710</td>\n      <td>0.857100</td>\n      <td>0.8571</td>\n      <td>1.0</td>\n      <td>21.00000</td>\n      <td>...</td>\n      <td>32.790</td>\n      <td>32.79</td>\n      <td>1.0</td>\n      <td>-114.650000</td>\n      <td>NaN</td>\n      <td>-114.65</td>\n      <td>-114.6500</td>\n      <td>-114.650</td>\n      <td>-114.6500</td>\n      <td>-114.65</td>\n    </tr>\n    <tr>\n      <th>0.27500</th>\n      <td>1.0</td>\n      <td>1.265600</td>\n      <td>NaN</td>\n      <td>1.2656</td>\n      <td>1.265600</td>\n      <td>1.26560</td>\n      <td>1.265600</td>\n      <td>1.2656</td>\n      <td>1.0</td>\n      <td>17.00000</td>\n      <td>...</td>\n      <td>33.920</td>\n      <td>33.92</td>\n      <td>1.0</td>\n      <td>-114.670000</td>\n      <td>NaN</td>\n      <td>-114.67</td>\n      <td>-114.6700</td>\n      <td>-114.670</td>\n      <td>-114.6700</td>\n      <td>-114.67</td>\n    </tr>\n    <tr>\n      <th>0.28300</th>\n      <td>1.0</td>\n      <td>2.737700</td>\n      <td>NaN</td>\n      <td>2.7377</td>\n      <td>2.737700</td>\n      <td>2.73770</td>\n      <td>2.737700</td>\n      <td>2.7377</td>\n      <td>1.0</td>\n      <td>29.00000</td>\n      <td>...</td>\n      <td>34.700</td>\n      <td>34.70</td>\n      <td>1.0</td>\n      <td>-120.590000</td>\n      <td>NaN</td>\n      <td>-120.59</td>\n      <td>-120.5900</td>\n      <td>-120.590</td>\n      <td>-120.5900</td>\n      <td>-120.59</td>\n    </tr>\n    <tr>\n      <th>...</th>\n      <td>...</td>\n      <td>...</td>\n      <td>...</td>\n      <td>...</td>\n      <td>...</td>\n      <td>...</td>\n      <td>...</td>\n      <td>...</td>\n      <td>...</td>\n      <td>...</td>\n      <td>...</td>\n      <td>...</td>\n      <td>...</td>\n      <td>...</td>\n      <td>...</td>\n      <td>...</td>\n      <td>...</td>\n      <td>...</td>\n      <td>...</td>\n      <td>...</td>\n      <td>...</td>\n    </tr>\n    <tr>\n      <th>4.98800</th>\n      <td>1.0</td>\n      <td>8.248000</td>\n      <td>NaN</td>\n      <td>8.2480</td>\n      <td>8.248000</td>\n      <td>8.24800</td>\n      <td>8.248000</td>\n      <td>8.2480</td>\n      <td>1.0</td>\n      <td>29.00000</td>\n      <td>...</td>\n      <td>37.330</td>\n      <td>37.33</td>\n      <td>1.0</td>\n      <td>-122.060000</td>\n      <td>NaN</td>\n      <td>-122.06</td>\n      <td>-122.0600</td>\n      <td>-122.060</td>\n      <td>-122.0600</td>\n      <td>-122.06</td>\n    </tr>\n    <tr>\n      <th>4.99000</th>\n      <td>1.0</td>\n      <td>8.148900</td>\n      <td>NaN</td>\n      <td>8.1489</td>\n      <td>8.148900</td>\n      <td>8.14890</td>\n      <td>8.148900</td>\n      <td>8.1489</td>\n      <td>1.0</td>\n      <td>18.00000</td>\n      <td>...</td>\n      <td>37.890</td>\n      <td>37.89</td>\n      <td>1.0</td>\n      <td>-122.180000</td>\n      <td>NaN</td>\n      <td>-122.18</td>\n      <td>-122.1800</td>\n      <td>-122.180</td>\n      <td>-122.1800</td>\n      <td>-122.18</td>\n    </tr>\n    <tr>\n      <th>4.99100</th>\n      <td>1.0</td>\n      <td>6.786100</td>\n      <td>NaN</td>\n      <td>6.7861</td>\n      <td>6.786100</td>\n      <td>6.78610</td>\n      <td>6.786100</td>\n      <td>6.7861</td>\n      <td>1.0</td>\n      <td>28.00000</td>\n      <td>...</td>\n      <td>33.550</td>\n      <td>33.55</td>\n      <td>1.0</td>\n      <td>-117.770000</td>\n      <td>NaN</td>\n      <td>-117.77</td>\n      <td>-117.7700</td>\n      <td>-117.770</td>\n      <td>-117.7700</td>\n      <td>-117.77</td>\n    </tr>\n    <tr>\n      <th>5.00000</th>\n      <td>15.0</td>\n      <td>3.472600</td>\n      <td>1.307130</td>\n      <td>1.2656</td>\n      <td>2.481950</td>\n      <td>3.61210</td>\n      <td>4.352100</td>\n      <td>6.0199</td>\n      <td>15.0</td>\n      <td>35.60000</td>\n      <td>...</td>\n      <td>37.635</td>\n      <td>37.80</td>\n      <td>15.0</td>\n      <td>-119.902667</td>\n      <td>2.141043</td>\n      <td>-122.49</td>\n      <td>-122.4400</td>\n      <td>-118.480</td>\n      <td>-118.2300</td>\n      <td>-117.38</td>\n    </tr>\n    <tr>\n      <th>5.00001</th>\n      <td>503.0</td>\n      <td>8.028735</td>\n      <td>3.292247</td>\n      <td>0.4999</td>\n      <td>5.373000</td>\n      <td>7.89970</td>\n      <td>10.229050</td>\n      <td>15.0001</td>\n      <td>503.0</td>\n      <td>33.40159</td>\n      <td>...</td>\n      <td>37.380</td>\n      <td>37.98</td>\n      <td>503.0</td>\n      <td>-119.667654</td>\n      <td>1.911683</td>\n      <td>-122.56</td>\n      <td>-122.0900</td>\n      <td>-118.490</td>\n      <td>-118.3400</td>\n      <td>-116.55</td>\n    </tr>\n  </tbody>\n</table>\n<p>3311 rows × 64 columns</p>\n</div>"
     },
     "execution_count": 7,
     "metadata": {},
     "output_type": "execute_result"
    }
   ],
   "source": [
    "# Information about the training data - group by label\n",
    "train.groupby('target').describe()"
   ],
   "metadata": {
    "collapsed": false,
    "ExecuteTime": {
     "end_time": "2024-07-15T09:43:51.760758700Z",
     "start_time": "2024-07-15T09:43:15.740758800Z"
    }
   },
   "id": "9faac1d68750506b",
   "execution_count": 7
  },
  {
   "cell_type": "code",
   "outputs": [],
   "source": [
    "# Splitting the data into features and labels dataframes\n",
    "train_features, train_labels = train.drop('target', axis=1), train['target']\n",
    "dev_features, dev_labels = dev.drop('target', axis=1), dev['target']\n",
    "test_features, test_labels = test.drop('target', axis=1), test['target']"
   ],
   "metadata": {
    "collapsed": false,
    "ExecuteTime": {
     "end_time": "2024-07-15T09:43:51.797759200Z",
     "start_time": "2024-07-15T09:43:51.765773Z"
    }
   },
   "id": "dcedeacbbc1913e",
   "execution_count": 8
  },
  {
   "cell_type": "code",
   "outputs": [
    {
     "data": {
      "text/plain": "<Axes: >"
     },
     "execution_count": 9,
     "metadata": {},
     "output_type": "execute_result"
    },
    {
     "data": {
      "text/plain": "<Figure size 640x480 with 2 Axes>",
      "image/png": "[encoded data removed]"
     },
     "metadata": {},
     "output_type": "display_data"
    }
   ],
   "source": [
    "# Check for redundant feature. We decide against removing features since the correlations are not strong enough\n",
    "sns.heatmap(train_features.corr())"
   ],
   "metadata": {
    "collapsed": false,
    "ExecuteTime": {
     "end_time": "2024-07-15T09:43:52.374759100Z",
     "start_time": "2024-07-15T09:43:51.778758100Z"
    }
   },
   "id": "2e7c769a338b39a5",
   "execution_count": 9
  },
  {
   "cell_type": "code",
   "outputs": [
    {
     "data": {
      "text/plain": "           f0    f1        f2        f3      f4        f5     f6      f7\n14981  4.0391  15.0  6.297710  0.992366   334.0  2.549618  32.72 -116.99\n6614   4.7241  46.0  5.375758  0.954545   753.0  2.281818  34.17 -118.10\n14233  3.3553   7.0  5.229213  1.101124  1304.0  2.930337  32.70 -117.01\n1802   1.3929  52.0  5.000000  0.953488   126.0  2.930233  37.92 -122.36\n6030   1.6006  52.0  4.427083  1.017361  1246.0  2.163194  34.07 -117.75\n...       ...   ...       ...       ...     ...       ...    ...     ...\n1377   3.8824  37.0  5.049275  0.982609  1128.0  3.269565  38.02 -122.09\n7250   2.5395  26.0  4.528600  1.053254  1777.0  3.504931  33.99 -118.12\n17934  3.6118  48.0  4.387324  1.035211   697.0  2.454225  37.35 -121.95\n1355   3.5436  16.0  5.013825  1.069124  1410.0  3.248848  38.03 -121.92\n11666  3.8864  29.0  5.160000  1.117500  1265.0  3.162500  33.85 -118.01\n\n[11146 rows x 8 columns]",
      "text/html": "<div>\n<style scoped>\n    .dataframe tbody tr th:only-of-type {\n        vertical-align: middle;\n    }\n\n    .dataframe tbody tr th {\n        vertical-align: top;\n    }\n\n    .dataframe thead th {\n        text-align: right;\n    }\n</style>\n<table border=\"1\" class=\"dataframe\">\n  <thead>\n    <tr style=\"text-align: right;\">\n      <th></th>\n      <th>f0</th>\n      <th>f1</th>\n      <th>f2</th>\n      <th>f3</th>\n      <th>f4</th>\n      <th>f5</th>\n      <th>f6</th>\n      <th>f7</th>\n    </tr>\n  </thead>\n  <tbody>\n    <tr>\n      <th>14981</th>\n      <td>4.0391</td>\n      <td>15.0</td>\n      <td>6.297710</td>\n      <td>0.992366</td>\n      <td>334.0</td>\n      <td>2.549618</td>\n      <td>32.72</td>\n      <td>-116.99</td>\n    </tr>\n    <tr>\n      <th>6614</th>\n      <td>4.7241</td>\n      <td>46.0</td>\n      <td>5.375758</td>\n      <td>0.954545</td>\n      <td>753.0</td>\n      <td>2.281818</td>\n      <td>34.17</td>\n      <td>-118.10</td>\n    </tr>\n    <tr>\n      <th>14233</th>\n      <td>3.3553</td>\n      <td>7.0</td>\n      <td>5.229213</td>\n      <td>1.101124</td>\n      <td>1304.0</td>\n      <td>2.930337</td>\n      <td>32.70</td>\n      <td>-117.01</td>\n    </tr>\n    <tr>\n      <th>1802</th>\n      <td>1.3929</td>\n      <td>52.0</td>\n      <td>5.000000</td>\n      <td>0.953488</td>\n      <td>126.0</td>\n      <td>2.930233</td>\n      <td>37.92</td>\n      <td>-122.36</td>\n    </tr>\n    <tr>\n      <th>6030</th>\n      <td>1.6006</td>\n      <td>52.0</td>\n      <td>4.427083</td>\n      <td>1.017361</td>\n      <td>1246.0</td>\n      <td>2.163194</td>\n      <td>34.07</td>\n      <td>-117.75</td>\n    </tr>\n    <tr>\n      <th>...</th>\n      <td>...</td>\n      <td>...</td>\n      <td>...</td>\n      <td>...</td>\n      <td>...</td>\n      <td>...</td>\n      <td>...</td>\n      <td>...</td>\n    </tr>\n    <tr>\n      <th>1377</th>\n      <td>3.8824</td>\n      <td>37.0</td>\n      <td>5.049275</td>\n      <td>0.982609</td>\n      <td>1128.0</td>\n      <td>3.269565</td>\n      <td>38.02</td>\n      <td>-122.09</td>\n    </tr>\n    <tr>\n      <th>7250</th>\n      <td>2.5395</td>\n      <td>26.0</td>\n      <td>4.528600</td>\n      <td>1.053254</td>\n      <td>1777.0</td>\n      <td>3.504931</td>\n      <td>33.99</td>\n      <td>-118.12</td>\n    </tr>\n    <tr>\n      <th>17934</th>\n      <td>3.6118</td>\n      <td>48.0</td>\n      <td>4.387324</td>\n      <td>1.035211</td>\n      <td>697.0</td>\n      <td>2.454225</td>\n      <td>37.35</td>\n      <td>-121.95</td>\n    </tr>\n    <tr>\n      <th>1355</th>\n      <td>3.5436</td>\n      <td>16.0</td>\n      <td>5.013825</td>\n      <td>1.069124</td>\n      <td>1410.0</td>\n      <td>3.248848</td>\n      <td>38.03</td>\n      <td>-121.92</td>\n    </tr>\n    <tr>\n      <th>11666</th>\n      <td>3.8864</td>\n      <td>29.0</td>\n      <td>5.160000</td>\n      <td>1.117500</td>\n      <td>1265.0</td>\n      <td>3.162500</td>\n      <td>33.85</td>\n      <td>-118.01</td>\n    </tr>\n  </tbody>\n</table>\n<p>11146 rows × 8 columns</p>\n</div>"
     },
     "execution_count": 10,
     "metadata": {},
     "output_type": "execute_result"
    }
   ],
   "source": [
    "train_features"
   ],
   "metadata": {
    "collapsed": false,
    "ExecuteTime": {
     "end_time": "2024-07-15T09:43:52.564761Z",
     "start_time": "2024-07-15T09:43:52.157758400Z"
    }
   },
   "id": "e9471af2991efc34",
   "execution_count": 10
  },
  {
   "cell_type": "code",
   "outputs": [
    {
     "data": {
      "text/plain": "           PCA0      PCA1\n0     -1.195277  1.374442\n1     -0.736618  0.091041\n2     -1.496387  1.416940\n3      1.259177 -2.184761\n4     -1.193586 -0.442399\n...         ...       ...\n11141  1.183886 -1.381305\n11142 -1.133400  0.273902\n11143  0.960789 -1.631768\n11144  1.130001 -0.834284\n11145 -0.883257  0.586888\n\n[11146 rows x 2 columns]",
      "text/html": "<div>\n<style scoped>\n    .dataframe tbody tr th:only-of-type {\n        vertical-align: middle;\n    }\n\n    .dataframe tbody tr th {\n        vertical-align: top;\n    }\n\n    .dataframe thead th {\n        text-align: right;\n    }\n</style>\n<table border=\"1\" class=\"dataframe\">\n  <thead>\n    <tr style=\"text-align: right;\">\n      <th></th>\n      <th>PCA0</th>\n      <th>PCA1</th>\n    </tr>\n  </thead>\n  <tbody>\n    <tr>\n      <th>0</th>\n      <td>-1.195277</td>\n      <td>1.374442</td>\n    </tr>\n    <tr>\n      <th>1</th>\n      <td>-0.736618</td>\n      <td>0.091041</td>\n    </tr>\n    <tr>\n      <th>2</th>\n      <td>-1.496387</td>\n      <td>1.416940</td>\n    </tr>\n    <tr>\n      <th>3</th>\n      <td>1.259177</td>\n      <td>-2.184761</td>\n    </tr>\n    <tr>\n      <th>4</th>\n      <td>-1.193586</td>\n      <td>-0.442399</td>\n    </tr>\n    <tr>\n      <th>...</th>\n      <td>...</td>\n      <td>...</td>\n    </tr>\n    <tr>\n      <th>11141</th>\n      <td>1.183886</td>\n      <td>-1.381305</td>\n    </tr>\n    <tr>\n      <th>11142</th>\n      <td>-1.133400</td>\n      <td>0.273902</td>\n    </tr>\n    <tr>\n      <th>11143</th>\n      <td>0.960789</td>\n      <td>-1.631768</td>\n    </tr>\n    <tr>\n      <th>11144</th>\n      <td>1.130001</td>\n      <td>-0.834284</td>\n    </tr>\n    <tr>\n      <th>11145</th>\n      <td>-0.883257</td>\n      <td>0.586888</td>\n    </tr>\n  </tbody>\n</table>\n<p>11146 rows × 2 columns</p>\n</div>"
     },
     "execution_count": 11,
     "metadata": {},
     "output_type": "execute_result"
    }
   ],
   "source": [
    "from sklearn.preprocessing import StandardScaler\n",
    "from sklearn.pipeline import make_pipeline\n",
    "from sklearn.decomposition import PCA\n",
    "pca = make_pipeline(StandardScaler(), PCA(n_components=2))\n",
    "pca.fit(train_features)\n",
    "pca_train_features = pd.DataFrame(pca.transform(train_features), columns=[f'PCA{i}' for i in range(2)])\n",
    "pca_train_features"
   ],
   "metadata": {
    "collapsed": false,
    "ExecuteTime": {
     "end_time": "2024-07-15T09:43:52.674757100Z",
     "start_time": "2024-07-15T09:43:52.188758200Z"
    }
   },
   "id": "10e7b330f9941b7a",
   "execution_count": 11
  },
  {
   "cell_type": "code",
   "outputs": [
    {
     "data": {
      "text/plain": "<Axes: xlabel='PCA0', ylabel='PCA1'>"
     },
     "execution_count": 12,
     "metadata": {},
     "output_type": "execute_result"
    },
    {
     "data": {
      "text/plain": "<Figure size 640x480 with 1 Axes>",
      "image/png": "[encoded data removed]"
     },
     "metadata": {},
     "output_type": "display_data"
    }
   ],
   "source": [
    "pca_train = pd.concat([pca_train_features, train_labels], ignore_index=True, axis=1)\n",
    "pca_train.columns = ['PCA0','PCA1','target']\n",
    "sns.scatterplot(data=pca_train, x='PCA0', y='PCA1', hue='target')"
   ],
   "metadata": {
    "collapsed": false,
    "ExecuteTime": {
     "end_time": "2024-07-15T09:43:53.383411600Z",
     "start_time": "2024-07-15T09:43:52.236759500Z"
    }
   },
   "id": "4c71d2e41dd8c087",
   "execution_count": 12
  },
  {
   "cell_type": "code",
   "outputs": [],
   "source": [
    "best_models = {}"
   ],
   "metadata": {
    "collapsed": false,
    "ExecuteTime": {
     "end_time": "2024-07-15T09:43:53.390461200Z",
     "start_time": "2024-07-15T09:43:53.275757900Z"
    }
   },
   "id": "e300a38fa0a9b0f2",
   "execution_count": 13
  },
  {
   "cell_type": "code",
   "outputs": [
    {
     "name": "stderr",
     "output_type": "stream",
     "text": [
      "[I 2024-07-15 12:43:53,294] A new study created in memory with name: no-name-4a188acc-cc9e-4a60-8f22-413edecd9a70\n",
      "[I 2024-07-15 12:43:54,394] Trial 0 finished with value: 0.42517688600722625 and parameters: {'n_estimators': 100, 'max_depth': 5, 'learning_rate': 0.016805746631803398}. Best is trial 0 with value: 0.42517688600722625.\n",
      "[I 2024-07-15 12:43:55,303] Trial 1 finished with value: 0.21916254302736154 and parameters: {'n_estimators': 200, 'max_depth': 6, 'learning_rate': 0.12017855385080861}. Best is trial 1 with value: 0.21916254302736154.\n",
      "[I 2024-07-15 12:43:56,049] Trial 2 finished with value: 0.2188828151262568 and parameters: {'n_estimators': 250, 'max_depth': 6, 'learning_rate': 0.21380179304300065}. Best is trial 2 with value: 0.2188828151262568.\n",
      "[I 2024-07-15 12:43:56,676] Trial 3 finished with value: 0.2525227727191826 and parameters: {'n_estimators': 150, 'max_depth': 6, 'learning_rate': 0.0362712766231022}. Best is trial 2 with value: 0.2188828151262568.\n",
      "[I 2024-07-15 12:43:57,852] Trial 4 finished with value: 0.26125100502594895 and parameters: {'n_estimators': 150, 'max_depth': 7, 'learning_rate': 0.023818176635467377}. Best is trial 2 with value: 0.2188828151262568.\n",
      "[I 2024-07-15 12:43:58,170] Trial 5 finished with value: 0.22033147888194524 and parameters: {'n_estimators': 150, 'max_depth': 5, 'learning_rate': 0.28647876692009355}. Best is trial 2 with value: 0.2188828151262568.\n",
      "[I 2024-07-15 12:43:59,505] Trial 6 finished with value: 0.2321463681958374 and parameters: {'n_estimators': 200, 'max_depth': 9, 'learning_rate': 0.1918641392019639}. Best is trial 2 with value: 0.2188828151262568.\n",
      "[I 2024-07-15 12:44:01,948] Trial 7 finished with value: 0.24054191387526433 and parameters: {'n_estimators': 250, 'max_depth': 10, 'learning_rate': 0.1583113616130814}. Best is trial 2 with value: 0.2188828151262568.\n",
      "[I 2024-07-15 12:44:02,086] Trial 8 finished with value: 0.24010345078950276 and parameters: {'n_estimators': 100, 'max_depth': 4, 'learning_rate': 0.26407296183417345}. Best is trial 2 with value: 0.2188828151262568.\n",
      "[I 2024-07-15 12:44:03,635] Trial 9 finished with value: 0.2395843438060132 and parameters: {'n_estimators': 150, 'max_depth': 10, 'learning_rate': 0.15741125774461356}. Best is trial 2 with value: 0.2188828151262568.\n",
      "[I 2024-07-15 12:44:03,851] Trial 10 finished with value: 0.23229804213853772 and parameters: {'n_estimators': 250, 'max_depth': 3, 'learning_rate': 0.23268242075537443}. Best is trial 2 with value: 0.2188828151262568.\n",
      "[I 2024-07-15 12:44:04,453] Trial 11 finished with value: 0.21729093336344193 and parameters: {'n_estimators': 200, 'max_depth': 7, 'learning_rate': 0.08456757494423056}. Best is trial 11 with value: 0.21729093336344193.\n",
      "[I 2024-07-15 12:44:05,505] Trial 12 finished with value: 0.2167449701300401 and parameters: {'n_estimators': 250, 'max_depth': 8, 'learning_rate': 0.08227054852184344}. Best is trial 12 with value: 0.2167449701300401.\n",
      "[I 2024-07-15 12:44:06,362] Trial 13 finished with value: 0.21526052554381878 and parameters: {'n_estimators': 200, 'max_depth': 8, 'learning_rate': 0.09077006766962577}. Best is trial 13 with value: 0.21526052554381878.\n",
      "[I 2024-07-15 12:44:07,473] Trial 14 finished with value: 0.21431804579525623 and parameters: {'n_estimators': 250, 'max_depth': 8, 'learning_rate': 0.07366962181992907}. Best is trial 14 with value: 0.21431804579525623.\n",
      "[I 2024-07-15 12:44:08,385] Trial 15 finished with value: 0.21833450936627807 and parameters: {'n_estimators': 200, 'max_depth': 8, 'learning_rate': 0.08461407325511694}. Best is trial 14 with value: 0.21431804579525623.\n",
      "[I 2024-07-15 12:44:09,437] Trial 16 finished with value: 0.21882962559956864 and parameters: {'n_estimators': 250, 'max_depth': 8, 'learning_rate': 0.11891281469500785}. Best is trial 14 with value: 0.21431804579525623.\n",
      "[I 2024-07-15 12:44:11,037] Trial 17 finished with value: 0.22481184958650582 and parameters: {'n_estimators': 200, 'max_depth': 9, 'learning_rate': 0.05659828144975493}. Best is trial 14 with value: 0.21431804579525623.\n",
      "[I 2024-07-15 12:44:12,698] Trial 18 finished with value: 0.2235141438422182 and parameters: {'n_estimators': 250, 'max_depth': 9, 'learning_rate': 0.12422526122475602}. Best is trial 14 with value: 0.21431804579525623.\n",
      "[I 2024-07-15 12:44:13,322] Trial 19 finished with value: 0.2203535878443723 and parameters: {'n_estimators': 200, 'max_depth': 7, 'learning_rate': 0.06747801178417927}. Best is trial 14 with value: 0.21431804579525623.\n",
      "[I 2024-07-15 12:44:14,380] Trial 20 finished with value: 0.22054907382441094 and parameters: {'n_estimators': 250, 'max_depth': 8, 'learning_rate': 0.10189167188931482}. Best is trial 14 with value: 0.21431804579525623.\n",
      "[I 2024-07-15 12:44:15,466] Trial 21 finished with value: 0.21784978979439829 and parameters: {'n_estimators': 250, 'max_depth': 8, 'learning_rate': 0.05367436431224248}. Best is trial 14 with value: 0.21431804579525623.\n",
      "[I 2024-07-15 12:44:17,105] Trial 22 finished with value: 0.22078029792051942 and parameters: {'n_estimators': 250, 'max_depth': 9, 'learning_rate': 0.08825104367744692}. Best is trial 14 with value: 0.21431804579525623.\n",
      "[I 2024-07-15 12:44:17,973] Trial 23 finished with value: 0.2203335876778006 and parameters: {'n_estimators': 200, 'max_depth': 8, 'learning_rate': 0.1291603825343273}. Best is trial 14 with value: 0.21431804579525623.\n",
      "[I 2024-07-15 12:44:18,740] Trial 24 finished with value: 0.22117266769854985 and parameters: {'n_estimators': 250, 'max_depth': 7, 'learning_rate': 0.04984564007312438}. Best is trial 14 with value: 0.21431804579525623.\n",
      "[I 2024-07-15 12:44:20,719] Trial 25 finished with value: 0.23963163442326627 and parameters: {'n_estimators': 200, 'max_depth': 10, 'learning_rate': 0.1769171478512294}. Best is trial 14 with value: 0.21431804579525623.\n",
      "[I 2024-07-15 12:44:22,296] Trial 26 finished with value: 0.22228951292469037 and parameters: {'n_estimators': 250, 'max_depth': 9, 'learning_rate': 0.10285216037320126}. Best is trial 14 with value: 0.21431804579525623.\n",
      "[I 2024-07-15 12:44:23,315] Trial 27 finished with value: 0.22078682672842725 and parameters: {'n_estimators': 250, 'max_depth': 8, 'learning_rate': 0.14393423272234998}. Best is trial 14 with value: 0.21431804579525623.\n",
      "[I 2024-07-15 12:44:23,907] Trial 28 finished with value: 0.21991042603132652 and parameters: {'n_estimators': 200, 'max_depth': 7, 'learning_rate': 0.06897916458839126}. Best is trial 14 with value: 0.21431804579525623.\n",
      "[I 2024-07-15 12:44:24,099] Trial 29 finished with value: 0.44479484642486616 and parameters: {'n_estimators': 100, 'max_depth': 5, 'learning_rate': 0.01530555424951286}. Best is trial 14 with value: 0.21431804579525623.\n",
      "[I 2024-07-15 12:44:24,440] Trial 30 finished with value: 0.24505109023234284 and parameters: {'n_estimators': 150, 'max_depth': 6, 'learning_rate': 0.04231277801385518}. Best is trial 14 with value: 0.21431804579525623.\n",
      "[I 2024-07-15 12:44:25,170] Trial 31 finished with value: 0.2180119585819295 and parameters: {'n_estimators': 200, 'max_depth': 7, 'learning_rate': 0.08148172272274556}. Best is trial 14 with value: 0.21431804579525623.\n",
      "[I 2024-07-15 12:44:25,758] Trial 32 finished with value: 0.21610971927768077 and parameters: {'n_estimators': 200, 'max_depth': 7, 'learning_rate': 0.10408616306826848}. Best is trial 14 with value: 0.21431804579525623.\n",
      "[I 2024-07-15 12:44:26,644] Trial 33 finished with value: 0.22110332903494292 and parameters: {'n_estimators': 200, 'max_depth': 8, 'learning_rate': 0.10842357727302043}. Best is trial 14 with value: 0.21431804579525623.\n",
      "[I 2024-07-15 12:44:27,161] Trial 34 finished with value: 0.2148415118452693 and parameters: {'n_estimators': 250, 'max_depth': 6, 'learning_rate': 0.09918296880563454}. Best is trial 14 with value: 0.21431804579525623.\n",
      "[I 2024-07-15 12:44:27,515] Trial 35 finished with value: 0.220342262263824 and parameters: {'n_estimators': 150, 'max_depth': 6, 'learning_rate': 0.1355097734702946}. Best is trial 14 with value: 0.21431804579525623.\n",
      "[I 2024-07-15 12:44:27,850] Trial 36 finished with value: 0.23054273738509823 and parameters: {'n_estimators': 200, 'max_depth': 5, 'learning_rate': 0.10319320845507744}. Best is trial 14 with value: 0.21431804579525623.\n",
      "[I 2024-07-15 12:44:28,210] Trial 37 finished with value: 0.2315894078168171 and parameters: {'n_estimators': 150, 'max_depth': 6, 'learning_rate': 0.063683851813163}. Best is trial 14 with value: 0.21431804579525623.\n",
      "[I 2024-07-15 12:44:28,619] Trial 38 finished with value: 0.27154551449378383 and parameters: {'n_estimators': 250, 'max_depth': 4, 'learning_rate': 0.031851515377298474}. Best is trial 14 with value: 0.21431804579525623.\n",
      "[I 2024-07-15 12:44:29,335] Trial 39 finished with value: 0.21640512111905497 and parameters: {'n_estimators': 200, 'max_depth': 7, 'learning_rate': 0.143259040145799}. Best is trial 14 with value: 0.21431804579525623.\n",
      "[I 2024-07-15 12:44:29,881] Trial 40 finished with value: 0.21650883321931716 and parameters: {'n_estimators': 250, 'max_depth': 6, 'learning_rate': 0.17520695602829595}. Best is trial 14 with value: 0.21431804579525623.\n",
      "[I 2024-07-15 12:44:30,479] Trial 41 finished with value: 0.2162356715790208 and parameters: {'n_estimators': 200, 'max_depth': 7, 'learning_rate': 0.14594344717227387}. Best is trial 14 with value: 0.21431804579525623.\n",
      "[I 2024-07-15 12:44:31,108] Trial 42 finished with value: 0.21452404393627586 and parameters: {'n_estimators': 200, 'max_depth': 7, 'learning_rate': 0.11289190511014671}. Best is trial 14 with value: 0.21431804579525623.\n",
      "[I 2024-07-15 12:44:31,433] Trial 43 finished with value: 0.2231102423520711 and parameters: {'n_estimators': 150, 'max_depth': 6, 'learning_rate': 0.11418247625556542}. Best is trial 14 with value: 0.21431804579525623.\n",
      "[I 2024-07-15 12:44:32,078] Trial 44 finished with value: 0.21650392684709474 and parameters: {'n_estimators': 200, 'max_depth': 7, 'learning_rate': 0.10063597403117935}. Best is trial 14 with value: 0.21431804579525623.\n",
      "[I 2024-07-15 12:44:32,391] Trial 45 finished with value: 0.23045241624090287 and parameters: {'n_estimators': 200, 'max_depth': 5, 'learning_rate': 0.08580634201063757}. Best is trial 14 with value: 0.21431804579525623.\n",
      "[I 2024-07-15 12:44:32,749] Trial 46 finished with value: 0.23131671260253692 and parameters: {'n_estimators': 100, 'max_depth': 7, 'learning_rate': 0.07345933804875467}. Best is trial 14 with value: 0.21431804579525623.\n",
      "[I 2024-07-15 12:44:34,352] Trial 47 finished with value: 0.22143994167515416 and parameters: {'n_estimators': 250, 'max_depth': 9, 'learning_rate': 0.09252200222516736}. Best is trial 14 with value: 0.21431804579525623.\n",
      "[I 2024-07-15 12:44:34,558] Trial 48 finished with value: 0.24052574582880318 and parameters: {'n_estimators': 150, 'max_depth': 4, 'learning_rate': 0.11662963360528505}. Best is trial 14 with value: 0.21431804579525623.\n",
      "[I 2024-07-15 12:44:34,990] Trial 49 finished with value: 0.22035690906968283 and parameters: {'n_estimators': 200, 'max_depth': 6, 'learning_rate': 0.16604333468259613}. Best is trial 14 with value: 0.21431804579525623.\n",
      "[I 2024-07-15 12:44:36,018] Trial 50 finished with value: 0.2314070599502977 and parameters: {'n_estimators': 200, 'max_depth': 8, 'learning_rate': 0.03179640451929149}. Best is trial 14 with value: 0.21431804579525623.\n",
      "[I 2024-07-15 12:44:36,620] Trial 51 finished with value: 0.21507078117241898 and parameters: {'n_estimators': 200, 'max_depth': 7, 'learning_rate': 0.13876656098953447}. Best is trial 14 with value: 0.21431804579525623.\n",
      "[I 2024-07-15 12:44:37,539] Trial 52 finished with value: 0.21479038058118852 and parameters: {'n_estimators': 200, 'max_depth': 8, 'learning_rate': 0.12587215833250923}. Best is trial 14 with value: 0.21431804579525623.\n",
      "[I 2024-07-15 12:44:38,571] Trial 53 finished with value: 0.21630251282262897 and parameters: {'n_estimators': 200, 'max_depth': 8, 'learning_rate': 0.13021380863283594}. Best is trial 14 with value: 0.21431804579525623.\n",
      "[I 2024-07-15 12:44:40,547] Trial 54 finished with value: 0.2307216661447471 and parameters: {'n_estimators': 250, 'max_depth': 9, 'learning_rate': 0.19552474450031604}. Best is trial 14 with value: 0.21431804579525623.\n",
      "[I 2024-07-15 12:44:41,550] Trial 55 finished with value: 0.21925965075426448 and parameters: {'n_estimators': 200, 'max_depth': 8, 'learning_rate': 0.15812403974859288}. Best is trial 14 with value: 0.21431804579525623.\n",
      "[I 2024-07-15 12:44:43,060] Trial 56 finished with value: 0.21444622752370274 and parameters: {'n_estimators': 250, 'max_depth': 8, 'learning_rate': 0.12146821125436151}. Best is trial 14 with value: 0.21431804579525623.\n",
      "[I 2024-07-15 12:44:45,685] Trial 57 finished with value: 0.22090195362974005 and parameters: {'n_estimators': 250, 'max_depth': 9, 'learning_rate': 0.12427413965326578}. Best is trial 14 with value: 0.21431804579525623.\n",
      "[I 2024-07-15 12:44:47,517] Trial 58 finished with value: 0.22059692002013218 and parameters: {'n_estimators': 250, 'max_depth': 8, 'learning_rate': 0.1383147780059079}. Best is trial 14 with value: 0.21431804579525623.\n",
      "[I 2024-07-15 12:44:48,755] Trial 59 finished with value: 0.22453960178645987 and parameters: {'n_estimators': 250, 'max_depth': 7, 'learning_rate': 0.28802301391354335}. Best is trial 14 with value: 0.21431804579525623.\n",
      "[I 2024-07-15 12:44:49,718] Trial 60 finished with value: 0.22413868675047144 and parameters: {'n_estimators': 250, 'max_depth': 6, 'learning_rate': 0.2720379658957491}. Best is trial 14 with value: 0.21431804579525623.\n",
      "[I 2024-07-15 12:44:51,667] Trial 61 finished with value: 0.21988384868658245 and parameters: {'n_estimators': 250, 'max_depth': 8, 'learning_rate': 0.09634053287418066}. Best is trial 14 with value: 0.21431804579525623.\n",
      "[I 2024-07-15 12:44:53,294] Trial 62 finished with value: 0.22024293157365535 and parameters: {'n_estimators': 200, 'max_depth': 8, 'learning_rate': 0.11764472888226102}. Best is trial 14 with value: 0.21431804579525623.\n",
      "[I 2024-07-15 12:44:54,629] Trial 63 finished with value: 0.2174443615317545 and parameters: {'n_estimators': 250, 'max_depth': 7, 'learning_rate': 0.07413604632537954}. Best is trial 14 with value: 0.21431804579525623.\n",
      "[I 2024-07-15 12:44:56,522] Trial 64 finished with value: 0.22195750019443622 and parameters: {'n_estimators': 200, 'max_depth': 9, 'learning_rate': 0.11159865511565065}. Best is trial 14 with value: 0.21431804579525623.\n",
      "[I 2024-07-15 12:44:58,140] Trial 65 finished with value: 0.22046900561025748 and parameters: {'n_estimators': 250, 'max_depth': 8, 'learning_rate': 0.14955667658527885}. Best is trial 14 with value: 0.21431804579525623.\n",
      "[I 2024-07-15 12:44:59,558] Trial 66 finished with value: 0.21561297562996723 and parameters: {'n_estimators': 200, 'max_depth': 8, 'learning_rate': 0.1279856764239366}. Best is trial 14 with value: 0.21431804579525623.\n",
      "[I 2024-07-15 12:45:02,958] Trial 67 finished with value: 0.24434904153863252 and parameters: {'n_estimators': 250, 'max_depth': 10, 'learning_rate': 0.2350861486512225}. Best is trial 14 with value: 0.21431804579525623.\n",
      "[I 2024-07-15 12:45:04,143] Trial 68 finished with value: 0.22180662222463546 and parameters: {'n_estimators': 200, 'max_depth': 7, 'learning_rate': 0.060550828994151096}. Best is trial 14 with value: 0.21431804579525623.\n",
      "[I 2024-07-15 12:45:05,707] Trial 69 finished with value: 0.2229047508190881 and parameters: {'n_estimators': 150, 'max_depth': 9, 'learning_rate': 0.07946826858729675}. Best is trial 14 with value: 0.21431804579525623.\n",
      "[I 2024-07-15 12:45:07,091] Trial 70 finished with value: 0.21795722905275292 and parameters: {'n_estimators': 200, 'max_depth': 8, 'learning_rate': 0.09265980502517653}. Best is trial 14 with value: 0.21431804579525623.\n",
      "[I 2024-07-15 12:45:08,526] Trial 71 finished with value: 0.22030425248555524 and parameters: {'n_estimators': 200, 'max_depth': 8, 'learning_rate': 0.12969115639997772}. Best is trial 14 with value: 0.21431804579525623.\n",
      "[I 2024-07-15 12:45:09,489] Trial 72 finished with value: 0.2170638137171566 and parameters: {'n_estimators': 200, 'max_depth': 7, 'learning_rate': 0.12195626505489984}. Best is trial 14 with value: 0.21431804579525623.\n",
      "[I 2024-07-15 12:45:10,905] Trial 73 finished with value: 0.21679724659644814 and parameters: {'n_estimators': 200, 'max_depth': 8, 'learning_rate': 0.1369599553838411}. Best is trial 14 with value: 0.21431804579525623.\n",
      "[I 2024-07-15 12:45:11,935] Trial 74 finished with value: 0.21332191674672277 and parameters: {'n_estimators': 200, 'max_depth': 7, 'learning_rate': 0.10984611201260204}. Best is trial 74 with value: 0.21332191674672277.\n",
      "[I 2024-07-15 12:45:13,195] Trial 75 finished with value: 0.21915040924226323 and parameters: {'n_estimators': 250, 'max_depth': 7, 'learning_rate': 0.04913369822383863}. Best is trial 74 with value: 0.21332191674672277.\n",
      "[I 2024-07-15 12:45:13,867] Trial 76 finished with value: 0.21822248951836154 and parameters: {'n_estimators': 200, 'max_depth': 6, 'learning_rate': 0.10788382193090557}. Best is trial 74 with value: 0.21332191674672277.\n",
      "[I 2024-07-15 12:45:14,953] Trial 77 finished with value: 0.21829708612380427 and parameters: {'n_estimators': 150, 'max_depth': 7, 'learning_rate': 0.09754269797573402}. Best is trial 74 with value: 0.21332191674672277.\n",
      "[I 2024-07-15 12:45:15,390] Trial 78 finished with value: 0.24199640907173692 and parameters: {'n_estimators': 250, 'max_depth': 3, 'learning_rate': 0.1515484157895428}. Best is trial 74 with value: 0.21332191674672277.\n",
      "[I 2024-07-15 12:45:16,042] Trial 79 finished with value: 0.2309540769517139 and parameters: {'n_estimators': 200, 'max_depth': 5, 'learning_rate': 0.08997978429317005}. Best is trial 74 with value: 0.21332191674672277.\n",
      "[I 2024-07-15 12:45:16,944] Trial 80 finished with value: 0.21452710001141304 and parameters: {'n_estimators': 250, 'max_depth': 6, 'learning_rate': 0.10949815476764152}. Best is trial 74 with value: 0.21332191674672277.\n",
      "[I 2024-07-15 12:45:17,899] Trial 81 finished with value: 0.21066608544818696 and parameters: {'n_estimators': 250, 'max_depth': 6, 'learning_rate': 0.1116998912476388}. Best is trial 81 with value: 0.21066608544818696.\n",
      "[I 2024-07-15 12:45:18,772] Trial 82 finished with value: 0.21671911503851163 and parameters: {'n_estimators': 250, 'max_depth': 6, 'learning_rate': 0.11162309112239827}. Best is trial 81 with value: 0.21066608544818696.\n",
      "[I 2024-07-15 12:45:19,690] Trial 83 finished with value: 0.21488536100121713 and parameters: {'n_estimators': 250, 'max_depth': 6, 'learning_rate': 0.12184360448748192}. Best is trial 81 with value: 0.21066608544818696.\n",
      "[I 2024-07-15 12:45:20,523] Trial 84 finished with value: 0.2166090789418956 and parameters: {'n_estimators': 250, 'max_depth': 6, 'learning_rate': 0.10703120579339392}. Best is trial 81 with value: 0.21066608544818696.\n",
      "[I 2024-07-15 12:45:21,082] Trial 85 finished with value: 0.2206934536192924 and parameters: {'n_estimators': 250, 'max_depth': 5, 'learning_rate': 0.12083551611791817}. Best is trial 81 with value: 0.21066608544818696.\n",
      "[I 2024-07-15 12:45:21,901] Trial 86 finished with value: 0.21883056048714905 and parameters: {'n_estimators': 250, 'max_depth': 6, 'learning_rate': 0.07769257618475035}. Best is trial 81 with value: 0.21066608544818696.\n",
      "[I 2024-07-15 12:45:23,078] Trial 87 finished with value: 0.21914684026868322 and parameters: {'n_estimators': 250, 'max_depth': 6, 'learning_rate': 0.09955867741583083}. Best is trial 81 with value: 0.21066608544818696.\n",
      "[I 2024-07-15 12:45:24,082] Trial 88 finished with value: 0.21757447805922703 and parameters: {'n_estimators': 250, 'max_depth': 6, 'learning_rate': 0.08488646758079309}. Best is trial 81 with value: 0.21066608544818696.\n",
      "[I 2024-07-15 12:45:24,842] Trial 89 finished with value: 0.21824822438455807 and parameters: {'n_estimators': 250, 'max_depth': 5, 'learning_rate': 0.11529208991844858}. Best is trial 81 with value: 0.21066608544818696.\n",
      "[I 2024-07-15 12:45:25,802] Trial 90 finished with value: 0.21203673721518326 and parameters: {'n_estimators': 250, 'max_depth': 6, 'learning_rate': 0.12406253844580709}. Best is trial 81 with value: 0.21066608544818696.\n",
      "[I 2024-07-15 12:45:26,885] Trial 91 finished with value: 0.21114302209322952 and parameters: {'n_estimators': 250, 'max_depth': 6, 'learning_rate': 0.13150288336498872}. Best is trial 81 with value: 0.21066608544818696.\n",
      "[I 2024-07-15 12:45:27,994] Trial 92 finished with value: 0.21350670058783947 and parameters: {'n_estimators': 250, 'max_depth': 6, 'learning_rate': 0.14228385352050718}. Best is trial 81 with value: 0.21066608544818696.\n",
      "[I 2024-07-15 12:45:29,043] Trial 93 finished with value: 0.21294128278114804 and parameters: {'n_estimators': 250, 'max_depth': 6, 'learning_rate': 0.1305371064912827}. Best is trial 81 with value: 0.21066608544818696.\n",
      "[I 2024-07-15 12:45:30,249] Trial 94 finished with value: 0.21580215867507901 and parameters: {'n_estimators': 250, 'max_depth': 6, 'learning_rate': 0.16088085625086138}. Best is trial 81 with value: 0.21066608544818696.\n",
      "[I 2024-07-15 12:45:31,434] Trial 95 finished with value: 0.2163283058079775 and parameters: {'n_estimators': 250, 'max_depth': 6, 'learning_rate': 0.13474572798137105}. Best is trial 81 with value: 0.21066608544818696.\n",
      "[I 2024-07-15 12:45:32,539] Trial 96 finished with value: 0.21571390528685083 and parameters: {'n_estimators': 250, 'max_depth': 6, 'learning_rate': 0.16512701466713742}. Best is trial 81 with value: 0.21066608544818696.\n",
      "[I 2024-07-15 12:45:33,444] Trial 97 finished with value: 0.22105742956614982 and parameters: {'n_estimators': 250, 'max_depth': 5, 'learning_rate': 0.14286526308854075}. Best is trial 81 with value: 0.21066608544818696.\n",
      "[I 2024-07-15 12:45:34,194] Trial 98 finished with value: 0.22166150701166643 and parameters: {'n_estimators': 250, 'max_depth': 5, 'learning_rate': 0.13351160279669458}. Best is trial 81 with value: 0.21066608544818696.\n",
      "[I 2024-07-15 12:45:35,210] Trial 99 finished with value: 0.21320718536872668 and parameters: {'n_estimators': 250, 'max_depth': 6, 'learning_rate': 0.15188711044403796}. Best is trial 81 with value: 0.21066608544818696.\n"
     ]
    },
    {
     "name": "stdout",
     "output_type": "stream",
     "text": [
      "Best XGB MSE: 0.21066608544818696\n"
     ]
    }
   ],
   "source": [
    "import xgboost as xgb\n",
    "import optuna\n",
    "from optuna import Trial\n",
    "from sklearn import metrics\n",
    "\n",
    "\n",
    "def objective(trial: Trial):\n",
    "    n_estimators = trial.suggest_int('n_estimators', 100, 250, step=50)\n",
    "    max_depth = trial.suggest_int('max_depth', 3, 10)\n",
    "    learning_rate = trial.suggest_float('learning_rate', 0.01, 0.3)\n",
    "    \n",
    "    xgb_reg = xgb.XGBRegressor(\n",
    "        n_estimators=n_estimators,\n",
    "        max_depth=max_depth,\n",
    "        learning_rate=learning_rate,\n",
    "        objective='reg:squarederror',\n",
    "        use_label_encoder=False,\n",
    "        eval_metric='rmse'\n",
    "    )\n",
    "    \n",
    "    xgb_reg.fit(train_features, train_labels)\n",
    "    pred = xgb_reg.predict(dev_features)\n",
    "    return metrics.mean_squared_error(dev_labels, pred)\n",
    "\n",
    "xgb_study = optuna.create_study(direction='minimize')\n",
    "xgb_study.optimize(objective, n_trials=100)\n",
    "xgb_best_params = xgb_study.best_params\n",
    "\n",
    "best_xgb = xgb.XGBRegressor(\n",
    "    n_estimators=xgb_best_params['n_estimators'],\n",
    "    max_depth=xgb_best_params['max_depth'],\n",
    "    learning_rate=xgb_best_params['learning_rate'],\n",
    "    objective='reg:squarederror',\n",
    "    use_label_encoder=False,\n",
    "    eval_metric='rmse'\n",
    ")\n",
    "\n",
    "best_xgb.fit(train_features, train_labels)\n",
    "best_models[xgb_study.best_value] = best_xgb\n",
    "print(f'Best XGB MSE: {xgb_study.best_value}')"
   ],
   "metadata": {
    "collapsed": false,
    "ExecuteTime": {
     "end_time": "2024-07-15T09:45:36.145827500Z",
     "start_time": "2024-07-15T09:43:53.299759200Z"
    }
   },
   "id": "43707b5049cc5cf0",
   "execution_count": 14
  },
  {
   "cell_type": "code",
   "outputs": [
    {
     "name": "stderr",
     "output_type": "stream",
     "text": [
      "[I 2024-07-15 11:45:55,190] A new study created in memory with name: no-name-f8072085-4573-4bd0-9474-2e4b9cab0727\n",
      "[I 2024-07-15 11:46:10,147] Trial 0 finished with value: 0.2704853099216526 and parameters: {'n_estimators': 150, 'max_depth': 50, 'min_samples_split': 2}. Best is trial 0 with value: 0.2704853099216526.\n",
      "[I 2024-07-15 11:46:22,548] Trial 1 finished with value: 0.27331750079759703 and parameters: {'n_estimators': 150, 'max_depth': 30, 'min_samples_split': 4}. Best is trial 0 with value: 0.2704853099216526.\n",
      "[I 2024-07-15 11:46:31,277] Trial 2 finished with value: 0.2706770758589999 and parameters: {'n_estimators': 100, 'max_depth': 50, 'min_samples_split': 3}. Best is trial 0 with value: 0.2704853099216526.\n",
      "[I 2024-07-15 11:46:44,310] Trial 3 finished with value: 0.273211331515557 and parameters: {'n_estimators': 150, 'max_depth': 50, 'min_samples_split': 3}. Best is trial 0 with value: 0.2704853099216526.\n",
      "[I 2024-07-15 11:47:02,355] Trial 4 finished with value: 0.27182238865120617 and parameters: {'n_estimators': 200, 'max_depth': None, 'min_samples_split': 2}. Best is trial 0 with value: 0.2704853099216526.\n",
      "[I 2024-07-15 11:47:22,544] Trial 5 finished with value: 0.2711951866176333 and parameters: {'n_estimators': 250, 'max_depth': None, 'min_samples_split': 4}. Best is trial 0 with value: 0.2704853099216526.\n",
      "[I 2024-07-15 11:47:43,745] Trial 6 finished with value: 0.27215979227276516 and parameters: {'n_estimators': 250, 'max_depth': 50, 'min_samples_split': 4}. Best is trial 0 with value: 0.2704853099216526.\n",
      "[I 2024-07-15 11:48:09,243] Trial 7 finished with value: 0.2733243141955594 and parameters: {'n_estimators': 250, 'max_depth': 50, 'min_samples_split': 2}. Best is trial 0 with value: 0.2704853099216526.\n",
      "[I 2024-07-15 11:48:30,209] Trial 8 finished with value: 0.2709496417660114 and parameters: {'n_estimators': 200, 'max_depth': 30, 'min_samples_split': 2}. Best is trial 0 with value: 0.2704853099216526.\n",
      "[I 2024-07-15 11:48:49,044] Trial 9 finished with value: 0.26975237722992185 and parameters: {'n_estimators': 200, 'max_depth': None, 'min_samples_split': 2}. Best is trial 9 with value: 0.26975237722992185.\n",
      "[I 2024-07-15 11:48:58,153] Trial 10 finished with value: 0.2752425413970654 and parameters: {'n_estimators': 100, 'max_depth': None, 'min_samples_split': 2}. Best is trial 9 with value: 0.26975237722992185.\n",
      "[I 2024-07-15 11:49:13,151] Trial 11 finished with value: 0.27289130566799175 and parameters: {'n_estimators': 150, 'max_depth': None, 'min_samples_split': 2}. Best is trial 9 with value: 0.26975237722992185.\n",
      "[I 2024-07-15 11:49:38,961] Trial 12 finished with value: 0.2690890597409024 and parameters: {'n_estimators': 200, 'max_depth': 50, 'min_samples_split': 2}. Best is trial 12 with value: 0.2690890597409024.\n",
      "[I 2024-07-15 11:49:58,160] Trial 13 finished with value: 0.2716488722197551 and parameters: {'n_estimators': 200, 'max_depth': None, 'min_samples_split': 2}. Best is trial 12 with value: 0.2690890597409024.\n",
      "[I 2024-07-15 11:50:16,106] Trial 14 finished with value: 0.2721882552017518 and parameters: {'n_estimators': 200, 'max_depth': 30, 'min_samples_split': 2}. Best is trial 12 with value: 0.2690890597409024.\n",
      "[I 2024-07-15 11:50:32,980] Trial 15 finished with value: 0.271350977164136 and parameters: {'n_estimators': 200, 'max_depth': 50, 'min_samples_split': 3}. Best is trial 12 with value: 0.2690890597409024.\n",
      "[I 2024-07-15 11:50:55,168] Trial 16 finished with value: 0.2702296212582996 and parameters: {'n_estimators': 250, 'max_depth': None, 'min_samples_split': 2}. Best is trial 12 with value: 0.2690890597409024.\n",
      "[I 2024-07-15 11:51:12,881] Trial 17 finished with value: 0.2693648461433689 and parameters: {'n_estimators': 200, 'max_depth': None, 'min_samples_split': 2}. Best is trial 12 with value: 0.2690890597409024.\n",
      "[I 2024-07-15 11:51:25,245] Trial 18 finished with value: 0.2721784355615488 and parameters: {'n_estimators': 150, 'max_depth': 50, 'min_samples_split': 4}. Best is trial 12 with value: 0.2690890597409024.\n",
      "[I 2024-07-15 11:51:52,049] Trial 19 finished with value: 0.27309328900389873 and parameters: {'n_estimators': 250, 'max_depth': 30, 'min_samples_split': 3}. Best is trial 12 with value: 0.2690890597409024.\n",
      "[I 2024-07-15 11:52:13,434] Trial 20 finished with value: 0.2726216922144172 and parameters: {'n_estimators': 200, 'max_depth': 50, 'min_samples_split': 2}. Best is trial 12 with value: 0.2690890597409024.\n",
      "[I 2024-07-15 11:52:32,246] Trial 21 finished with value: 0.2710726745910872 and parameters: {'n_estimators': 200, 'max_depth': None, 'min_samples_split': 2}. Best is trial 12 with value: 0.2690890597409024.\n",
      "[I 2024-07-15 11:52:52,959] Trial 22 finished with value: 0.2703797632242249 and parameters: {'n_estimators': 200, 'max_depth': None, 'min_samples_split': 2}. Best is trial 12 with value: 0.2690890597409024.\n",
      "[I 2024-07-15 11:53:11,855] Trial 23 finished with value: 0.27079817172225235 and parameters: {'n_estimators': 200, 'max_depth': None, 'min_samples_split': 2}. Best is trial 12 with value: 0.2690890597409024.\n",
      "[I 2024-07-15 11:53:25,318] Trial 24 finished with value: 0.2715940151721881 and parameters: {'n_estimators': 150, 'max_depth': None, 'min_samples_split': 2}. Best is trial 12 with value: 0.2690890597409024.\n",
      "[I 2024-07-15 11:53:44,524] Trial 25 finished with value: 0.26875537470625743 and parameters: {'n_estimators': 200, 'max_depth': None, 'min_samples_split': 2}. Best is trial 25 with value: 0.26875537470625743.\n",
      "[I 2024-07-15 11:54:09,901] Trial 26 finished with value: 0.2692508480190441 and parameters: {'n_estimators': 250, 'max_depth': None, 'min_samples_split': 2}. Best is trial 25 with value: 0.26875537470625743.\n",
      "[I 2024-07-15 11:54:32,246] Trial 27 finished with value: 0.2715181464600128 and parameters: {'n_estimators': 250, 'max_depth': None, 'min_samples_split': 2}. Best is trial 25 with value: 0.26875537470625743.\n",
      "[I 2024-07-15 11:54:52,836] Trial 28 finished with value: 0.2734361799695082 and parameters: {'n_estimators': 250, 'max_depth': 30, 'min_samples_split': 4}. Best is trial 25 with value: 0.26875537470625743.\n",
      "[I 2024-07-15 11:55:15,366] Trial 29 finished with value: 0.27082003618204487 and parameters: {'n_estimators': 250, 'max_depth': 50, 'min_samples_split': 2}. Best is trial 25 with value: 0.26875537470625743.\n",
      "[I 2024-07-15 11:55:36,770] Trial 30 finished with value: 0.27060679536015364 and parameters: {'n_estimators': 250, 'max_depth': 50, 'min_samples_split': 3}. Best is trial 25 with value: 0.26875537470625743.\n",
      "[I 2024-07-15 11:55:57,164] Trial 31 finished with value: 0.27166154717291435 and parameters: {'n_estimators': 200, 'max_depth': None, 'min_samples_split': 2}. Best is trial 25 with value: 0.26875537470625743.\n",
      "[I 2024-07-15 11:56:13,303] Trial 32 finished with value: 0.2712428814851174 and parameters: {'n_estimators': 150, 'max_depth': None, 'min_samples_split': 2}. Best is trial 25 with value: 0.26875537470625743.\n",
      "[I 2024-07-15 11:56:23,978] Trial 33 finished with value: 0.27567597568605023 and parameters: {'n_estimators': 100, 'max_depth': None, 'min_samples_split': 2}. Best is trial 25 with value: 0.26875537470625743.\n",
      "[I 2024-07-15 11:56:44,681] Trial 34 finished with value: 0.27022067052271265 and parameters: {'n_estimators': 200, 'max_depth': None, 'min_samples_split': 2}. Best is trial 25 with value: 0.26875537470625743.\n",
      "[I 2024-07-15 11:57:07,901] Trial 35 finished with value: 0.27214606702800687 and parameters: {'n_estimators': 150, 'max_depth': None, 'min_samples_split': 2}. Best is trial 25 with value: 0.26875537470625743.\n",
      "[I 2024-07-15 11:57:26,640] Trial 36 finished with value: 0.27035560464397607 and parameters: {'n_estimators': 200, 'max_depth': 50, 'min_samples_split': 4}. Best is trial 25 with value: 0.26875537470625743.\n",
      "[I 2024-07-15 11:57:49,180] Trial 37 finished with value: 0.2725731510864084 and parameters: {'n_estimators': 200, 'max_depth': 30, 'min_samples_split': 3}. Best is trial 25 with value: 0.26875537470625743.\n",
      "[I 2024-07-15 11:58:16,896] Trial 38 finished with value: 0.2704166184244809 and parameters: {'n_estimators': 250, 'max_depth': None, 'min_samples_split': 2}. Best is trial 25 with value: 0.26875537470625743.\n",
      "[I 2024-07-15 11:58:39,238] Trial 39 finished with value: 0.2750662309161878 and parameters: {'n_estimators': 150, 'max_depth': 50, 'min_samples_split': 4}. Best is trial 25 with value: 0.26875537470625743.\n",
      "[I 2024-07-15 11:58:58,512] Trial 40 finished with value: 0.27279672918172543 and parameters: {'n_estimators': 200, 'max_depth': None, 'min_samples_split': 2}. Best is trial 25 with value: 0.26875537470625743.\n",
      "[I 2024-07-15 11:59:16,559] Trial 41 finished with value: 0.2736364623332812 and parameters: {'n_estimators': 200, 'max_depth': None, 'min_samples_split': 2}. Best is trial 25 with value: 0.26875537470625743.\n",
      "[I 2024-07-15 11:59:34,655] Trial 42 finished with value: 0.2714420560800302 and parameters: {'n_estimators': 200, 'max_depth': None, 'min_samples_split': 2}. Best is trial 25 with value: 0.26875537470625743.\n",
      "[I 2024-07-15 11:59:55,134] Trial 43 finished with value: 0.27158024126093183 and parameters: {'n_estimators': 200, 'max_depth': None, 'min_samples_split': 2}. Best is trial 25 with value: 0.26875537470625743.\n",
      "[I 2024-07-15 12:00:20,171] Trial 44 finished with value: 0.2719117171289752 and parameters: {'n_estimators': 250, 'max_depth': None, 'min_samples_split': 2}. Best is trial 25 with value: 0.26875537470625743.\n",
      "[I 2024-07-15 12:00:37,777] Trial 45 finished with value: 0.26969148876459176 and parameters: {'n_estimators': 200, 'max_depth': None, 'min_samples_split': 2}. Best is trial 25 with value: 0.26875537470625743.\n",
      "[I 2024-07-15 12:00:55,727] Trial 46 finished with value: 0.2708219825798835 and parameters: {'n_estimators': 200, 'max_depth': 50, 'min_samples_split': 2}. Best is trial 25 with value: 0.26875537470625743.\n",
      "[I 2024-07-15 12:01:08,556] Trial 47 finished with value: 0.2732929733880279 and parameters: {'n_estimators': 150, 'max_depth': None, 'min_samples_split': 3}. Best is trial 25 with value: 0.26875537470625743.\n",
      "[I 2024-07-15 12:01:32,654] Trial 48 finished with value: 0.27019648743151875 and parameters: {'n_estimators': 250, 'max_depth': 30, 'min_samples_split': 2}. Best is trial 25 with value: 0.26875537470625743.\n",
      "[I 2024-07-15 12:01:45,157] Trial 49 finished with value: 0.2749327056965733 and parameters: {'n_estimators': 100, 'max_depth': None, 'min_samples_split': 2}. Best is trial 25 with value: 0.26875537470625743.\n",
      "[I 2024-07-15 12:02:07,522] Trial 50 finished with value: 0.2705334179677928 and parameters: {'n_estimators': 200, 'max_depth': 50, 'min_samples_split': 4}. Best is trial 25 with value: 0.26875537470625743.\n",
      "[I 2024-07-15 12:02:30,039] Trial 51 finished with value: 0.27260357469877955 and parameters: {'n_estimators': 200, 'max_depth': None, 'min_samples_split': 2}. Best is trial 25 with value: 0.26875537470625743.\n",
      "[I 2024-07-15 12:02:49,210] Trial 52 finished with value: 0.2730756935637988 and parameters: {'n_estimators': 200, 'max_depth': None, 'min_samples_split': 2}. Best is trial 25 with value: 0.26875537470625743.\n",
      "[I 2024-07-15 12:03:07,306] Trial 53 finished with value: 0.2709389885925405 and parameters: {'n_estimators': 200, 'max_depth': None, 'min_samples_split': 2}. Best is trial 25 with value: 0.26875537470625743.\n",
      "[I 2024-07-15 12:03:26,050] Trial 54 finished with value: 0.2695772758298945 and parameters: {'n_estimators': 200, 'max_depth': None, 'min_samples_split': 2}. Best is trial 25 with value: 0.26875537470625743.\n",
      "[I 2024-07-15 12:03:45,867] Trial 55 finished with value: 0.2718065913933696 and parameters: {'n_estimators': 200, 'max_depth': None, 'min_samples_split': 2}. Best is trial 25 with value: 0.26875537470625743.\n",
      "[I 2024-07-15 12:04:06,909] Trial 56 finished with value: 0.2722311815660086 and parameters: {'n_estimators': 200, 'max_depth': None, 'min_samples_split': 2}. Best is trial 25 with value: 0.26875537470625743.\n",
      "[I 2024-07-15 12:04:24,707] Trial 57 finished with value: 0.2691511511083424 and parameters: {'n_estimators': 200, 'max_depth': None, 'min_samples_split': 2}. Best is trial 25 with value: 0.26875537470625743.\n",
      "[I 2024-07-15 12:04:48,378] Trial 58 finished with value: 0.270347373228227 and parameters: {'n_estimators': 250, 'max_depth': 50, 'min_samples_split': 2}. Best is trial 25 with value: 0.26875537470625743.\n",
      "[I 2024-07-15 12:05:02,033] Trial 59 finished with value: 0.2732631218124147 and parameters: {'n_estimators': 150, 'max_depth': 30, 'min_samples_split': 3}. Best is trial 25 with value: 0.26875537470625743.\n",
      "[I 2024-07-15 12:05:29,129] Trial 60 finished with value: 0.27218636817316866 and parameters: {'n_estimators': 250, 'max_depth': None, 'min_samples_split': 2}. Best is trial 25 with value: 0.26875537470625743.\n",
      "[I 2024-07-15 12:05:50,425] Trial 61 finished with value: 0.2688078573987645 and parameters: {'n_estimators': 200, 'max_depth': None, 'min_samples_split': 2}. Best is trial 25 with value: 0.26875537470625743.\n",
      "[I 2024-07-15 12:06:13,006] Trial 62 finished with value: 0.27098314428362563 and parameters: {'n_estimators': 200, 'max_depth': None, 'min_samples_split': 2}. Best is trial 25 with value: 0.26875537470625743.\n",
      "[I 2024-07-15 12:06:32,768] Trial 63 finished with value: 0.2725901906081764 and parameters: {'n_estimators': 200, 'max_depth': None, 'min_samples_split': 2}. Best is trial 25 with value: 0.26875537470625743.\n",
      "[I 2024-07-15 12:06:53,810] Trial 64 finished with value: 0.27078678022668756 and parameters: {'n_estimators': 200, 'max_depth': None, 'min_samples_split': 2}. Best is trial 25 with value: 0.26875537470625743.\n",
      "[I 2024-07-15 12:07:12,360] Trial 65 finished with value: 0.27241098507548617 and parameters: {'n_estimators': 200, 'max_depth': None, 'min_samples_split': 2}. Best is trial 25 with value: 0.26875537470625743.\n",
      "[I 2024-07-15 12:07:29,119] Trial 66 finished with value: 0.2701111181837872 and parameters: {'n_estimators': 150, 'max_depth': None, 'min_samples_split': 2}. Best is trial 25 with value: 0.26875537470625743.\n",
      "[I 2024-07-15 12:07:50,328] Trial 67 finished with value: 0.27164154931085754 and parameters: {'n_estimators': 200, 'max_depth': 50, 'min_samples_split': 2}. Best is trial 25 with value: 0.26875537470625743.\n",
      "[I 2024-07-15 12:08:11,012] Trial 68 finished with value: 0.27268590450433966 and parameters: {'n_estimators': 200, 'max_depth': None, 'min_samples_split': 4}. Best is trial 25 with value: 0.26875537470625743.\n",
      "[I 2024-07-15 12:08:31,496] Trial 69 finished with value: 0.2699804540520217 and parameters: {'n_estimators': 200, 'max_depth': None, 'min_samples_split': 2}. Best is trial 25 with value: 0.26875537470625743.\n",
      "[I 2024-07-15 12:08:52,749] Trial 70 finished with value: 0.271797804520755 and parameters: {'n_estimators': 250, 'max_depth': 30, 'min_samples_split': 3}. Best is trial 25 with value: 0.26875537470625743.\n",
      "[I 2024-07-15 12:09:11,921] Trial 71 finished with value: 0.27181154546353187 and parameters: {'n_estimators': 200, 'max_depth': None, 'min_samples_split': 2}. Best is trial 25 with value: 0.26875537470625743.\n",
      "[I 2024-07-15 12:09:31,667] Trial 72 finished with value: 0.2746026573217866 and parameters: {'n_estimators': 200, 'max_depth': None, 'min_samples_split': 2}. Best is trial 25 with value: 0.26875537470625743.\n",
      "[I 2024-07-15 12:09:52,255] Trial 73 finished with value: 0.2721402141113769 and parameters: {'n_estimators': 200, 'max_depth': None, 'min_samples_split': 2}. Best is trial 25 with value: 0.26875537470625743.\n",
      "[I 2024-07-15 12:10:16,084] Trial 74 finished with value: 0.2732385674835047 and parameters: {'n_estimators': 200, 'max_depth': None, 'min_samples_split': 2}. Best is trial 25 with value: 0.26875537470625743.\n",
      "[I 2024-07-15 12:10:38,264] Trial 75 finished with value: 0.2708076091300875 and parameters: {'n_estimators': 200, 'max_depth': None, 'min_samples_split': 2}. Best is trial 25 with value: 0.26875537470625743.\n",
      "[I 2024-07-15 12:10:58,741] Trial 76 finished with value: 0.26997888607178144 and parameters: {'n_estimators': 200, 'max_depth': 50, 'min_samples_split': 2}. Best is trial 25 with value: 0.26875537470625743.\n",
      "[I 2024-07-15 12:11:23,397] Trial 77 finished with value: 0.27056574241898107 and parameters: {'n_estimators': 250, 'max_depth': None, 'min_samples_split': 2}. Best is trial 25 with value: 0.26875537470625743.\n",
      "[I 2024-07-15 12:11:42,590] Trial 78 finished with value: 0.27223136080248433 and parameters: {'n_estimators': 200, 'max_depth': None, 'min_samples_split': 2}. Best is trial 25 with value: 0.26875537470625743.\n",
      "[I 2024-07-15 12:11:58,373] Trial 79 finished with value: 0.2714452854028475 and parameters: {'n_estimators': 150, 'max_depth': None, 'min_samples_split': 2}. Best is trial 25 with value: 0.26875537470625743.\n",
      "[I 2024-07-15 12:12:17,895] Trial 80 finished with value: 0.272147674747112 and parameters: {'n_estimators': 200, 'max_depth': 50, 'min_samples_split': 4}. Best is trial 25 with value: 0.26875537470625743.\n",
      "[I 2024-07-15 12:12:40,823] Trial 81 finished with value: 0.272156209120981 and parameters: {'n_estimators': 200, 'max_depth': None, 'min_samples_split': 2}. Best is trial 25 with value: 0.26875537470625743.\n",
      "[I 2024-07-15 12:12:59,577] Trial 82 finished with value: 0.2690035232194389 and parameters: {'n_estimators': 200, 'max_depth': None, 'min_samples_split': 2}. Best is trial 25 with value: 0.26875537470625743.\n",
      "[I 2024-07-15 12:13:18,688] Trial 83 finished with value: 0.2700489559480943 and parameters: {'n_estimators': 200, 'max_depth': None, 'min_samples_split': 2}. Best is trial 25 with value: 0.26875537470625743.\n",
      "[I 2024-07-15 12:13:38,716] Trial 84 finished with value: 0.27370992336516264 and parameters: {'n_estimators': 200, 'max_depth': None, 'min_samples_split': 2}. Best is trial 25 with value: 0.26875537470625743.\n",
      "[I 2024-07-15 12:14:00,822] Trial 85 finished with value: 0.271516834887498 and parameters: {'n_estimators': 200, 'max_depth': None, 'min_samples_split': 2}. Best is trial 25 with value: 0.26875537470625743.\n",
      "[I 2024-07-15 12:14:22,165] Trial 86 finished with value: 0.27043488593759585 and parameters: {'n_estimators': 200, 'max_depth': None, 'min_samples_split': 2}. Best is trial 25 with value: 0.26875537470625743.\n",
      "[I 2024-07-15 12:14:39,834] Trial 87 finished with value: 0.27141909600321984 and parameters: {'n_estimators': 200, 'max_depth': None, 'min_samples_split': 2}. Best is trial 25 with value: 0.26875537470625743.\n",
      "[I 2024-07-15 12:14:48,736] Trial 88 finished with value: 0.2725201313271384 and parameters: {'n_estimators': 100, 'max_depth': None, 'min_samples_split': 2}. Best is trial 25 with value: 0.26875537470625743.\n",
      "[I 2024-07-15 12:15:07,520] Trial 89 finished with value: 0.2698370525481236 and parameters: {'n_estimators': 200, 'max_depth': 30, 'min_samples_split': 3}. Best is trial 25 with value: 0.26875537470625743.\n",
      "[I 2024-07-15 12:15:32,989] Trial 90 finished with value: 0.27161676947365504 and parameters: {'n_estimators': 250, 'max_depth': 50, 'min_samples_split': 2}. Best is trial 25 with value: 0.26875537470625743.\n",
      "[I 2024-07-15 12:15:55,281] Trial 91 finished with value: 0.2709336229505445 and parameters: {'n_estimators': 200, 'max_depth': None, 'min_samples_split': 2}. Best is trial 25 with value: 0.26875537470625743.\n",
      "[I 2024-07-15 12:16:16,274] Trial 92 finished with value: 0.27223838269664574 and parameters: {'n_estimators': 200, 'max_depth': None, 'min_samples_split': 2}. Best is trial 25 with value: 0.26875537470625743.\n",
      "[I 2024-07-15 12:16:36,464] Trial 93 finished with value: 0.26994688670340905 and parameters: {'n_estimators': 200, 'max_depth': None, 'min_samples_split': 2}. Best is trial 25 with value: 0.26875537470625743.\n",
      "[I 2024-07-15 12:16:56,125] Trial 94 finished with value: 0.2730427631370948 and parameters: {'n_estimators': 200, 'max_depth': None, 'min_samples_split': 2}. Best is trial 25 with value: 0.26875537470625743.\n",
      "[I 2024-07-15 12:17:14,285] Trial 95 finished with value: 0.2706982473108271 and parameters: {'n_estimators': 200, 'max_depth': None, 'min_samples_split': 2}. Best is trial 25 with value: 0.26875537470625743.\n",
      "[I 2024-07-15 12:17:32,810] Trial 96 finished with value: 0.27487005520930874 and parameters: {'n_estimators': 200, 'max_depth': None, 'min_samples_split': 2}. Best is trial 25 with value: 0.26875537470625743.\n",
      "[I 2024-07-15 12:17:52,420] Trial 97 finished with value: 0.2730854052724014 and parameters: {'n_estimators': 200, 'max_depth': None, 'min_samples_split': 2}. Best is trial 25 with value: 0.26875537470625743.\n",
      "[I 2024-07-15 12:18:07,138] Trial 98 finished with value: 0.26952512749834034 and parameters: {'n_estimators': 150, 'max_depth': None, 'min_samples_split': 4}. Best is trial 25 with value: 0.26875537470625743.\n",
      "[I 2024-07-15 12:18:22,127] Trial 99 finished with value: 0.2709381119946543 and parameters: {'n_estimators': 150, 'max_depth': None, 'min_samples_split': 4}. Best is trial 25 with value: 0.26875537470625743.\n"
     ]
    },
    {
     "name": "stdout",
     "output_type": "stream",
     "text": [
      "Best RF MAE: 0.26875537470625743\n"
     ]
    }
   ],
   "source": [
    "from sklearn.ensemble import RandomForestRegressor\n",
    "def objective(trial: Trial):\n",
    "    n_estimators = trial.suggest_int('n_estimators', 100, 250, step=50)\n",
    "    max_depth = trial.suggest_categorical('max_depth', [None, 30, 50])\n",
    "    min_samples_split = trial.suggest_categorical('min_samples_split', [2, 3, 4])\n",
    "    rf = RandomForestRegressor(n_estimators=n_estimators, max_depth=max_depth, min_samples_split=min_samples_split)\n",
    "    rf.fit(train_features, train_labels)\n",
    "    pred = rf.predict(dev_features)\n",
    "    return metrics.mean_squared_error(pred, dev_labels)\n",
    "\n",
    "rf_study = optuna.create_study(direction='minimize')\n",
    "rf_study.optimize(objective, n_trials=100)\n",
    "rf_best_params = rf_study.best_params\n",
    "best_rf = RandomForestRegressor(n_estimators=rf_best_params['n_estimators'], max_depth=rf_best_params['max_depth'], min_samples_split=rf_best_params['min_samples_split'])\n",
    "best_rf.fit(train_features, train_labels)\n",
    "best_models[rf_study.best_value] = best_rf\n",
    "print(f'Best RF MAE: {rf_study.best_value}')"
   ],
   "metadata": {
    "collapsed": false,
    "ExecuteTime": {
     "end_time": "2024-07-15T09:18:42.963162500Z",
     "start_time": "2024-07-15T08:45:55.191116900Z"
    }
   },
   "id": "f5d5cfc9155e7766",
   "execution_count": 13
  },
  {
   "cell_type": "code",
   "outputs": [
    {
     "name": "stdout",
     "output_type": "stream",
     "text": [
      "Best Linear Regression MAE: 0.5197408703272491\n"
     ]
    }
   ],
   "source": [
    "from sklearn.linear_model import LinearRegression\n",
    "\n",
    "reg = LinearRegression()\n",
    "reg.fit(train_features, train_labels)\n",
    "pred = reg.predict(dev_features)\n",
    "best_models[metrics.mean_squared_error(pred, dev_labels)]=reg\n",
    "print(f'Best Linear Regression MAE: {metrics.mean_squared_error(pred, dev_labels)}')"
   ],
   "metadata": {
    "collapsed": false,
    "ExecuteTime": {
     "end_time": "2024-07-15T09:45:47.750305500Z",
     "start_time": "2024-07-15T09:45:47.695254600Z"
    }
   },
   "id": "4f790b78d437b529",
   "execution_count": 15
  },
  {
   "cell_type": "code",
   "outputs": [],
   "source": [
    "from sklearn import svm\n",
    "def objective(trial: Trial):\n",
    "    degree = trial.suggest_int('degree', 1, 4, step=1)\n",
    "    gamma = trial.suggest_categorical('gamma', ['scale', 'auto'])\n",
    "    kernel = trial.suggest_categorical('kernel', ['linear', 'poly', 'rbf'])\n",
    "    C = trial.suggest_float('C', 0.5, 2)\n",
    "    svr = svm.SVR(kernel=kernel, degree=degree, C=C, gamma=gamma)\n",
    "    svr.fit(train_features, train_labels)\n",
    "    pred = svr.predict(dev_features)\n",
    "    return metrics.mean_squared_error(pred, dev_labels)\n",
    "\n",
    "svr_study = optuna.create_study(direction='minimize')\n",
    "svr_study.optimize(objective, n_trials=100)\n",
    "svr_best_params = svr_study.best_params\n",
    "best_svr = svm.SVR(kernel=svr_best_params['kernel'], gamma=svr_best_params['gamma'], C=svr_best_params['C'], degree=svr_best_params['degree'])\n",
    "best_svr.fit(train_features, train_labels)\n",
    "best_models[svr_study.best_value] = best_svr\n",
    "print(f'Best SVR MAE: {svr_study.best_value}')"
   ],
   "metadata": {
    "collapsed": false,
    "is_executing": true
   },
   "id": "df641937506d0a6f",
   "execution_count": null
  },
  {
   "cell_type": "code",
   "outputs": [
    {
     "name": "stderr",
     "output_type": "stream",
     "text": [
      "[I 2024-07-15 12:45:51,316] A new study created in memory with name: no-name-5c2f3bd8-9770-4205-a445-f13dd6d599c4\n",
      "[I 2024-07-15 12:45:51,371] Trial 0 finished with value: 1.336938182763251e+30 and parameters: {'penalty': 'l1', 'alpha': 0.006278247156936632}. Best is trial 0 with value: 1.336938182763251e+30.\n",
      "[I 2024-07-15 12:45:51,418] Trial 1 finished with value: 2.9783086859990177e+29 and parameters: {'penalty': 'l2', 'alpha': 0.0011216209806291346}. Best is trial 1 with value: 2.9783086859990177e+29.\n",
      "[I 2024-07-15 12:45:51,472] Trial 2 finished with value: 1.1603213736381962e+30 and parameters: {'penalty': 'l1', 'alpha': 0.006515023545467642}. Best is trial 1 with value: 2.9783086859990177e+29.\n",
      "[I 2024-07-15 12:45:51,564] Trial 3 finished with value: 1.9621901318641667e+29 and parameters: {'penalty': 'l1', 'alpha': 0.004711316674438766}. Best is trial 3 with value: 1.9621901318641667e+29.\n",
      "[I 2024-07-15 12:45:51,626] Trial 4 finished with value: 1.2226905894799715e+29 and parameters: {'penalty': 'l2', 'alpha': 0.0009719063374685003}. Best is trial 4 with value: 1.2226905894799715e+29.\n",
      "[I 2024-07-15 12:45:51,707] Trial 5 finished with value: 1.438765159430911e+31 and parameters: {'penalty': 'l1', 'alpha': 0.00999743335290882}. Best is trial 4 with value: 1.2226905894799715e+29.\n",
      "[I 2024-07-15 12:45:51,782] Trial 6 finished with value: 1.0715517255055612e+29 and parameters: {'penalty': 'l2', 'alpha': 0.006718842468026045}. Best is trial 6 with value: 1.0715517255055612e+29.\n",
      "[I 2024-07-15 12:45:51,847] Trial 7 finished with value: 1.0053465137185023e+28 and parameters: {'penalty': 'l2', 'alpha': 0.008693547344509238}. Best is trial 7 with value: 1.0053465137185023e+28.\n",
      "[I 2024-07-15 12:45:51,909] Trial 8 finished with value: 3.517664784738832e+28 and parameters: {'penalty': 'l2', 'alpha': 0.004747910251376101}. Best is trial 7 with value: 1.0053465137185023e+28.\n",
      "[I 2024-07-15 12:45:52,039] Trial 9 finished with value: 6.684930976557684e+27 and parameters: {'penalty': 'l1', 'alpha': 0.0021888281669243267}. Best is trial 9 with value: 6.684930976557684e+27.\n",
      "[I 2024-07-15 12:45:52,132] Trial 10 finished with value: 2.9417873045573814e+30 and parameters: {'penalty': 'l1', 'alpha': 0.0023860353552537877}. Best is trial 9 with value: 6.684930976557684e+27.\n",
      "[I 2024-07-15 12:45:52,223] Trial 11 finished with value: 2.9238415900825743e+28 and parameters: {'penalty': 'l2', 'alpha': 0.00990779630060602}. Best is trial 9 with value: 6.684930976557684e+27.\n",
      "[I 2024-07-15 12:45:52,308] Trial 12 finished with value: 9.15892192136224e+29 and parameters: {'penalty': 'l2', 'alpha': 0.0028956543274316227}. Best is trial 9 with value: 6.684930976557684e+27.\n",
      "[I 2024-07-15 12:45:52,441] Trial 13 finished with value: 9.28633361155201e+27 and parameters: {'penalty': 'l1', 'alpha': 0.008267486672325111}. Best is trial 9 with value: 6.684930976557684e+27.\n",
      "[I 2024-07-15 12:45:52,526] Trial 14 finished with value: 2.4626780514146977e+29 and parameters: {'penalty': 'l1', 'alpha': 0.003044465678726558}. Best is trial 9 with value: 6.684930976557684e+27.\n",
      "[I 2024-07-15 12:45:52,706] Trial 15 finished with value: 1.0703097325006437e+29 and parameters: {'penalty': 'l1', 'alpha': 0.0001758975783108267}. Best is trial 9 with value: 6.684930976557684e+27.\n",
      "[I 2024-07-15 12:45:52,836] Trial 16 finished with value: 1.8444820905686163e+29 and parameters: {'penalty': 'l1', 'alpha': 0.008155352659404915}. Best is trial 9 with value: 6.684930976557684e+27.\n",
      "[I 2024-07-15 12:45:52,967] Trial 17 finished with value: 3.2619748997747106e+29 and parameters: {'penalty': 'l1', 'alpha': 0.0037154995967790747}. Best is trial 9 with value: 6.684930976557684e+27.\n",
      "[I 2024-07-15 12:45:53,076] Trial 18 finished with value: 1.6916111987689827e+30 and parameters: {'penalty': 'l1', 'alpha': 0.00772853449081388}. Best is trial 9 with value: 6.684930976557684e+27.\n",
      "[I 2024-07-15 12:45:53,191] Trial 19 finished with value: 3.1893175591487744e+27 and parameters: {'penalty': 'l1', 'alpha': 0.0057315467948773164}. Best is trial 19 with value: 3.1893175591487744e+27.\n",
      "[I 2024-07-15 12:45:53,286] Trial 20 finished with value: 2.6642637149991995e+28 and parameters: {'penalty': 'l1', 'alpha': 0.0055842600097956475}. Best is trial 19 with value: 3.1893175591487744e+27.\n",
      "[I 2024-07-15 12:45:53,430] Trial 21 finished with value: 4.7279344872896476e+30 and parameters: {'penalty': 'l1', 'alpha': 0.004023830898427672}. Best is trial 19 with value: 3.1893175591487744e+27.\n",
      "[I 2024-07-15 12:45:53,513] Trial 22 finished with value: 3.7164945735697007e+31 and parameters: {'penalty': 'l1', 'alpha': 0.001912893450883983}. Best is trial 19 with value: 3.1893175591487744e+27.\n",
      "[I 2024-07-15 12:45:53,597] Trial 23 finished with value: 1.2285615752978545e+29 and parameters: {'penalty': 'l1', 'alpha': 0.008916404936397386}. Best is trial 19 with value: 3.1893175591487744e+27.\n",
      "[I 2024-07-15 12:45:53,750] Trial 24 finished with value: 5.584316633306486e+29 and parameters: {'penalty': 'l1', 'alpha': 0.0072491528756410285}. Best is trial 19 with value: 3.1893175591487744e+27.\n",
      "[I 2024-07-15 12:45:53,921] Trial 25 finished with value: 1.4854088338045305e+28 and parameters: {'penalty': 'l1', 'alpha': 0.005883889476054463}. Best is trial 19 with value: 3.1893175591487744e+27.\n",
      "[I 2024-07-15 12:45:54,046] Trial 26 finished with value: 1.548925753276281e+30 and parameters: {'penalty': 'l1', 'alpha': 0.005509088489113837}. Best is trial 19 with value: 3.1893175591487744e+27.\n",
      "[I 2024-07-15 12:45:54,169] Trial 27 finished with value: 1.4671311933067705e+29 and parameters: {'penalty': 'l1', 'alpha': 0.0040025645536713155}. Best is trial 19 with value: 3.1893175591487744e+27.\n",
      "[I 2024-07-15 12:45:54,340] Trial 28 finished with value: 1.527276945906447e+30 and parameters: {'penalty': 'l1', 'alpha': 0.0073198738244171745}. Best is trial 19 with value: 3.1893175591487744e+27.\n",
      "[I 2024-07-15 12:45:54,440] Trial 29 finished with value: 7.816171800070966e+30 and parameters: {'penalty': 'l1', 'alpha': 0.008963196707824249}. Best is trial 19 with value: 3.1893175591487744e+27.\n",
      "[I 2024-07-15 12:45:54,563] Trial 30 finished with value: 1.5308168632170878e+29 and parameters: {'penalty': 'l1', 'alpha': 0.004916679250703371}. Best is trial 19 with value: 3.1893175591487744e+27.\n",
      "[I 2024-07-15 12:45:54,661] Trial 31 finished with value: 2.1811728735759083e+28 and parameters: {'penalty': 'l2', 'alpha': 0.008499921685715678}. Best is trial 19 with value: 3.1893175591487744e+27.\n",
      "[I 2024-07-15 12:45:54,734] Trial 32 finished with value: 3.0729939990827447e+29 and parameters: {'penalty': 'l2', 'alpha': 0.00928569258268594}. Best is trial 19 with value: 3.1893175591487744e+27.\n",
      "[I 2024-07-15 12:45:54,801] Trial 33 finished with value: 6.250738096428003e+30 and parameters: {'penalty': 'l2', 'alpha': 0.006675134755814406}. Best is trial 19 with value: 3.1893175591487744e+27.\n",
      "[I 2024-07-15 12:45:54,885] Trial 34 finished with value: 1.452589562300737e+30 and parameters: {'penalty': 'l2', 'alpha': 0.008056680535918048}. Best is trial 19 with value: 3.1893175591487744e+27.\n",
      "[I 2024-07-15 12:45:55,028] Trial 35 finished with value: 3.6156357922849587e+28 and parameters: {'penalty': 'l2', 'alpha': 0.001345443255856516}. Best is trial 19 with value: 3.1893175591487744e+27.\n",
      "[I 2024-07-15 12:45:55,136] Trial 36 finished with value: 4.8151654747038126e+29 and parameters: {'penalty': 'l1', 'alpha': 0.007241778183947754}. Best is trial 19 with value: 3.1893175591487744e+27.\n",
      "[I 2024-07-15 12:45:55,308] Trial 37 finished with value: 5.7934629265914664e+29 and parameters: {'penalty': 'l2', 'alpha': 0.005960467126340247}. Best is trial 19 with value: 3.1893175591487744e+27.\n",
      "[I 2024-07-15 12:45:55,405] Trial 38 finished with value: 3.5583139573099844e+28 and parameters: {'penalty': 'l1', 'alpha': 0.009566003274333768}. Best is trial 19 with value: 3.1893175591487744e+27.\n",
      "[I 2024-07-15 12:45:55,531] Trial 39 finished with value: 7.171863861762461e+29 and parameters: {'penalty': 'l2', 'alpha': 0.00018131887548036418}. Best is trial 19 with value: 3.1893175591487744e+27.\n",
      "[I 2024-07-15 12:45:55,625] Trial 40 finished with value: 4.567181814360226e+28 and parameters: {'penalty': 'l1', 'alpha': 0.008555545660957507}. Best is trial 19 with value: 3.1893175591487744e+27.\n",
      "[I 2024-07-15 12:45:55,727] Trial 41 finished with value: 2.813025929377933e+30 and parameters: {'penalty': 'l1', 'alpha': 0.0060426071897260476}. Best is trial 19 with value: 3.1893175591487744e+27.\n",
      "[I 2024-07-15 12:45:55,939] Trial 42 finished with value: 1.1519850504548281e+29 and parameters: {'penalty': 'l1', 'alpha': 0.005498938834593839}. Best is trial 19 with value: 3.1893175591487744e+27.\n",
      "[I 2024-07-15 12:45:56,003] Trial 43 finished with value: 1.0391215430836044e+30 and parameters: {'penalty': 'l1', 'alpha': 0.006290858418116182}. Best is trial 19 with value: 3.1893175591487744e+27.\n",
      "[I 2024-07-15 12:45:56,116] Trial 44 finished with value: 1.4895821371737022e+28 and parameters: {'penalty': 'l1', 'alpha': 0.004343165765169189}. Best is trial 19 with value: 3.1893175591487744e+27.\n",
      "[I 2024-07-15 12:45:56,203] Trial 45 finished with value: 1.1818935927550754e+29 and parameters: {'penalty': 'l1', 'alpha': 0.007562913037640878}. Best is trial 19 with value: 3.1893175591487744e+27.\n",
      "[I 2024-07-15 12:45:56,308] Trial 46 finished with value: 3.9739013669071674e+30 and parameters: {'penalty': 'l2', 'alpha': 0.0067723186823052325}. Best is trial 19 with value: 3.1893175591487744e+27.\n",
      "[I 2024-07-15 12:45:56,383] Trial 47 finished with value: 1.2278673362230825e+28 and parameters: {'penalty': 'l1', 'alpha': 0.003323215801895083}. Best is trial 19 with value: 3.1893175591487744e+27.\n",
      "[I 2024-07-15 12:45:56,477] Trial 48 finished with value: 4.740044241399822e+29 and parameters: {'penalty': 'l1', 'alpha': 0.002853981503434748}. Best is trial 19 with value: 3.1893175591487744e+27.\n",
      "[I 2024-07-15 12:45:56,564] Trial 49 finished with value: 1.6140585754475618e+28 and parameters: {'penalty': 'l2', 'alpha': 0.002390949342378114}. Best is trial 19 with value: 3.1893175591487744e+27.\n",
      "[I 2024-07-15 12:45:56,654] Trial 50 finished with value: 2.3840842814829632e+30 and parameters: {'penalty': 'l1', 'alpha': 0.0033388153643794222}. Best is trial 19 with value: 3.1893175591487744e+27.\n",
      "[I 2024-07-15 12:45:56,722] Trial 51 finished with value: 2.623346621758426e+31 and parameters: {'penalty': 'l1', 'alpha': 0.0017390500554583775}. Best is trial 19 with value: 3.1893175591487744e+27.\n",
      "[I 2024-07-15 12:45:56,874] Trial 52 finished with value: 9.065512930254306e+30 and parameters: {'penalty': 'l1', 'alpha': 0.003405071617043593}. Best is trial 19 with value: 3.1893175591487744e+27.\n",
      "[I 2024-07-15 12:45:56,955] Trial 53 finished with value: 2.09513023876503e+29 and parameters: {'penalty': 'l1', 'alpha': 0.005167345127740225}. Best is trial 19 with value: 3.1893175591487744e+27.\n",
      "[I 2024-07-15 12:45:57,051] Trial 54 finished with value: 6.59032886639346e+29 and parameters: {'penalty': 'l1', 'alpha': 0.004584893004215664}. Best is trial 19 with value: 3.1893175591487744e+27.\n",
      "[I 2024-07-15 12:45:57,214] Trial 55 finished with value: 1.0811572119855018e+30 and parameters: {'penalty': 'l1', 'alpha': 0.00247505705041113}. Best is trial 19 with value: 3.1893175591487744e+27.\n",
      "[I 2024-07-15 12:45:57,321] Trial 56 finished with value: 1.8986961414757775e+30 and parameters: {'penalty': 'l1', 'alpha': 0.0007966800746370042}. Best is trial 19 with value: 3.1893175591487744e+27.\n",
      "[I 2024-07-15 12:45:57,448] Trial 57 finished with value: 1.655880940149884e+30 and parameters: {'penalty': 'l1', 'alpha': 0.006933319286866345}. Best is trial 19 with value: 3.1893175591487744e+27.\n",
      "[I 2024-07-15 12:45:57,572] Trial 58 finished with value: 1.3001024748037942e+28 and parameters: {'penalty': 'l1', 'alpha': 0.0018473714585858594}. Best is trial 19 with value: 3.1893175591487744e+27.\n",
      "[I 2024-07-15 12:45:57,702] Trial 59 finished with value: 8.718532478788027e+29 and parameters: {'penalty': 'l1', 'alpha': 0.001860367144967648}. Best is trial 19 with value: 3.1893175591487744e+27.\n",
      "[I 2024-07-15 12:45:57,768] Trial 60 finished with value: 5.2292674758151054e+29 and parameters: {'penalty': 'l2', 'alpha': 0.0013533907961262334}. Best is trial 19 with value: 3.1893175591487744e+27.\n",
      "[I 2024-07-15 12:45:57,875] Trial 61 finished with value: 2.42768252250367e+30 and parameters: {'penalty': 'l1', 'alpha': 0.002137565049836941}. Best is trial 19 with value: 3.1893175591487744e+27.\n",
      "[I 2024-07-15 12:45:57,955] Trial 62 finished with value: 4.3712183170095204e+29 and parameters: {'penalty': 'l1', 'alpha': 0.002634990924425679}. Best is trial 19 with value: 3.1893175591487744e+27.\n",
      "[I 2024-07-15 12:45:58,025] Trial 63 finished with value: 6.5824175375767055e+28 and parameters: {'penalty': 'l1', 'alpha': 0.008024251002852726}. Best is trial 19 with value: 3.1893175591487744e+27.\n",
      "[I 2024-07-15 12:45:58,167] Trial 64 finished with value: 6.647361838836491e+27 and parameters: {'penalty': 'l1', 'alpha': 0.0009106048168573853}. Best is trial 19 with value: 3.1893175591487744e+27.\n",
      "[I 2024-07-15 12:45:58,283] Trial 65 finished with value: 3.582884478265401e+28 and parameters: {'penalty': 'l1', 'alpha': 0.0008970107611606784}. Best is trial 19 with value: 3.1893175591487744e+27.\n",
      "[I 2024-07-15 12:45:58,431] Trial 66 finished with value: 9.289626125442303e+27 and parameters: {'penalty': 'l1', 'alpha': 0.0006353528892343766}. Best is trial 19 with value: 3.1893175591487744e+27.\n",
      "[I 2024-07-15 12:45:58,527] Trial 67 finished with value: 2.5653153108542984e+29 and parameters: {'penalty': 'l1', 'alpha': 0.0005337609901475504}. Best is trial 19 with value: 3.1893175591487744e+27.\n",
      "[I 2024-07-15 12:45:58,642] Trial 68 finished with value: 4.360668565529125e+28 and parameters: {'penalty': 'l1', 'alpha': 0.0015373038128004756}. Best is trial 19 with value: 3.1893175591487744e+27.\n",
      "[I 2024-07-15 12:45:58,717] Trial 69 finished with value: 1.6426076961151035e+31 and parameters: {'penalty': 'l2', 'alpha': 5.838728617405702e-05}. Best is trial 19 with value: 3.1893175591487744e+27.\n",
      "[I 2024-07-15 12:45:58,860] Trial 70 finished with value: 8.729579637765692e+30 and parameters: {'penalty': 'l1', 'alpha': 0.0005849160618449194}. Best is trial 19 with value: 3.1893175591487744e+27.\n",
      "[I 2024-07-15 12:45:58,994] Trial 71 finished with value: 1.1542580630804488e+30 and parameters: {'penalty': 'l1', 'alpha': 0.0012381493943834211}. Best is trial 19 with value: 3.1893175591487744e+27.\n",
      "[I 2024-07-15 12:45:59,142] Trial 72 finished with value: 6.01581668714929e+28 and parameters: {'penalty': 'l1', 'alpha': 0.0010720702372559207}. Best is trial 19 with value: 3.1893175591487744e+27.\n",
      "[I 2024-07-15 12:45:59,340] Trial 73 finished with value: 3.160666325373086e+29 and parameters: {'penalty': 'l1', 'alpha': 0.0020742863636644977}. Best is trial 19 with value: 3.1893175591487744e+27.\n",
      "[I 2024-07-15 12:45:59,459] Trial 74 finished with value: 1.4456956751746043e+29 and parameters: {'penalty': 'l1', 'alpha': 0.009695056431180373}. Best is trial 19 with value: 3.1893175591487744e+27.\n",
      "[I 2024-07-15 12:45:59,601] Trial 75 finished with value: 9.182287504403144e+29 and parameters: {'penalty': 'l1', 'alpha': 0.0004059173173359146}. Best is trial 19 with value: 3.1893175591487744e+27.\n",
      "[I 2024-07-15 12:45:59,677] Trial 76 finished with value: 3.1440892057499366e+29 and parameters: {'penalty': 'l1', 'alpha': 0.0016306804712410247}. Best is trial 19 with value: 3.1893175591487744e+27.\n",
      "[I 2024-07-15 12:45:59,743] Trial 77 finished with value: 2.302492297838714e+28 and parameters: {'penalty': 'l2', 'alpha': 0.009068130223166266}. Best is trial 19 with value: 3.1893175591487744e+27.\n",
      "[I 2024-07-15 12:45:59,875] Trial 78 finished with value: 3.0137349787477065e+30 and parameters: {'penalty': 'l1', 'alpha': 0.002951998648397362}. Best is trial 19 with value: 3.1893175591487744e+27.\n",
      "[I 2024-07-15 12:45:59,972] Trial 79 finished with value: 6.584785499496706e+30 and parameters: {'penalty': 'l1', 'alpha': 0.008412950956317718}. Best is trial 19 with value: 3.1893175591487744e+27.\n",
      "[I 2024-07-15 12:46:00,113] Trial 80 finished with value: 1.2371275295279073e+29 and parameters: {'penalty': 'l2', 'alpha': 0.003824667973188139}. Best is trial 19 with value: 3.1893175591487744e+27.\n",
      "[I 2024-07-15 12:46:00,210] Trial 81 finished with value: 3.2295394971897543e+30 and parameters: {'penalty': 'l1', 'alpha': 0.005163564224447529}. Best is trial 19 with value: 3.1893175591487744e+27.\n",
      "[I 2024-07-15 12:46:00,351] Trial 82 finished with value: 2.8971093284488623e+28 and parameters: {'penalty': 'l1', 'alpha': 0.0058435791431374}. Best is trial 19 with value: 3.1893175591487744e+27.\n",
      "[I 2024-07-15 12:46:00,452] Trial 83 finished with value: 3.052840713669708e+29 and parameters: {'penalty': 'l1', 'alpha': 0.002152413610518911}. Best is trial 19 with value: 3.1893175591487744e+27.\n",
      "[I 2024-07-15 12:46:00,579] Trial 84 finished with value: 1.9922219936998884e+29 and parameters: {'penalty': 'l1', 'alpha': 0.0063653907487451755}. Best is trial 19 with value: 3.1893175591487744e+27.\n",
      "[I 2024-07-15 12:46:00,673] Trial 85 finished with value: 7.847155304252786e+30 and parameters: {'penalty': 'l1', 'alpha': 0.003386362714379827}. Best is trial 19 with value: 3.1893175591487744e+27.\n",
      "[I 2024-07-15 12:46:00,803] Trial 86 finished with value: 1.931717704299073e+29 and parameters: {'penalty': 'l1', 'alpha': 0.004436305245845359}. Best is trial 19 with value: 3.1893175591487744e+27.\n",
      "[I 2024-07-15 12:46:00,927] Trial 87 finished with value: 3.5412372875825145e+29 and parameters: {'penalty': 'l1', 'alpha': 0.0007995519159922067}. Best is trial 19 with value: 3.1893175591487744e+27.\n",
      "[I 2024-07-15 12:46:01,033] Trial 88 finished with value: 1.2476527898166092e+29 and parameters: {'penalty': 'l1', 'alpha': 0.007765237336076642}. Best is trial 19 with value: 3.1893175591487744e+27.\n",
      "[I 2024-07-15 12:46:01,152] Trial 89 finished with value: 1.4422542302482205e+29 and parameters: {'penalty': 'l2', 'alpha': 0.0014378360642020654}. Best is trial 19 with value: 3.1893175591487744e+27.\n",
      "[I 2024-07-15 12:46:01,291] Trial 90 finished with value: 1.5339976075537572e+30 and parameters: {'penalty': 'l1', 'alpha': 0.005628285505861078}. Best is trial 19 with value: 3.1893175591487744e+27.\n",
      "[I 2024-07-15 12:46:01,382] Trial 91 finished with value: 2.0422205867024094e+28 and parameters: {'penalty': 'l1', 'alpha': 0.00440819406052212}. Best is trial 19 with value: 3.1893175591487744e+27.\n",
      "[I 2024-07-15 12:46:01,505] Trial 92 finished with value: 2.570266005492106e+29 and parameters: {'penalty': 'l1', 'alpha': 0.0041025082737941795}. Best is trial 19 with value: 3.1893175591487744e+27.\n",
      "[I 2024-07-15 12:46:01,575] Trial 93 finished with value: 4.125117363534551e+31 and parameters: {'penalty': 'l1', 'alpha': 0.004973611428903684}. Best is trial 19 with value: 3.1893175591487744e+27.\n",
      "[I 2024-07-15 12:46:01,652] Trial 94 finished with value: 1.5315217519015554e+30 and parameters: {'penalty': 'l1', 'alpha': 0.002654839217268151}. Best is trial 19 with value: 3.1893175591487744e+27.\n",
      "[I 2024-07-15 12:46:01,798] Trial 95 finished with value: 7.137854509098318e+28 and parameters: {'penalty': 'l1', 'alpha': 0.003177589952906243}. Best is trial 19 with value: 3.1893175591487744e+27.\n",
      "[I 2024-07-15 12:46:01,914] Trial 96 finished with value: 1.6689462311151505e+28 and parameters: {'penalty': 'l1', 'alpha': 0.0035632989969276796}. Best is trial 19 with value: 3.1893175591487744e+27.\n",
      "[I 2024-07-15 12:46:02,077] Trial 97 finished with value: 2.4878649731383078e+30 and parameters: {'penalty': 'l1', 'alpha': 0.005249361444699874}. Best is trial 19 with value: 3.1893175591487744e+27.\n",
      "[I 2024-07-15 12:46:02,173] Trial 98 finished with value: 3.807786871000507e+29 and parameters: {'penalty': 'l2', 'alpha': 0.004730187981663616}. Best is trial 19 with value: 3.1893175591487744e+27.\n",
      "[I 2024-07-15 12:46:02,231] Trial 99 finished with value: 1.2562143280962927e+30 and parameters: {'penalty': 'l1', 'alpha': 0.00189052148998741}. Best is trial 19 with value: 3.1893175591487744e+27.\n"
     ]
    },
    {
     "name": "stdout",
     "output_type": "stream",
     "text": [
      "Best SVR MAE: 3.1893175591487744e+27\n"
     ]
    }
   ],
   "source": [
    "from sklearn.linear_model import SGDRegressor\n",
    "def objective(trial: Trial):\n",
    "    penalty = trial.suggest_categorical('penalty', ['l1', 'l2'])\n",
    "    alpha = trial.suggest_float('alpha', 0.00001, 0.01)\n",
    "    svr = SGDRegressor(penalty=penalty, alpha=alpha)\n",
    "    svr.fit(train_features, train_labels)\n",
    "    pred = svr.predict(dev_features)\n",
    "    return metrics.mean_squared_error(pred, dev_labels)\n",
    "\n",
    "sgd_study = optuna.create_study(direction='minimize')\n",
    "sgd_study.optimize(objective, n_trials=100)\n",
    "sgd_best_params = sgd_study.best_params\n",
    "best_sgd = SGDRegressor(penalty=sgd_best_params['penalty'], alpha=sgd_best_params['alpha'])\n",
    "best_sgd.fit(train_features, train_labels)\n",
    "pred = best_sgd.predict(dev_features)\n",
    "metrics.mean_squared_error(pred, dev_labels)\n",
    "best_models[sgd_study.best_value] = best_sgd\n",
    "print(f'Best SVR MAE: {sgd_study.best_value}')"
   ],
   "metadata": {
    "collapsed": false,
    "ExecuteTime": {
     "end_time": "2024-07-15T09:46:02.363405700Z",
     "start_time": "2024-07-15T09:45:51.317390600Z"
    }
   },
   "id": "d6c38847e8394296",
   "execution_count": 16
  },
  {
   "cell_type": "code",
   "outputs": [
    {
     "name": "stdout",
     "output_type": "stream",
     "text": [
      "Best model is: XGBRegressor(base_score=None, booster=None, callbacks=None,\n",
      "             colsample_bylevel=None, colsample_bynode=None,\n",
      "             colsample_bytree=None, device=None, early_stopping_rounds=None,\n",
      "             enable_categorical=False, eval_metric='rmse', feature_types=None,\n",
      "             gamma=None, grow_policy=None, importance_type=None,\n",
      "             interaction_constraints=None, learning_rate=0.1116998912476388,\n",
      "             max_bin=None, max_cat_threshold=None, max_cat_to_onehot=None,\n",
      "             max_delta_step=None, max_depth=6, max_leaves=None,\n",
      "             min_child_weight=None, missing=nan, monotone_constraints=None,\n",
      "             multi_strategy=None, n_estimators=250, n_jobs=None,\n",
      "             num_parallel_tree=None, random_state=None, ...)\n",
      "Best MAE for test: 0.21784458357275302\n"
     ]
    }
   ],
   "source": [
    "best_mae = float('inf')\n",
    "best_model = None\n",
    "for mae in best_models:\n",
    "  if mae < best_mae:\n",
    "    best_mae = mae\n",
    "    best_model = best_models[mae]\n",
    "\n",
    "print(f'Best model is: {best_model}')\n",
    "print(f'Best MAE for test: {metrics.mean_squared_error(best_model.predict(test_features), test_labels)}')"
   ],
   "metadata": {
    "collapsed": false,
    "ExecuteTime": {
     "end_time": "2024-07-15T09:46:56.221268300Z",
     "start_time": "2024-07-15T09:46:56.185275400Z"
    }
   },
   "id": "3e654be3ff282091",
   "execution_count": 17
  },
  {
   "cell_type": "code",
   "outputs": [],
   "source": [],
   "metadata": {
    "collapsed": false
   },
   "id": "6184a8e57df650c6"
  }
 ],
 "metadata": {
  "kernelspec": {
   "display_name": "Python 3",
   "language": "python",
   "name": "python3"
  },
  "language_info": {
   "codemirror_mode": {
    "name": "ipython",
    "version": 2
   },
   "file_extension": ".py",
   "mimetype": "text/x-python",
   "name": "python",
   "nbconvert_exporter": "python",
   "pygments_lexer": "ipython2",
   "version": "2.7.6"
  }
 },
 "nbformat": 4,
 "nbformat_minor": 5
}
