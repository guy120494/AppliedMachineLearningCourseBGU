{
 "cells": [
  {
   "cell_type": "code",
   "outputs": [],
   "source": [
    "import math\n",
    "import pandas as pd\n",
    "import numpy as np\n",
    "from sklearn import *\n",
    "import matplotlib.pyplot as plt\n",
    "import xgboost as xgb\n",
    "from pandas.plotting import scatter_matrix\n",
    "from sklearn.ensemble import RandomForestClassifier, GradientBoostingClassifier\n",
    "from sklearn.metrics import accuracy_score, confusion_matrix\n",
    "from sklearn.model_selection import GridSearchCV\n",
    "from sklearn.pipeline import Pipeline\n",
    "from sklearn.svm import SVC\n",
    "from sklearn.preprocessing import PowerTransformer, PolynomialFeatures\n",
    "import seaborn as sns"
   ],
   "metadata": {
    "collapsed": false
   },
   "id": "58c0969955472694"
  },
  {
   "cell_type": "markdown",
   "source": [
    "# **Data inspection and preprocessing**"
   ],
   "metadata": {
    "collapsed": false
   },
   "id": "a7a3e460936e355e"
  },
  {
   "cell_type": "code",
   "outputs": [],
   "source": [
    "# Unpacking data from pickle file and basic information about the data\n",
    "data = pd.read_pickle('./ass2.pickle')\n",
    "train, dev, test = data['train'], data['dev'], data['test']"
   ],
   "metadata": {
    "collapsed": false
   },
   "id": "a2bf92577a6a15eb"
  },
  {
   "cell_type": "code",
   "outputs": [],
   "source": [
    "# Show basic data information\n",
    "print(f\"number of features: {len(train.columns) - 1}\")\n",
    "print(f\"types of labels: {train['target'].unique()}\")\n",
    "\n",
    "print(f\"number of rows in train: {len(train)}\")\n",
    "print(f\"number of rows in dev: {len(dev)}\")\n",
    "print(f\"number of rows in test: {len(test)}\")\n"
   ],
   "metadata": {
    "collapsed": false
   },
   "id": "13c2522016800fda"
  },
  {
   "cell_type": "code",
   "outputs": [
    {
     "data": {
      "text/plain": "f0        0\nf1        0\nf2        0\nf3        0\nf4        0\nf5        0\nf6        0\nf7        0\nf8        0\nf9        0\nf10       0\nf11       0\nf12       0\nf13       0\nf14       0\nf15       0\nf16       0\nf17       0\nf18       0\nf19       0\nf20       0\nf21       0\nf22       0\nf23       0\nf24       0\nf25       0\nf26       0\nf27       0\nf28       0\nf29       0\nf30       0\nf31       0\nf32       0\nf33       0\nf34       0\nf35       0\nf36       0\nf37       0\nf38       0\nf39       0\nf40       0\nf41       0\ntarget    0\ndtype: int64"
     },
     "execution_count": 3,
     "metadata": {},
     "output_type": "execute_result"
    }
   ],
   "source": [
    "#Checking for missing values\n",
    "train.isnull().sum()"
   ],
   "metadata": {
    "collapsed": false,
    "ExecuteTime": {
     "end_time": "2024-06-19T06:12:15.357138Z",
     "start_time": "2024-06-19T06:12:15.347486Z"
    }
   },
   "id": "2dde8f66ee605662",
   "execution_count": 3
  },
  {
   "cell_type": "markdown",
   "source": [
    "There are no missing values"
   ],
   "metadata": {
    "collapsed": false
   },
   "id": "27317adc6bfbfe71"
  },
  {
   "cell_type": "code",
   "outputs": [],
   "source": [
    "# Show general information about the data (mean, ste, etc. by feature)\n",
    "train.describe()"
   ],
   "metadata": {
    "collapsed": false
   },
   "id": "fe03224b41993eec"
  },
  {
   "cell_type": "code",
   "outputs": [],
   "source": [
    "# Information about the training data - group by label\n",
    "train.groupby('target').describe()"
   ],
   "metadata": {
    "collapsed": false
   },
   "id": "3a648ad762cb662f"
  },
  {
   "cell_type": "markdown",
   "source": [
    "the \"count\" column tells us that the data is unbalanced. There are way more samples of label \"2\" than the other labels."
   ],
   "metadata": {
    "collapsed": false
   },
   "id": "ae746469aab334f6"
  },
  {
   "cell_type": "code",
   "outputs": [],
   "source": [
    "# Splitting the data into features and labels dataframes\n",
    "train_features, train_labels = train.drop('target', axis=1), train['target']\n",
    "dev_features, dev_labels = dev.drop('target', axis=1), dev['target']\n",
    "test_features, test_labels = test.drop('target', axis=1), test['target']"
   ],
   "metadata": {
    "collapsed": false,
    "ExecuteTime": {
     "end_time": "2024-06-19T06:12:15.522174Z",
     "start_time": "2024-06-19T06:12:15.509574Z"
    }
   },
   "id": "f073c2f2776f2777",
   "execution_count": 5
  },
  {
   "cell_type": "code",
   "outputs": [],
   "source": [
    "# Check for redundant feature. We decide againts removing features since the correlations are not strong enough\n",
    "sns.heatmap(train_features.corr())"
   ],
   "metadata": {
    "collapsed": false
   },
   "id": "9fbaf67c00e6a3a4"
  },
  {
   "cell_type": "markdown",
   "source": [
    "For each pipeline in the learning section, we apply preprocessing method using PowerTransformer to map the features into more normal distribustion (Gaussian) and make learning easier. We showed the statistical data of each feature (for example, the mean of it), and it implies that this preprocess will achieve better results."
   ],
   "metadata": {
    "collapsed": false
   },
   "id": "acb6d5d22ab693d8"
  },
  {
   "cell_type": "code",
   "outputs": [],
   "source": [
    "# After preprocess, features will be cloder to form of Gaussian distribution\n",
    "processed = PowerTransformer(method=\"yeo-johnson\").fit(train_features).transform(train_features)\n",
    "pd.DataFrame(processed).describe()"
   ],
   "metadata": {
    "collapsed": false
   },
   "id": "7052abf80312cd5d"
  },
  {
   "cell_type": "markdown",
   "source": [
    "# **Learning**"
   ],
   "metadata": {
    "collapsed": false
   },
   "id": "a2497ba562582831"
  },
  {
   "cell_type": "markdown",
   "source": [
    "We try few models, and for each one we try different hyperparameters using grid search. Finally we use accuracy score metric to evaluate the model, and also show the confusion matrix"
   ],
   "metadata": {
    "collapsed": false
   },
   "id": "bae3358f5b10e9c9"
  },
  {
   "cell_type": "code",
   "outputs": [],
   "source": [
    "# Check XG Boost\n",
    "# We try various learning rates and estimators\n",
    "pipe = Pipeline(steps=[('scalar', PowerTransformer(method='yeo-johnson')), ('classifier', xgb.XGBClassifier(objective='multi:softmax', num_class=3))])\n",
    "xg_param_space = [{'classifier__learning_rate': [0.2, 0.3, 0.4],\n",
    "                 'classifier__n_estimators': [50, 100, 200]}]\n",
    "xg_clf = GridSearchCV(pipe, xg_param_space, verbose=5)\n",
    "xg_clf.fit(train_features, train_labels)\n",
    "y_pred = xg_clf.predict(dev_features)\n",
    "print(xg_clf.best_estimator_)\n",
    "print(\"Accuracy:\", metrics.accuracy_score(dev_labels, y_pred))\n",
    "confusion_matrix(y_true=dev_labels, y_pred=y_pred, labels=[0,1,2])"
   ],
   "metadata": {
    "collapsed": false
   },
   "id": "9f3d6100aea68a6c"
  },
  {
   "cell_type": "code",
   "outputs": [],
   "source": [
    "# Check Random Forest\n",
    "# We try various depth and minimal split parameters\n",
    "pipe = Pipeline(steps=[('scalar', PowerTransformer(method='yeo-johnson')), ('polynomial_features', PolynomialFeatures()), ('classifier', RandomForestClassifier())])\n",
    "forest_param_space = [{'classifier__n_estimators': [100, 250, 400],\n",
    "                 'classifier__max_depth': [None, 30, 50],\n",
    "                 'classifier__min_samples_split': [2, 3, 4]}]\n",
    "rf_clf = GridSearchCV(pipe, forest_param_space, verbose=5)\n",
    "rf_clf.fit(train_features, train_labels)\n",
    "y_pred = rf_clf.predict(dev_features)\n",
    "print(rf_clf.best_estimator_)\n",
    "print(\"Accuracy:\", metrics.accuracy_score(dev_labels, y_pred))\n",
    "confusion_matrix(y_true=dev_labels, y_pred=y_pred, labels=[0,1,2])"
   ],
   "metadata": {
    "collapsed": false,
    "ExecuteTime": {
     "start_time": "2024-06-19T06:16:39.523716Z"
    }
   },
   "id": "444765abbbe3f180"
  },
  {
   "cell_type": "code",
   "outputs": [],
   "source": [
    "# Check Gradient Boosting\n",
    "# We try various hyperparameters for this model as well\n",
    "pipe = Pipeline(steps=[('scalar', PowerTransformer(method='yeo-johnson')), ('classifier', GradientBoostingClassifier())])\n",
    "gb_param_space = [{'classifier__learning_rate': [0.2, 0.3],\n",
    "                 'classifier__max_depth': [2, 3],\n",
    "                 'classifier__min_samples_split': [2, 3],\n",
    "                 'classifier__n_estimators': [100, 250, 400]}]\n",
    "gb_clf = GridSearchCV(pipe, gb_param_space, verbose=5)\n",
    "gb_clf.fit(train_features, train_labels)\n",
    "y_pred = gb_clf.predict(dev_features)\n",
    "print(gb_clf.best_estimator_)\n",
    "print(\"Accuracy:\", metrics.accuracy_score(dev_labels, y_pred))\n",
    "confusion_matrix(y_true=dev_labels, y_pred=y_pred, labels=[0,1,2])"
   ],
   "metadata": {
    "collapsed": false,
    "ExecuteTime": {
     "start_time": "2024-06-19T06:16:39.523716Z"
    }
   },
   "id": "f165aaf67b29d55a"
  },
  {
   "cell_type": "markdown",
   "source": [
    "We note that we tried using PolynomialFeatures for XG boost and gradient boosting, but it caused our models to perform extremely slow"
   ],
   "metadata": {
    "collapsed": false
   },
   "id": "708e29bb42adbe5b"
  },
  {
   "cell_type": "code",
   "outputs": [],
   "source": [
    "# Check SVC\n",
    "# We try few possible parameters\n",
    "pipe = Pipeline(steps=[('scalar', PowerTransformer(method='yeo-johnson')),('classifier', SVC(gamma='auto'))])\n",
    "svc_param_space = [{'classifier__class_weight': [None, 'balanced'], 'classifier__C': [1, 2, 3]}]\n",
    "svc_clf = GridSearchCV(pipe, svc_param_space, verbose=5)\n",
    "svc_clf.fit(train_features, train_labels)\n",
    "y_pred = svc_clf.predict(dev_features)\n",
    "print(svc_clf.best_estimator_)\n",
    "print(\"Accuracy:\", metrics.accuracy_score(dev_labels, y_pred))\n",
    "confusion_matrix(y_true=dev_labels, y_pred=y_pred, labels=[0,1,2])"
   ],
   "metadata": {
    "collapsed": false,
    "ExecuteTime": {
     "start_time": "2024-06-19T06:16:39.523716Z"
    }
   },
   "id": "c729986ac9646b0"
  },
  {
   "cell_type": "code",
   "outputs": [],
   "source": [
    "# since the data is unbalanced, we try over and under sampling approaches\n",
    "#Under sampling\n",
    "from imblearn.under_sampling import RandomUnderSampler\n",
    "rus = RandomUnderSampler(random_state=42, sampling_strategy = 'not minority')\n",
    "train_features_resampled, train_labels_resampled = rus.fit_resample(train_features, train_labels)\n",
    "rf = RandomForestClassifier()\n",
    "rf.fit(train_features_resampled, train_labels_resampled)\n",
    "y_pred = rf.predict(dev_features)\n",
    "accuracy = accuracy_score(dev_labels, y_pred)\n",
    "print(\"Accuracy:\", accuracy)\n",
    "confusion_matrix(y_true=dev_labels, y_pred=y_pred, labels=[0,1,2])"
   ],
   "metadata": {
    "collapsed": false,
    "ExecuteTime": {
     "start_time": "2024-06-19T06:16:39.523716Z"
    }
   },
   "id": "7d0e811085ec37b",
   "execution_count": null
  },
  {
   "cell_type": "code",
   "outputs": [],
   "source": [
    "#Over sampling\n",
    "from imblearn.over_sampling import SMOTE\n",
    "smote = SMOTE()\n",
    "train_features_resampled, train_labels_resampled = smote.fit_resample(train_features, train_labels)\n",
    "rf_over_sampling = clone(rf_clf)\n",
    "rf_over_sampling.fit(train_features_resampled, train_labels_resampled)\n",
    "y_pred = rf_over_sampling.predict(dev_features)\n",
    "accuracy = accuracy_score(dev_labels, y_pred)\n",
    "print(\"Accuracy:\", accuracy)\n",
    "confusion_matrix(y_true=dev_labels, y_pred=y_pred, labels=[0,1,2])"
   ],
   "metadata": {
    "collapsed": false,
    "ExecuteTime": {
     "start_time": "2024-06-19T06:16:39.523716Z"
    }
   },
   "id": "4a63fdd777bd21e4",
   "execution_count": null
  },
  {
   "cell_type": "markdown",
   "source": [
    "# **Test**"
   ],
   "metadata": {
    "collapsed": false
   },
   "id": "4754d7cae61d1d76"
  },
  {
   "cell_type": "code",
   "outputs": [],
   "source": [
    "y_pred = xg_clf.predict(test_features)\n",
    "print(\"Test accuracy:\", metrics.accuracy_score(test_labels, y_pred))"
   ],
   "metadata": {
    "collapsed": false,
    "ExecuteTime": {
     "start_time": "2024-06-19T06:16:39.523716Z"
    }
   },
   "id": "6bac9f1aa37de0c",
   "execution_count": null
  }
 ],
 "metadata": {
  "kernelspec": {
   "display_name": "Python 3",
   "language": "python",
   "name": "python3"
  },
  "language_info": {
   "codemirror_mode": {
    "name": "ipython",
    "version": 2
   },
   "file_extension": ".py",
   "mimetype": "text/x-python",
   "name": "python",
   "nbconvert_exporter": "python",
   "pygments_lexer": "ipython2",
   "version": "2.7.6"
  }
 },
 "nbformat": 4,
 "nbformat_minor": 5
}
