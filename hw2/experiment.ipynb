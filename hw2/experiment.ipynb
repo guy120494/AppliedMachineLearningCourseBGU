{
 "cells": [
  {
   "cell_type": "code",
   "execution_count": 62,
   "id": "initial_id",
   "metadata": {
    "collapsed": true,
    "ExecuteTime": {
     "end_time": "2024-06-05T13:00:30.104193Z",
     "start_time": "2024-06-05T13:00:30.100346Z"
    }
   },
   "outputs": [],
   "source": [
    "import pandas as pd\n",
    "import numpy as np\n",
    "from sklearn import *\n",
    "import matplotlib.pyplot as plt\n",
    "import xgboost as xgb\n",
    "from pandas.plotting import scatter_matrix\n",
    "from sklearn.ensemble import RandomForestClassifier, GradientBoostingClassifier\n",
    "from sklearn.metrics import accuracy_score, confusion_matrix"
   ]
  },
  {
   "cell_type": "code",
   "outputs": [
    {
     "name": "stdout",
     "output_type": "stream",
     "text": [
      "number of features: 42\n",
      "types of labels: [2 1 0]\n",
      "number of rows in train: 40533\n",
      "number of rows in dev: 13512\n",
      "number of rows in test: 13512\n"
     ]
    }
   ],
   "source": [
    "data = pd.read_pickle('./ass2.pickle')\n",
    "train, dev, test = data['train'], data['dev'], data['test'] \n",
    "print(f\"number of features: {len(train.columns) - 1}\")\n",
    "print(f\"types of labels: {train['target'].unique()}\")\n",
    "\n",
    "print(f\"number of rows in train: {len(train)}\")\n",
    "print(f\"number of rows in dev: {len(dev)}\")\n",
    "print(f\"number of rows in test: {len(test)}\")\n"
   ],
   "metadata": {
    "collapsed": false,
    "ExecuteTime": {
     "end_time": "2024-06-05T13:00:30.146060Z",
     "start_time": "2024-06-05T13:00:30.127017Z"
    }
   },
   "id": "5c54853201319309",
   "execution_count": 63
  },
  {
   "cell_type": "code",
   "outputs": [
    {
     "data": {
      "text/plain": "f0        0\nf1        0\nf2        0\nf3        0\nf4        0\nf5        0\nf6        0\nf7        0\nf8        0\nf9        0\nf10       0\nf11       0\nf12       0\nf13       0\nf14       0\nf15       0\nf16       0\nf17       0\nf18       0\nf19       0\nf20       0\nf21       0\nf22       0\nf23       0\nf24       0\nf25       0\nf26       0\nf27       0\nf28       0\nf29       0\nf30       0\nf31       0\nf32       0\nf33       0\nf34       0\nf35       0\nf36       0\nf37       0\nf38       0\nf39       0\nf40       0\nf41       0\ntarget    0\ndtype: int64"
     },
     "execution_count": 64,
     "metadata": {},
     "output_type": "execute_result"
    }
   ],
   "source": [
    "#Checking for missing values\n",
    "train.isnull().sum()"
   ],
   "metadata": {
    "collapsed": false,
    "ExecuteTime": {
     "end_time": "2024-06-05T13:00:30.186782Z",
     "start_time": "2024-06-05T13:00:30.179802Z"
    }
   },
   "id": "1874ce1f56814373",
   "execution_count": 64
  },
  {
   "cell_type": "code",
   "outputs": [
    {
     "data": {
      "text/plain": "             f0                                                    f1  \\\n          count      mean       std  min  25%  50%  75%  max    count   \ntarget                                                                  \n0        3917.0  1.061527  0.833138  0.0  0.0  1.0  2.0  2.0   3917.0   \n1        9882.0  1.082676  0.908831  0.0  0.0  1.0  2.0  2.0   9882.0   \n2       26734.0  0.899080  0.798188  0.0  0.0  1.0  2.0  2.0  26734.0   \n\n                  ...  f40           f41                                     \\\n            mean  ...  75%  max    count      mean       std  min  25%  50%   \ntarget            ...                                                         \n0       0.669135  ...  0.0  2.0   3917.0  0.003574  0.074868  0.0  0.0  0.0   \n1       0.572759  ...  0.0  2.0   9882.0  0.000911  0.038952  0.0  0.0  0.0   \n2       0.509052  ...  0.0  2.0  26734.0  0.001272  0.037681  0.0  0.0  0.0   \n\n                  \n        75%  max  \ntarget            \n0       0.0  2.0  \n1       0.0  2.0  \n2       0.0  2.0  \n\n[3 rows x 336 columns]",
      "text/html": "<div>\n<style scoped>\n    .dataframe tbody tr th:only-of-type {\n        vertical-align: middle;\n    }\n\n    .dataframe tbody tr th {\n        vertical-align: top;\n    }\n\n    .dataframe thead tr th {\n        text-align: left;\n    }\n\n    .dataframe thead tr:last-of-type th {\n        text-align: right;\n    }\n</style>\n<table border=\"1\" class=\"dataframe\">\n  <thead>\n    <tr>\n      <th></th>\n      <th colspan=\"8\" halign=\"left\">f0</th>\n      <th colspan=\"2\" halign=\"left\">f1</th>\n      <th>...</th>\n      <th colspan=\"2\" halign=\"left\">f40</th>\n      <th colspan=\"8\" halign=\"left\">f41</th>\n    </tr>\n    <tr>\n      <th></th>\n      <th>count</th>\n      <th>mean</th>\n      <th>std</th>\n      <th>min</th>\n      <th>25%</th>\n      <th>50%</th>\n      <th>75%</th>\n      <th>max</th>\n      <th>count</th>\n      <th>mean</th>\n      <th>...</th>\n      <th>75%</th>\n      <th>max</th>\n      <th>count</th>\n      <th>mean</th>\n      <th>std</th>\n      <th>min</th>\n      <th>25%</th>\n      <th>50%</th>\n      <th>75%</th>\n      <th>max</th>\n    </tr>\n    <tr>\n      <th>target</th>\n      <th></th>\n      <th></th>\n      <th></th>\n      <th></th>\n      <th></th>\n      <th></th>\n      <th></th>\n      <th></th>\n      <th></th>\n      <th></th>\n      <th></th>\n      <th></th>\n      <th></th>\n      <th></th>\n      <th></th>\n      <th></th>\n      <th></th>\n      <th></th>\n      <th></th>\n      <th></th>\n      <th></th>\n    </tr>\n  </thead>\n  <tbody>\n    <tr>\n      <th>0</th>\n      <td>3917.0</td>\n      <td>1.061527</td>\n      <td>0.833138</td>\n      <td>0.0</td>\n      <td>0.0</td>\n      <td>1.0</td>\n      <td>2.0</td>\n      <td>2.0</td>\n      <td>3917.0</td>\n      <td>0.669135</td>\n      <td>...</td>\n      <td>0.0</td>\n      <td>2.0</td>\n      <td>3917.0</td>\n      <td>0.003574</td>\n      <td>0.074868</td>\n      <td>0.0</td>\n      <td>0.0</td>\n      <td>0.0</td>\n      <td>0.0</td>\n      <td>2.0</td>\n    </tr>\n    <tr>\n      <th>1</th>\n      <td>9882.0</td>\n      <td>1.082676</td>\n      <td>0.908831</td>\n      <td>0.0</td>\n      <td>0.0</td>\n      <td>1.0</td>\n      <td>2.0</td>\n      <td>2.0</td>\n      <td>9882.0</td>\n      <td>0.572759</td>\n      <td>...</td>\n      <td>0.0</td>\n      <td>2.0</td>\n      <td>9882.0</td>\n      <td>0.000911</td>\n      <td>0.038952</td>\n      <td>0.0</td>\n      <td>0.0</td>\n      <td>0.0</td>\n      <td>0.0</td>\n      <td>2.0</td>\n    </tr>\n    <tr>\n      <th>2</th>\n      <td>26734.0</td>\n      <td>0.899080</td>\n      <td>0.798188</td>\n      <td>0.0</td>\n      <td>0.0</td>\n      <td>1.0</td>\n      <td>2.0</td>\n      <td>2.0</td>\n      <td>26734.0</td>\n      <td>0.509052</td>\n      <td>...</td>\n      <td>0.0</td>\n      <td>2.0</td>\n      <td>26734.0</td>\n      <td>0.001272</td>\n      <td>0.037681</td>\n      <td>0.0</td>\n      <td>0.0</td>\n      <td>0.0</td>\n      <td>0.0</td>\n      <td>2.0</td>\n    </tr>\n  </tbody>\n</table>\n<p>3 rows × 336 columns</p>\n</div>"
     },
     "execution_count": 65,
     "metadata": {},
     "output_type": "execute_result"
    }
   ],
   "source": [
    "train.groupby('target').describe()"
   ],
   "metadata": {
    "collapsed": false,
    "ExecuteTime": {
     "end_time": "2024-06-05T13:00:30.331070Z",
     "start_time": "2024-06-05T13:00:30.187787Z"
    }
   },
   "id": "bc8eccb4b6b45a2d",
   "execution_count": 65
  },
  {
   "cell_type": "code",
   "outputs": [],
   "source": [
    "train_features, train_labels = train.drop('target', axis=1), train['target']\n",
    "dev_features, dev_labels = dev.drop('target', axis=1), dev['target']\n",
    "test_features, test_labels = test.drop('target', axis=1), test['target']"
   ],
   "metadata": {
    "collapsed": false,
    "ExecuteTime": {
     "end_time": "2024-06-05T13:00:30.346052Z",
     "start_time": "2024-06-05T13:00:30.332075Z"
    }
   },
   "id": "5192e007751fc7a2",
   "execution_count": 66
  },
  {
   "cell_type": "code",
   "outputs": [
    {
     "name": "stdout",
     "output_type": "stream",
     "text": [
      "Accuracy: 0.809206631142688\n"
     ]
    },
    {
     "data": {
      "text/plain": "array([[ 149,  344,  777],\n       [  90, 2291,  992],\n       [  70,  305, 8494]], dtype=int64)"
     },
     "execution_count": 90,
     "metadata": {},
     "output_type": "execute_result"
    }
   ],
   "source": [
    "rf = RandomForestClassifier()\n",
    "rf.fit(train_features, train_labels)\n",
    "y_pred = rf.predict(dev_features)\n",
    "accuracy = accuracy_score(dev_labels, y_pred)\n",
    "print(\"Accuracy:\", accuracy)\n",
    "confusion_matrix(y_true=dev_labels, y_pred=y_pred, labels=[0,1,2])"
   ],
   "metadata": {
    "collapsed": false,
    "ExecuteTime": {
     "end_time": "2024-06-05T13:32:27.663517Z",
     "start_time": "2024-06-05T13:32:24.478153Z"
    }
   },
   "id": "2c6d02a870612b1e",
   "execution_count": 90
  },
  {
   "cell_type": "code",
   "outputs": [
    {
     "name": "stdout",
     "output_type": "stream",
     "text": [
      "Accuracy: 0.7551805802249852\n"
     ]
    },
    {
     "data": {
      "text/plain": "array([[  11,  240, 1019],\n       [   1, 1701, 1671],\n       [   3,  374, 8492]], dtype=int64)"
     },
     "execution_count": 93,
     "metadata": {},
     "output_type": "execute_result"
    }
   ],
   "source": [
    "clf = GradientBoostingClassifier(n_estimators=100, random_state=0).fit(train_features, train_labels)\n",
    "y_pred = clf.predict(dev_features)\n",
    "accuracy = accuracy_score(dev_labels, y_pred)\n",
    "print(\"Accuracy:\", accuracy)\n",
    "confusion_matrix(y_true=dev_labels, y_pred=y_pred, labels=[0,1,2])"
   ],
   "metadata": {
    "collapsed": false,
    "ExecuteTime": {
     "end_time": "2024-06-05T13:36:53.462405Z",
     "start_time": "2024-06-05T13:36:44.586635Z"
    }
   },
   "id": "d626244d29a498bf",
   "execution_count": 93
  },
  {
   "cell_type": "code",
   "outputs": [
    {
     "name": "stdout",
     "output_type": "stream",
     "text": [
      "Accuracy: 0.8335553582001184\n"
     ]
    },
    {
     "data": {
      "text/plain": "array([[ 199,  385,  686],\n       [  94, 2629,  650],\n       [  72,  362, 8435]], dtype=int64)"
     },
     "execution_count": 69,
     "metadata": {},
     "output_type": "execute_result"
    }
   ],
   "source": [
    "xgb_model = xgb.XGBClassifier(objective=\"multi:softprob\", random_state=42)\n",
    "xgb_model.fit(train_features, train_labels)\n",
    "y_pred = xgb_model.predict(dev_features)\n",
    "accuracy = accuracy_score(dev_labels, y_pred)\n",
    "print(\"Accuracy:\", accuracy)\n",
    "confusion_matrix(y_true=dev_labels, y_pred=y_pred, labels=[0,1,2])"
   ],
   "metadata": {
    "collapsed": false,
    "ExecuteTime": {
     "end_time": "2024-06-05T13:00:45.214318Z",
     "start_time": "2024-06-05T13:00:43.832023Z"
    }
   },
   "id": "dd01a662d9778789",
   "execution_count": 69
  },
  {
   "cell_type": "code",
   "outputs": [
    {
     "name": "stdout",
     "output_type": "stream",
     "text": [
      "Accuracy: 0.7556986382474837\n"
     ]
    },
    {
     "data": {
      "text/plain": "array([[   2,  258, 1010],\n       [   3, 1692, 1678],\n       [   3,  349, 8517]], dtype=int64)"
     },
     "execution_count": 86,
     "metadata": {},
     "output_type": "execute_result"
    }
   ],
   "source": [
    "from sklearn.pipeline import make_pipeline\n",
    "from sklearn.preprocessing import StandardScaler\n",
    "from sklearn.svm import SVC\n",
    "clf = make_pipeline(StandardScaler(), SVC(gamma='auto'))\n",
    "clf.fit(train_features, train_labels)\n",
    "y_pred = clf.predict(dev_features)\n",
    "accuracy = accuracy_score(dev_labels, y_pred)\n",
    "print(\"Accuracy:\", accuracy)\n",
    "confusion_matrix(y_true=dev_labels, y_pred=y_pred, labels=[0,1,2])"
   ],
   "metadata": {
    "collapsed": false,
    "ExecuteTime": {
     "end_time": "2024-06-05T13:28:38.202515Z",
     "start_time": "2024-06-05T13:27:00.361634Z"
    }
   },
   "id": "bb29ee75f05e2146",
   "execution_count": 86
  },
  {
   "cell_type": "code",
   "outputs": [
    {
     "name": "stdout",
     "output_type": "stream",
     "text": [
      "Accuracy: 0.6759177027827117\n"
     ]
    },
    {
     "data": {
      "text/plain": "array([[ 782,  298,  190],\n       [ 781, 2295,  297],\n       [1756, 1057, 6056]], dtype=int64)"
     },
     "execution_count": 70,
     "metadata": {},
     "output_type": "execute_result"
    }
   ],
   "source": [
    "#Under sampling\n",
    "from imblearn.under_sampling import RandomUnderSampler\n",
    "rus = RandomUnderSampler(random_state=42, sampling_strategy = 'not minority')\n",
    "train_features_resampled, train_labels_resampled = rus.fit_resample(train_features, train_labels)\n",
    "rf = RandomForestClassifier()\n",
    "rf.fit(train_features_resampled, train_labels_resampled)\n",
    "y_pred = rf.predict(dev_features)\n",
    "accuracy = accuracy_score(dev_labels, y_pred)\n",
    "print(\"Accuracy:\", accuracy)\n",
    "confusion_matrix(y_true=dev_labels, y_pred=y_pred, labels=[0,1,2])"
   ],
   "metadata": {
    "collapsed": false,
    "ExecuteTime": {
     "end_time": "2024-06-05T13:00:47.835390Z",
     "start_time": "2024-06-05T13:00:45.216349Z"
    }
   },
   "id": "7d0e811085ec37b",
   "execution_count": 70
  },
  {
   "cell_type": "code",
   "outputs": [
    {
     "name": "stdout",
     "output_type": "stream",
     "text": [
      "Accuracy: 0.7673179396092362\n"
     ]
    },
    {
     "data": {
      "text/plain": "array([[ 440,  411,  419],\n       [ 375, 2454,  544],\n       [ 673,  722, 7474]], dtype=int64)"
     },
     "execution_count": 71,
     "metadata": {},
     "output_type": "execute_result"
    }
   ],
   "source": [
    "#Over sampling\n",
    "from imblearn.over_sampling import SMOTE\n",
    "smote = SMOTE()\n",
    "train_features_resampled, train_labels_resampled = smote.fit_resample(train_features, train_labels)\n",
    "rf = RandomForestClassifier()\n",
    "rf.fit(train_features_resampled, train_labels_resampled)\n",
    "y_pred = rf.predict(dev_features)\n",
    "accuracy = accuracy_score(dev_labels, y_pred)\n",
    "print(\"Accuracy:\", accuracy)\n",
    "confusion_matrix(y_true=dev_labels, y_pred=y_pred, labels=[0,1,2])"
   ],
   "metadata": {
    "collapsed": false,
    "ExecuteTime": {
     "end_time": "2024-06-05T13:01:08.836220Z",
     "start_time": "2024-06-05T13:00:47.837945Z"
    }
   },
   "id": "4a63fdd777bd21e4",
   "execution_count": 71
  },
  {
   "cell_type": "code",
   "outputs": [
    {
     "name": "stderr",
     "output_type": "stream",
     "text": [
      "C:\\Users\\admin\\PycharmProjects\\AppliedMachineLearning\\.venv\\Lib\\site-packages\\sklearn\\base.py:486: UserWarning: X has feature names, but RandomForestClassifier was fitted without feature names\n",
      "  warnings.warn(\n"
     ]
    },
    {
     "name": "stdout",
     "output_type": "stream",
     "text": [
      "Accuracy: 0.8072824156305506\n"
     ]
    },
    {
     "data": {
      "text/plain": "array([[ 156,  344,  770],\n       [  85, 2278, 1010],\n       [  70,  325, 8474]], dtype=int64)"
     },
     "execution_count": 72,
     "metadata": {},
     "output_type": "execute_result"
    }
   ],
   "source": [
    "from sklearn.feature_selection import SelectKBest, chi2\n",
    "\n",
    "k_best_selector = SelectKBest(chi2, k=40)\n",
    "train_features_new = k_best_selector.fit_transform(train_features, train_labels)\n",
    "rf = RandomForestClassifier()\n",
    "rf.fit(train_features_new, train_labels)\n",
    "y_pred = rf.predict(dev_features[k_best_selector.get_feature_names_out()])\n",
    "accuracy = accuracy_score(dev_labels, y_pred)\n",
    "print(\"Accuracy:\", accuracy)\n",
    "confusion_matrix(y_true=dev_labels, y_pred=y_pred, labels=[0,1,2])"
   ],
   "metadata": {
    "collapsed": false,
    "ExecuteTime": {
     "end_time": "2024-06-05T13:01:16.934677Z",
     "start_time": "2024-06-05T13:01:08.838570Z"
    }
   },
   "id": "6bac9f1aa37de0c",
   "execution_count": 72
  },
  {
   "cell_type": "code",
   "outputs": [],
   "source": [
    "def train_with_2_svc(features: pd.DataFrame, labels: pd.Series):\n",
    "    category_not_2_features = features[labels != 2]\n",
    "    category_not_2_labels = labels[labels != 2]\n",
    "    "
   ],
   "metadata": {
    "collapsed": false,
    "ExecuteTime": {
     "end_time": "2024-06-05T13:23:09.782780Z",
     "start_time": "2024-06-05T13:23:09.779535Z"
    }
   },
   "id": "62817e555298d2bc",
   "execution_count": 84
  },
  {
   "cell_type": "code",
   "outputs": [
    {
     "name": "stdout",
     "output_type": "stream",
     "text": [
      "63050    1\n",
      "46731    0\n",
      "13683    1\n",
      "30837    1\n",
      "57381    1\n",
      "        ..\n",
      "5998     1\n",
      "60071    1\n",
      "27371    1\n",
      "23630    1\n",
      "63627    0\n",
      "Name: target, Length: 13799, dtype: int64\n"
     ]
    }
   ],
   "source": [],
   "metadata": {
    "collapsed": false,
    "ExecuteTime": {
     "end_time": "2024-06-05T13:23:12.144088Z",
     "start_time": "2024-06-05T13:23:12.136350Z"
    }
   },
   "id": "7eeeb5b2b8a5fb83",
   "execution_count": 85
  }
 ],
 "metadata": {
  "kernelspec": {
   "display_name": "Python 3",
   "language": "python",
   "name": "python3"
  },
  "language_info": {
   "codemirror_mode": {
    "name": "ipython",
    "version": 2
   },
   "file_extension": ".py",
   "mimetype": "text/x-python",
   "name": "python",
   "nbconvert_exporter": "python",
   "pygments_lexer": "ipython2",
   "version": "2.7.6"
  }
 },
 "nbformat": 4,
 "nbformat_minor": 5
}
