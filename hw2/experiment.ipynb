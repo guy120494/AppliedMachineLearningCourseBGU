{
 "cells": [
  {
   "cell_type": "code",
   "outputs": [],
   "source": [
    "import math\n",
    "\n",
    "import pandas as pd\n",
    "import numpy as np\n",
    "from sklearn import *\n",
    "import matplotlib.pyplot as plt\n",
    "import xgboost as xgb\n",
    "from pandas.plotting import scatter_matrix\n",
    "from sklearn.ensemble import RandomForestClassifier, GradientBoostingClassifier\n",
    "from sklearn.metrics import accuracy_score, confusion_matrix\n",
    "from sklearn.model_selection import GridSearchCV\n",
    "from sklearn.pipeline import Pipeline\n",
    "from sklearn.svm import SVC\n",
    "from sklearn.preprocessing import PowerTransformer, PolynomialFeatures\n"
   ],
   "metadata": {
    "collapsed": false,
    "ExecuteTime": {
     "end_time": "2024-06-18T11:29:19.308186300Z",
     "start_time": "2024-06-18T11:29:19.285440100Z"
    }
   },
   "id": "4d36e286dfb11999",
   "execution_count": 15
  },
  {
   "cell_type": "code",
   "outputs": [
    {
     "name": "stdout",
     "output_type": "stream",
     "text": [
      "number of features: 42\n",
      "types of labels: [2 1 0]\n",
      "number of rows in train: 40533\n",
      "number of rows in dev: 13512\n",
      "number of rows in test: 13512\n"
     ]
    }
   ],
   "source": [
    "# Unpacking data from pickle file and basic information about the data\n",
    "data = pd.read_pickle('./ass2.pickle')\n",
    "train, dev, test = data['train'], data['dev'], data['test'] \n",
    "print(f\"number of features: {len(train.columns) - 1}\")\n",
    "print(f\"types of labels: {train['target'].unique()}\")\n",
    "\n",
    "print(f\"number of rows in train: {len(train)}\")\n",
    "print(f\"number of rows in dev: {len(dev)}\")\n",
    "print(f\"number of rows in test: {len(test)}\")\n"
   ],
   "metadata": {
    "collapsed": false,
    "ExecuteTime": {
     "end_time": "2024-06-18T11:29:20.297838400Z",
     "start_time": "2024-06-18T11:29:20.212980200Z"
    }
   },
   "id": "7c2dfffd0d692d34",
   "execution_count": 16
  },
  {
   "cell_type": "code",
   "outputs": [
    {
     "data": {
      "text/plain": "f0        0\nf1        0\nf2        0\nf3        0\nf4        0\nf5        0\nf6        0\nf7        0\nf8        0\nf9        0\nf10       0\nf11       0\nf12       0\nf13       0\nf14       0\nf15       0\nf16       0\nf17       0\nf18       0\nf19       0\nf20       0\nf21       0\nf22       0\nf23       0\nf24       0\nf25       0\nf26       0\nf27       0\nf28       0\nf29       0\nf30       0\nf31       0\nf32       0\nf33       0\nf34       0\nf35       0\nf36       0\nf37       0\nf38       0\nf39       0\nf40       0\nf41       0\ntarget    0\ndtype: int64"
     },
     "execution_count": 17,
     "metadata": {},
     "output_type": "execute_result"
    }
   ],
   "source": [
    "#Checking for missing values\n",
    "train.isnull().sum()"
   ],
   "metadata": {
    "collapsed": false,
    "ExecuteTime": {
     "end_time": "2024-06-18T11:29:21.177418100Z",
     "start_time": "2024-06-18T11:29:21.139457500Z"
    }
   },
   "id": "2dde8f66ee605662",
   "execution_count": 17
  },
  {
   "cell_type": "markdown",
   "source": [
    "There are no missing values"
   ],
   "metadata": {
    "collapsed": false
   },
   "id": "27317adc6bfbfe71"
  },
  {
   "cell_type": "code",
   "outputs": [
    {
     "data": {
      "text/plain": "             f0                                                    f1  \\\n          count      mean       std  min  25%  50%  75%  max    count   \ntarget                                                                  \n0        3917.0  1.061527  0.833138  0.0  0.0  1.0  2.0  2.0   3917.0   \n1        9882.0  1.082676  0.908831  0.0  0.0  1.0  2.0  2.0   9882.0   \n2       26734.0  0.899080  0.798188  0.0  0.0  1.0  2.0  2.0  26734.0   \n\n                  ...  f40           f41                                     \\\n            mean  ...  75%  max    count      mean       std  min  25%  50%   \ntarget            ...                                                         \n0       0.669135  ...  0.0  2.0   3917.0  0.003574  0.074868  0.0  0.0  0.0   \n1       0.572759  ...  0.0  2.0   9882.0  0.000911  0.038952  0.0  0.0  0.0   \n2       0.509052  ...  0.0  2.0  26734.0  0.001272  0.037681  0.0  0.0  0.0   \n\n                  \n        75%  max  \ntarget            \n0       0.0  2.0  \n1       0.0  2.0  \n2       0.0  2.0  \n\n[3 rows x 336 columns]",
      "text/html": "<div>\n<style scoped>\n    .dataframe tbody tr th:only-of-type {\n        vertical-align: middle;\n    }\n\n    .dataframe tbody tr th {\n        vertical-align: top;\n    }\n\n    .dataframe thead tr th {\n        text-align: left;\n    }\n\n    .dataframe thead tr:last-of-type th {\n        text-align: right;\n    }\n</style>\n<table border=\"1\" class=\"dataframe\">\n  <thead>\n    <tr>\n      <th></th>\n      <th colspan=\"8\" halign=\"left\">f0</th>\n      <th colspan=\"2\" halign=\"left\">f1</th>\n      <th>...</th>\n      <th colspan=\"2\" halign=\"left\">f40</th>\n      <th colspan=\"8\" halign=\"left\">f41</th>\n    </tr>\n    <tr>\n      <th></th>\n      <th>count</th>\n      <th>mean</th>\n      <th>std</th>\n      <th>min</th>\n      <th>25%</th>\n      <th>50%</th>\n      <th>75%</th>\n      <th>max</th>\n      <th>count</th>\n      <th>mean</th>\n      <th>...</th>\n      <th>75%</th>\n      <th>max</th>\n      <th>count</th>\n      <th>mean</th>\n      <th>std</th>\n      <th>min</th>\n      <th>25%</th>\n      <th>50%</th>\n      <th>75%</th>\n      <th>max</th>\n    </tr>\n    <tr>\n      <th>target</th>\n      <th></th>\n      <th></th>\n      <th></th>\n      <th></th>\n      <th></th>\n      <th></th>\n      <th></th>\n      <th></th>\n      <th></th>\n      <th></th>\n      <th></th>\n      <th></th>\n      <th></th>\n      <th></th>\n      <th></th>\n      <th></th>\n      <th></th>\n      <th></th>\n      <th></th>\n      <th></th>\n      <th></th>\n    </tr>\n  </thead>\n  <tbody>\n    <tr>\n      <th>0</th>\n      <td>3917.0</td>\n      <td>1.061527</td>\n      <td>0.833138</td>\n      <td>0.0</td>\n      <td>0.0</td>\n      <td>1.0</td>\n      <td>2.0</td>\n      <td>2.0</td>\n      <td>3917.0</td>\n      <td>0.669135</td>\n      <td>...</td>\n      <td>0.0</td>\n      <td>2.0</td>\n      <td>3917.0</td>\n      <td>0.003574</td>\n      <td>0.074868</td>\n      <td>0.0</td>\n      <td>0.0</td>\n      <td>0.0</td>\n      <td>0.0</td>\n      <td>2.0</td>\n    </tr>\n    <tr>\n      <th>1</th>\n      <td>9882.0</td>\n      <td>1.082676</td>\n      <td>0.908831</td>\n      <td>0.0</td>\n      <td>0.0</td>\n      <td>1.0</td>\n      <td>2.0</td>\n      <td>2.0</td>\n      <td>9882.0</td>\n      <td>0.572759</td>\n      <td>...</td>\n      <td>0.0</td>\n      <td>2.0</td>\n      <td>9882.0</td>\n      <td>0.000911</td>\n      <td>0.038952</td>\n      <td>0.0</td>\n      <td>0.0</td>\n      <td>0.0</td>\n      <td>0.0</td>\n      <td>2.0</td>\n    </tr>\n    <tr>\n      <th>2</th>\n      <td>26734.0</td>\n      <td>0.899080</td>\n      <td>0.798188</td>\n      <td>0.0</td>\n      <td>0.0</td>\n      <td>1.0</td>\n      <td>2.0</td>\n      <td>2.0</td>\n      <td>26734.0</td>\n      <td>0.509052</td>\n      <td>...</td>\n      <td>0.0</td>\n      <td>2.0</td>\n      <td>26734.0</td>\n      <td>0.001272</td>\n      <td>0.037681</td>\n      <td>0.0</td>\n      <td>0.0</td>\n      <td>0.0</td>\n      <td>0.0</td>\n      <td>2.0</td>\n    </tr>\n  </tbody>\n</table>\n<p>3 rows × 336 columns</p>\n</div>"
     },
     "execution_count": 18,
     "metadata": {},
     "output_type": "execute_result"
    }
   ],
   "source": [
    "# Information about the training data\n",
    "train.groupby('target').describe()"
   ],
   "metadata": {
    "collapsed": false,
    "ExecuteTime": {
     "end_time": "2024-06-18T11:29:23.325552700Z",
     "start_time": "2024-06-18T11:29:23.108047500Z"
    }
   },
   "id": "bd96ba59f3d50125",
   "execution_count": 18
  },
  {
   "cell_type": "markdown",
   "source": [
    "the \"count\" column tells us that the data is unbalanced. There are way more samples of label \"2\" than the other labels."
   ],
   "metadata": {
    "collapsed": false
   },
   "id": "ae746469aab334f6"
  },
  {
   "cell_type": "code",
   "outputs": [],
   "source": [
    "# Splitting the data into features and labels dataframes\n",
    "train_features, train_labels = train.drop('target', axis=1), train['target']\n",
    "dev_features, dev_labels = dev.drop('target', axis=1), dev['target']\n",
    "test_features, test_labels = test.drop('target', axis=1), test['target']"
   ],
   "metadata": {
    "collapsed": false,
    "ExecuteTime": {
     "end_time": "2024-06-18T11:29:26.797317400Z",
     "start_time": "2024-06-18T11:29:26.755402200Z"
    }
   },
   "id": "f073c2f2776f2777",
   "execution_count": 19
  },
  {
   "cell_type": "code",
   "outputs": [
    {
     "name": "stdout",
     "output_type": "stream",
     "text": [
      "Fitting 5 folds for each of 9 candidates, totalling 45 fits\n",
      "[CV 1/5] END classifier__gamma=0, classifier__lambda=1, classifier__learning_rate=0.2, classifier__n_estimators=100;, score=0.826 total time=  10.7s\n",
      "[CV 2/5] END classifier__gamma=0, classifier__lambda=1, classifier__learning_rate=0.2, classifier__n_estimators=100;, score=0.825 total time=   9.8s\n",
      "[CV 3/5] END classifier__gamma=0, classifier__lambda=1, classifier__learning_rate=0.2, classifier__n_estimators=100;, score=0.822 total time=  10.4s\n",
      "[CV 4/5] END classifier__gamma=0, classifier__lambda=1, classifier__learning_rate=0.2, classifier__n_estimators=100;, score=0.827 total time=  10.4s\n",
      "[CV 5/5] END classifier__gamma=0, classifier__lambda=1, classifier__learning_rate=0.2, classifier__n_estimators=100;, score=0.829 total time=  10.5s\n",
      "[CV 1/5] END classifier__gamma=0, classifier__lambda=1, classifier__learning_rate=0.2, classifier__n_estimators=250;, score=0.835 total time=  25.3s\n",
      "[CV 2/5] END classifier__gamma=0, classifier__lambda=1, classifier__learning_rate=0.2, classifier__n_estimators=250;, score=0.840 total time=  30.2s\n",
      "[CV 3/5] END classifier__gamma=0, classifier__lambda=1, classifier__learning_rate=0.2, classifier__n_estimators=250;, score=0.833 total time=  37.4s\n",
      "[CV 4/5] END classifier__gamma=0, classifier__lambda=1, classifier__learning_rate=0.2, classifier__n_estimators=250;, score=0.839 total time=  28.2s\n",
      "[CV 5/5] END classifier__gamma=0, classifier__lambda=1, classifier__learning_rate=0.2, classifier__n_estimators=250;, score=0.834 total time=  25.8s\n",
      "[CV 1/5] END classifier__gamma=0, classifier__lambda=1, classifier__learning_rate=0.2, classifier__n_estimators=400;, score=0.839 total time=  45.3s\n",
      "[CV 2/5] END classifier__gamma=0, classifier__lambda=1, classifier__learning_rate=0.2, classifier__n_estimators=400;, score=0.841 total time=  44.4s\n",
      "[CV 3/5] END classifier__gamma=0, classifier__lambda=1, classifier__learning_rate=0.2, classifier__n_estimators=400;, score=0.836 total time=  50.6s\n",
      "[CV 4/5] END classifier__gamma=0, classifier__lambda=1, classifier__learning_rate=0.2, classifier__n_estimators=400;, score=0.842 total time=  41.9s\n",
      "[CV 5/5] END classifier__gamma=0, classifier__lambda=1, classifier__learning_rate=0.2, classifier__n_estimators=400;, score=0.839 total time=  53.1s\n",
      "[CV 1/5] END classifier__gamma=0, classifier__lambda=1, classifier__learning_rate=0.3, classifier__n_estimators=100;, score=0.833 total time=  17.1s\n",
      "[CV 2/5] END classifier__gamma=0, classifier__lambda=1, classifier__learning_rate=0.3, classifier__n_estimators=100;, score=0.836 total time=  14.0s\n",
      "[CV 3/5] END classifier__gamma=0, classifier__lambda=1, classifier__learning_rate=0.3, classifier__n_estimators=100;, score=0.827 total time=  14.5s\n",
      "[CV 4/5] END classifier__gamma=0, classifier__lambda=1, classifier__learning_rate=0.3, classifier__n_estimators=100;, score=0.834 total time=  12.7s\n",
      "[CV 5/5] END classifier__gamma=0, classifier__lambda=1, classifier__learning_rate=0.3, classifier__n_estimators=100;, score=0.833 total time=  13.8s\n",
      "[CV 1/5] END classifier__gamma=0, classifier__lambda=1, classifier__learning_rate=0.3, classifier__n_estimators=250;, score=0.841 total time=  27.8s\n",
      "[CV 2/5] END classifier__gamma=0, classifier__lambda=1, classifier__learning_rate=0.3, classifier__n_estimators=250;, score=0.843 total time=  27.1s\n",
      "[CV 3/5] END classifier__gamma=0, classifier__lambda=1, classifier__learning_rate=0.3, classifier__n_estimators=250;, score=0.838 total time=  29.9s\n",
      "[CV 4/5] END classifier__gamma=0, classifier__lambda=1, classifier__learning_rate=0.3, classifier__n_estimators=250;, score=0.846 total time=  34.9s\n",
      "[CV 5/5] END classifier__gamma=0, classifier__lambda=1, classifier__learning_rate=0.3, classifier__n_estimators=250;, score=0.839 total time=  25.5s\n",
      "[CV 1/5] END classifier__gamma=0, classifier__lambda=1, classifier__learning_rate=0.3, classifier__n_estimators=400;, score=0.841 total time=  44.8s\n",
      "[CV 2/5] END classifier__gamma=0, classifier__lambda=1, classifier__learning_rate=0.3, classifier__n_estimators=400;, score=0.841 total time=  44.2s\n",
      "[CV 3/5] END classifier__gamma=0, classifier__lambda=1, classifier__learning_rate=0.3, classifier__n_estimators=400;, score=0.839 total time=  49.8s\n",
      "[CV 4/5] END classifier__gamma=0, classifier__lambda=1, classifier__learning_rate=0.3, classifier__n_estimators=400;, score=0.848 total time=  45.5s\n",
      "[CV 5/5] END classifier__gamma=0, classifier__lambda=1, classifier__learning_rate=0.3, classifier__n_estimators=400;, score=0.841 total time=  44.8s\n",
      "[CV 1/5] END classifier__gamma=0, classifier__lambda=1, classifier__learning_rate=0.4, classifier__n_estimators=100;, score=0.833 total time=  17.3s\n",
      "[CV 2/5] END classifier__gamma=0, classifier__lambda=1, classifier__learning_rate=0.4, classifier__n_estimators=100;, score=0.838 total time=  14.3s\n",
      "[CV 3/5] END classifier__gamma=0, classifier__lambda=1, classifier__learning_rate=0.4, classifier__n_estimators=100;, score=0.834 total time=  11.9s\n",
      "[CV 4/5] END classifier__gamma=0, classifier__lambda=1, classifier__learning_rate=0.4, classifier__n_estimators=100;, score=0.843 total time=  12.5s\n",
      "[CV 5/5] END classifier__gamma=0, classifier__lambda=1, classifier__learning_rate=0.4, classifier__n_estimators=100;, score=0.834 total time=  13.1s\n",
      "[CV 1/5] END classifier__gamma=0, classifier__lambda=1, classifier__learning_rate=0.4, classifier__n_estimators=250;, score=0.838 total time=  31.9s\n",
      "[CV 2/5] END classifier__gamma=0, classifier__lambda=1, classifier__learning_rate=0.4, classifier__n_estimators=250;, score=0.840 total time=  27.3s\n",
      "[CV 3/5] END classifier__gamma=0, classifier__lambda=1, classifier__learning_rate=0.4, classifier__n_estimators=250;, score=0.836 total time=  29.9s\n",
      "[CV 4/5] END classifier__gamma=0, classifier__lambda=1, classifier__learning_rate=0.4, classifier__n_estimators=250;, score=0.844 total time=  29.0s\n",
      "[CV 5/5] END classifier__gamma=0, classifier__lambda=1, classifier__learning_rate=0.4, classifier__n_estimators=250;, score=0.838 total time=  31.3s\n",
      "[CV 1/5] END classifier__gamma=0, classifier__lambda=1, classifier__learning_rate=0.4, classifier__n_estimators=400;, score=0.837 total time=  50.6s\n",
      "[CV 2/5] END classifier__gamma=0, classifier__lambda=1, classifier__learning_rate=0.4, classifier__n_estimators=400;, score=0.842 total time=  45.7s\n",
      "[CV 3/5] END classifier__gamma=0, classifier__lambda=1, classifier__learning_rate=0.4, classifier__n_estimators=400;, score=0.841 total time=  41.6s\n",
      "[CV 4/5] END classifier__gamma=0, classifier__lambda=1, classifier__learning_rate=0.4, classifier__n_estimators=400;, score=0.848 total time=  47.3s\n",
      "[CV 5/5] END classifier__gamma=0, classifier__lambda=1, classifier__learning_rate=0.4, classifier__n_estimators=400;, score=0.839 total time=  41.2s\n",
      "Pipeline(steps=[('scalar', PowerTransformer()),\n",
      "                ('polynomial_features', PolynomialFeatures()),\n",
      "                ('classifier',\n",
      "                 XGBClassifier(base_score=None, booster=None, callbacks=None,\n",
      "                               colsample_bylevel=None, colsample_bynode=None,\n",
      "                               colsample_bytree=None, device=None,\n",
      "                               early_stopping_rounds=None,\n",
      "                               enable_categorical=False, eval_metric=None,\n",
      "                               feature_types=None, gamma=0, grow_policy=None,\n",
      "                               importance_type=None,\n",
      "                               interaction_constraints=None, lambda=1,\n",
      "                               learning_rate=0.3, max_bin=None,\n",
      "                               max_cat_threshold=None, max_cat_to_onehot=None,\n",
      "                               max_delta_step=None, max_depth=None,\n",
      "                               max_leaves=None, min_child_weight=None,\n",
      "                               missing=nan, monotone_constraints=None,\n",
      "                               multi_strategy=None, n_estimators=400,\n",
      "                               n_jobs=None, num_class=3, ...))])\n",
      "0.8508732978093546\n"
     ]
    },
    {
     "data": {
      "text/plain": "array([[ 381,  342,  547],\n       [ 181, 2751,  441],\n       [ 194,  310, 8365]], dtype=int64)"
     },
     "execution_count": 20,
     "metadata": {},
     "output_type": "execute_result"
    }
   ],
   "source": [
    "# Check XG Boost\n",
    "pipe = Pipeline(steps=[('scalar', PowerTransformer(method='yeo-johnson')), ('polynomial_features', PolynomialFeatures()),('classifier', xgb.XGBClassifier(objective='multi:softmax', num_class=3))])\n",
    "xg_param_space = [{'classifier__learning_rate': [0.2, 0.3, 0.4],\n",
    "                 'classifier__n_estimators': [100, 250, 400]}]\n",
    "clf = GridSearchCV(pipe, xg_param_space, verbose=5)\n",
    "clf.fit(train_features, train_labels)\n",
    "y_pred = clf.predict(dev_features)\n",
    "print(clf.best_estimator_)\n",
    "print(metrics.accuracy_score(dev_labels, y_pred))\n",
    "confusion_matrix(y_true=dev_labels, y_pred=y_pred, labels=[0,1,2])"
   ],
   "metadata": {
    "collapsed": false,
    "ExecuteTime": {
     "end_time": "2024-06-18T11:52:30.664716400Z",
     "start_time": "2024-06-18T11:29:29.832116900Z"
    }
   },
   "id": "880bcb0777a7455e",
   "execution_count": 20
  },
  {
   "cell_type": "code",
   "outputs": [],
   "source": [
    "# Check Random Forest \n",
    "pipe = Pipeline(steps=[('scalar', PowerTransformer(method='yeo-johnson')), ('polynomial_features', PolynomialFeatures()), ('classifier', RandomForestClassifier())])\n",
    "forest_param_space = [{'classifier__n_estimators': [100, 250, 400],\n",
    "                 'classifier__max_depth': [None, 30, 50],\n",
    "                 'classifier__min_samples_split': [2, 3, 4]}]\n",
    "clf = GridSearchCV(pipe, forest_param_space, verbose=5)\n",
    "clf.fit(train_features, train_labels)\n",
    "y_pred = clf.predict(dev_features)\n",
    "print(clf.best_estimator_)\n",
    "print(metrics.accuracy_score(dev_labels, y_pred))\n",
    "confusion_matrix(y_true=dev_labels, y_pred=y_pred, labels=[0,1,2])"
   ],
   "metadata": {
    "collapsed": false
   },
   "id": "444765abbbe3f180"
  },
  {
   "cell_type": "code",
   "outputs": [],
   "source": [
    "# Check Gradient Boosting\n",
    "pipe = Pipeline(steps=[('scalar', PowerTransformer(method='yeo-johnson')), ('polynomial_features', PolynomialFeatures()), ('classifier', GradientBoostingClassifier())])\n",
    "gb_param_space = [{'classifier__learning_rate': [0.1, 0.2],\n",
    "                 'classifier__max_depth': [2, 3],\n",
    "                 'classifier__min_samples_split': [2, 3],\n",
    "                 'classifier__n_estimators': [100, 250, 400]}]\n",
    "clf = GridSearchCV(pipe, gb_param_space, verbose=5)\n",
    "clf.fit(train_features, train_labels)\n",
    "y_pred = clf.predict(dev_features)\n",
    "print(clf.best_estimator_)\n",
    "print(metrics.accuracy_score(dev_labels, y_pred))\n",
    "confusion_matrix(y_true=dev_labels, y_pred=y_pred, labels=[0,1,2])"
   ],
   "metadata": {
    "collapsed": false
   },
   "id": "f165aaf67b29d55a"
  },
  {
   "cell_type": "code",
   "outputs": [],
   "source": [
    "# Check SVC\n",
    "pipe = Pipeline(steps=[('scalar', PowerTransformer(method='yeo-johnson')),('classifier', SVC(gamma='auto'))])\n",
    "svc_param_space = [{'classifier__class_weight': [None, 'balanced'], 'classifier__C': [1, 2, 3]}]\n",
    "clf = GridSearchCV(pipe, svc_param_space, verbose=5)\n",
    "clf.fit(train_features, train_labels)\n",
    "y_pred = clf.predict(dev_features)\n",
    "print(clf.best_estimator_)\n",
    "print(metrics.accuracy_score(dev_labels, y_pred))\n",
    "confusion_matrix(y_true=dev_labels, y_pred=y_pred, labels=[0,1,2])"
   ],
   "metadata": {
    "collapsed": false
   },
   "id": "c729986ac9646b0"
  },
  {
   "cell_type": "code",
   "outputs": [],
   "source": [
    "#Under sampling\n",
    "from imblearn.under_sampling import RandomUnderSampler\n",
    "rus = RandomUnderSampler(random_state=42, sampling_strategy = 'not minority')\n",
    "train_features_resampled, train_labels_resampled = rus.fit_resample(train_features, train_labels)\n",
    "rf = RandomForestClassifier()\n",
    "rf.fit(train_features_resampled, train_labels_resampled)\n",
    "y_pred = rf.predict(dev_features)\n",
    "accuracy = accuracy_score(dev_labels, y_pred)\n",
    "print(\"Accuracy:\", accuracy)\n",
    "confusion_matrix(y_true=dev_labels, y_pred=y_pred, labels=[0,1,2])"
   ],
   "metadata": {
    "collapsed": false
   },
   "id": "7d0e811085ec37b",
   "execution_count": null
  },
  {
   "cell_type": "code",
   "outputs": [],
   "source": [
    "#Over sampling\n",
    "from imblearn.over_sampling import SMOTE\n",
    "smote = SMOTE()\n",
    "train_features_resampled, train_labels_resampled = smote.fit_resample(train_features, train_labels)\n",
    "rf = RandomForestClassifier()\n",
    "rf.fit(train_features_resampled, train_labels_resampled)\n",
    "y_pred = rf.predict(dev_features)\n",
    "accuracy = accuracy_score(dev_labels, y_pred)\n",
    "print(\"Accuracy:\", accuracy)\n",
    "confusion_matrix(y_true=dev_labels, y_pred=y_pred, labels=[0,1,2])"
   ],
   "metadata": {
    "collapsed": false
   },
   "id": "4a63fdd777bd21e4",
   "execution_count": null
  },
  {
   "cell_type": "code",
   "outputs": [],
   "source": [
    "# from sklearn.feature_selection import SelectKBest, chi2\n",
    "# \n",
    "# k_best_selector = SelectKBest(chi2, k=40)\n",
    "# train_features_new = k_best_selector.fit_transform(train_features, train_labels)\n",
    "# rf = RandomForestClassifier()\n",
    "# rf.fit(train_features_new, train_labels)\n",
    "# y_pred = rf.predict(dev_features[k_best_selector.get_feature_names_out()])\n",
    "# accuracy = accuracy_score(dev_labels, y_pred)\n",
    "# print(\"Accuracy:\", accuracy)\n",
    "# confusion_matrix(y_true=dev_labels, y_pred=y_pred, labels=[0,1,2])"
   ],
   "metadata": {
    "collapsed": false
   },
   "id": "6bac9f1aa37de0c",
   "execution_count": null
  }
 ],
 "metadata": {
  "kernelspec": {
   "display_name": "Python 3",
   "language": "python",
   "name": "python3"
  },
  "language_info": {
   "codemirror_mode": {
    "name": "ipython",
    "version": 2
   },
   "file_extension": ".py",
   "mimetype": "text/x-python",
   "name": "python",
   "nbconvert_exporter": "python",
   "pygments_lexer": "ipython2",
   "version": "2.7.6"
  }
 },
 "nbformat": 4,
 "nbformat_minor": 5
}
