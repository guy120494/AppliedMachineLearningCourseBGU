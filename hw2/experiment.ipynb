{
 "cells": [
  {
   "cell_type": "code",
   "outputs": [],
   "source": [
    "import math\n",
    "\n",
    "import pandas as pd\n",
    "import numpy as np\n",
    "from sklearn import *\n",
    "import matplotlib.pyplot as plt\n",
    "import xgboost as xgb\n",
    "from pandas.plotting import scatter_matrix\n",
    "from sklearn.ensemble import RandomForestClassifier, GradientBoostingClassifier\n",
    "from sklearn.metrics import accuracy_score, confusion_matrix\n",
    "from sklearn.model_selection import GridSearchCV\n"
   ],
   "metadata": {
    "collapsed": false
   },
   "id": "4d36e286dfb11999"
  },
  {
   "cell_type": "code",
   "outputs": [],
   "source": [
    "# Unpacking data from pickle file and basic information about the data\n",
    "data = pd.read_pickle('./ass2.pickle')\n",
    "train, dev, test = data['train'], data['dev'], data['test'] \n",
    "print(f\"number of features: {len(train.columns) - 1}\")\n",
    "print(f\"types of labels: {train['target'].unique()}\")\n",
    "\n",
    "print(f\"number of rows in train: {len(train)}\")\n",
    "print(f\"number of rows in dev: {len(dev)}\")\n",
    "print(f\"number of rows in test: {len(test)}\")\n"
   ],
   "metadata": {
    "collapsed": false
   },
   "id": "7c2dfffd0d692d34"
  },
  {
   "cell_type": "code",
   "outputs": [],
   "source": [
    "#Checking for missing values\n",
    "train.isnull().sum()"
   ],
   "metadata": {
    "collapsed": false
   },
   "id": "2dde8f66ee605662"
  },
  {
   "cell_type": "code",
   "outputs": [],
   "source": [
    "# Information about the training data\n",
    "train.groupby('target').describe()"
   ],
   "metadata": {
    "collapsed": false
   },
   "id": "bd96ba59f3d50125"
  },
  {
   "cell_type": "code",
   "outputs": [],
   "source": [
    "# Splitting the data into features and labels dataframes\n",
    "train_features, train_labels = train.drop('target', axis=1), train['target']\n",
    "dev_features, dev_labels = dev.drop('target', axis=1), dev['target']\n",
    "test_features, test_labels = test.drop('target', axis=1), test['target']"
   ],
   "metadata": {
    "collapsed": false
   },
   "id": "f073c2f2776f2777"
  },
  {
   "cell_type": "code",
   "outputs": [],
   "source": [
    "def model_grid_search(model, param_grid):\n",
    "    \"\"\"\n",
    "    This functions performs grid search on model hyperparameters\n",
    "    :param model: A model object\n",
    "    :param param_grid: dictionary of {hyperparam_1 : [value_1, ..., value_n], ..., hyperparam_n : [value_1, ..., value_n]}\n",
    "    :return: The model with the hyperparameters that gives the best accuracy.\n",
    "    \"\"\"\n",
    "    GS = GridSearchCV(estimator=model, param_grid=param_grid, verbose=5)\n",
    "    best_model = GS.fit(train_features, train_labels)\n",
    "    print(\"Best Model:\", GS.best_estimator_)\n",
    "    return best_model"
   ],
   "metadata": {
    "collapsed": false
   },
   "id": "68bd2b4f0aa5ea15"
  },
  {
   "cell_type": "code",
   "outputs": [],
   "source": [
    "# Check XGBoost\n",
    "xg_params = {\"learning_rate\": [0.4, 0.3, 0.2], \"gamma\": [0, 1], \"lambda\": [1, 2, 3], \"n_estimators\": [100, 125, 150, 175]}\n",
    "xg_model = xgb.XGBClassifier(objective='multi:softmax', num_class=3)\n",
    "best_xg_model = model_grid_search(xg_model, xg_params)\n",
    "y_pred = best_xg_model.predict(dev)\n",
    "print(\"Accuracy:\", metrics.accuracy_score(dev_labels, y_pred))\n",
    "confusion_matrix(y_true=dev_labels, y_pred=y_pred, labels=[0,1,2])"
   ],
   "metadata": {
    "collapsed": false
   },
   "id": "1fe8940dcaf648f5"
  },
  {
   "cell_type": "code",
   "outputs": [],
   "source": [
    "# Check Random Forest\n",
    "tree_params = {\"max_depth\": [None, 30, 50], \"n_estimators\": [100, 125, 150, 175], \"min_samples_split\":[2, 3, 4]}\n",
    "tree_model = RandomForestClassifier()\n",
    "best_tree_model = model_grid_search(tree_model, tree_params)\n",
    "y_pred = best_tree_model.predict(dev)\n",
    "print(\"Accuracy:\", metrics.accuracy_score(dev_labels, y_pred))\n",
    "confusion_matrix(y_true=dev_labels, y_pred=y_pred, labels=[0,1,2])"
   ],
   "metadata": {
    "collapsed": false
   },
   "id": "558ecba4768a792e"
  },
  {
   "cell_type": "code",
   "outputs": [],
   "source": [
    "# Check Gradient Boost\n",
    "gb_params = {\"max_depth\": [2, 3], \"n_estimators\": [100, 125, 150, 175], \"min_samples_split\": [2, 3], \"learning_rate\": [0.1, 0.01]}\n",
    "gb_model = GradientBoostingClassifier()\n",
    "best_gb_model = model_grid_search(gb_model, gb_params)\n",
    "y_pred = best_gb_model.predict(dev)\n",
    "print(\"Accuracy:\", metrics.accuracy_score(dev_labels, y_pred))\n",
    "confusion_matrix(y_true=dev_labels, y_pred=y_pred, labels=[0,1,2])"
   ],
   "metadata": {
    "collapsed": false
   },
   "id": "f71306d53d308f65"
  },
  {
   "cell_type": "code",
   "outputs": [],
   "source": [
    "from sklearn.pipeline import Pipeline\n",
    "from sklearn.feature_selection import SelectKBest\n",
    "from sklearn.preprocessing import StandardScaler\n",
    "from sklearn.svm import SVC\n",
    "\n",
    "pipe = Pipeline([('scaler', StandardScaler()),\n",
    "                 ('selector', SelectKBest(k=30)),\n",
    "                 ('classifier', xgb.XGBClassifier(objective='multi:softmax', num_class=3))])\n",
    "\n",
    "search_space = [{'selector__k': [30, 35, 40, 42]},\n",
    "                {'classifier': [RandomForestClassifier()],\n",
    "                 'classifier__n_estimators': [100, 125, 150, 175],\n",
    "                 'classifier__max_depth': [None, 30, 50],\n",
    "                 'classifier__min_samples_split': [2, 3, 4]},\n",
    "                {'classifier': [GradientBoostingClassifier()],\n",
    "                 'classifier__learning_rate': [0.1, 0.2],\n",
    "                 'classifier__max_depth': [2, 3],\n",
    "                 'classifier__min_samples_split': [2, 3],\n",
    "                 'classifier__n_estimators': [100, 125, 150, 175]},\n",
    "                {'classifier': [xgb.XGBClassifier(objective='multi:softmax', num_class=3)],\n",
    "                 'classifier__learning_rate': [0.2, 0.3, 0.4],\n",
    "                 'classifier__gamma': [0, 1],\n",
    "                 'classifier__lambda': [1, 2, 3],\n",
    "                 'classifier__n_estimators': [100, 125, 150, 175]},\n",
    "                {'classifier': [SVC(gamma='auto')]}]\n",
    "clf = GridSearchCV(pipe, search_space, verbose=5)\n",
    "clf.fit(train_features, train_labels)\n",
    "y_pred = clf.predict(dev)\n",
    "print(clf.best_estimator_)\n",
    "print(metrics.accuracy_score(dev_labels, y_pred))"
   ],
   "metadata": {
    "collapsed": false
   },
   "id": "880bcb0777a7455e"
  },
  {
   "cell_type": "code",
   "outputs": [],
   "source": [
    "from sklearn.pipeline import make_pipeline\n",
    "from sklearn.preprocessing import StandardScaler\n",
    "from sklearn.svm import SVC\n",
    "clf = make_pipeline(StandardScaler(), SVC(gamma='auto'))\n",
    "clf.fit(train_features, train_labels)\n",
    "y_pred = clf.predict(dev_features)\n",
    "accuracy = accuracy_score(dev_labels, y_pred)\n",
    "print(\"Accuracy:\", accuracy)\n",
    "confusion_matrix(y_true=dev_labels, y_pred=y_pred, labels=[0,1,2])"
   ],
   "metadata": {
    "collapsed": false
   },
   "id": "444765abbbe3f180"
  },
  {
   "cell_type": "code",
   "outputs": [],
   "source": [
    "#Under sampling\n",
    "from imblearn.under_sampling import RandomUnderSampler\n",
    "rus = RandomUnderSampler(random_state=42, sampling_strategy = 'not minority')\n",
    "train_features_resampled, train_labels_resampled = rus.fit_resample(train_features, train_labels)\n",
    "rf = RandomForestClassifier()\n",
    "rf.fit(train_features_resampled, train_labels_resampled)\n",
    "y_pred = rf.predict(dev_features)\n",
    "accuracy = accuracy_score(dev_labels, y_pred)\n",
    "print(\"Accuracy:\", accuracy)\n",
    "confusion_matrix(y_true=dev_labels, y_pred=y_pred, labels=[0,1,2])"
   ],
   "metadata": {
    "collapsed": false,
    "ExecuteTime": {
     "start_time": "2024-06-16T12:32:15.146557700Z"
    }
   },
   "id": "7d0e811085ec37b",
   "execution_count": null
  },
  {
   "cell_type": "code",
   "outputs": [],
   "source": [
    "#Over sampling\n",
    "from imblearn.over_sampling import SMOTE\n",
    "smote = SMOTE()\n",
    "train_features_resampled, train_labels_resampled = smote.fit_resample(train_features, train_labels)\n",
    "rf = RandomForestClassifier()\n",
    "rf.fit(train_features_resampled, train_labels_resampled)\n",
    "y_pred = rf.predict(dev_features)\n",
    "accuracy = accuracy_score(dev_labels, y_pred)\n",
    "print(\"Accuracy:\", accuracy)\n",
    "confusion_matrix(y_true=dev_labels, y_pred=y_pred, labels=[0,1,2])"
   ],
   "metadata": {
    "collapsed": false,
    "ExecuteTime": {
     "start_time": "2024-06-16T12:32:15.149560700Z"
    }
   },
   "id": "4a63fdd777bd21e4",
   "execution_count": null
  },
  {
   "cell_type": "code",
   "outputs": [
    {
     "name": "stderr",
     "output_type": "stream",
     "text": [
      "C:\\Users\\halor\\AppData\\Local\\Programs\\Python\\Python39\\lib\\site-packages\\sklearn\\base.py:486: UserWarning: X has feature names, but RandomForestClassifier was fitted without feature names\n",
      "  warnings.warn(\n"
     ]
    },
    {
     "name": "stdout",
     "output_type": "stream",
     "text": [
      "Accuracy: 0.8087625814091178\n"
     ]
    },
    {
     "data": {
      "text/plain": "array([[ 167,  336,  767],\n       [  93, 2283,  997],\n       [  73,  318, 8478]], dtype=int64)"
     },
     "execution_count": 13,
     "metadata": {},
     "output_type": "execute_result"
    }
   ],
   "source": [
    "from sklearn.feature_selection import SelectKBest, chi2\n",
    "\n",
    "k_best_selector = SelectKBest(chi2, k=40)\n",
    "train_features_new = k_best_selector.fit_transform(train_features, train_labels)\n",
    "rf = RandomForestClassifier()\n",
    "rf.fit(train_features_new, train_labels)\n",
    "y_pred = rf.predict(dev_features[k_best_selector.get_feature_names_out()])\n",
    "accuracy = accuracy_score(dev_labels, y_pred)\n",
    "print(\"Accuracy:\", accuracy)\n",
    "confusion_matrix(y_true=dev_labels, y_pred=y_pred, labels=[0,1,2])"
   ],
   "metadata": {
    "collapsed": false,
    "ExecuteTime": {
     "end_time": "2024-06-16T13:12:30.641470300Z",
     "start_time": "2024-06-16T13:12:26.271468800Z"
    }
   },
   "id": "6bac9f1aa37de0c",
   "execution_count": 13
  }
 ],
 "metadata": {
  "kernelspec": {
   "display_name": "Python 3",
   "language": "python",
   "name": "python3"
  },
  "language_info": {
   "codemirror_mode": {
    "name": "ipython",
    "version": 2
   },
   "file_extension": ".py",
   "mimetype": "text/x-python",
   "name": "python",
   "nbconvert_exporter": "python",
   "pygments_lexer": "ipython2",
   "version": "2.7.6"
  }
 },
 "nbformat": 4,
 "nbformat_minor": 5
}
