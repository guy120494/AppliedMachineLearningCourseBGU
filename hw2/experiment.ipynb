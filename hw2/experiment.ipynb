{
 "cells": [
  {
   "cell_type": "code",
   "outputs": [],
   "source": [
    "import pandas as pd\n",
    "import numpy as np\n",
    "from sklearn import *\n",
    "import matplotlib.pyplot as plt\n",
    "import xgboost as xgb\n",
    "from pandas.plotting import scatter_matrix\n",
    "from sklearn.ensemble import RandomForestClassifier, GradientBoostingClassifier\n",
    "from sklearn.metrics import accuracy_score, confusion_matrix\n",
    "from sklearn.model_selection import GridSearchCV\n",
    "from sklearn.feature_selection import SelectKBest, mutual_info_classif\n"
   ],
   "metadata": {
    "collapsed": false,
    "ExecuteTime": {
     "end_time": "2024-06-18T07:41:56.832314600Z",
     "start_time": "2024-06-18T07:41:44.727101900Z"
    }
   },
   "id": "3f3d805fbf763f6e",
   "execution_count": 1
  },
  {
   "cell_type": "code",
   "outputs": [
    {
     "name": "stdout",
     "output_type": "stream",
     "text": [
      "number of features: 42\n",
      "types of labels: [2 1 0]\n",
      "number of rows in train: 40533\n",
      "number of rows in dev: 13512\n",
      "number of rows in test: 13512\n"
     ]
    }
   ],
   "source": [
    "# Unpacking data from pickle file and basic information about the data\n",
    "data = pd.read_pickle('./ass2.pickle')\n",
    "train, dev, test = data['train'], data['dev'], data['test'] \n",
    "print(f\"number of features: {len(train.columns) - 1}\")\n",
    "print(f\"types of labels: {train['target'].unique()}\")\n",
    "\n",
    "print(f\"number of rows in train: {len(train)}\")\n",
    "print(f\"number of rows in dev: {len(dev)}\")\n",
    "print(f\"number of rows in test: {len(test)}\")\n"
   ],
   "metadata": {
    "collapsed": false,
    "ExecuteTime": {
     "end_time": "2024-06-18T07:41:56.927169200Z",
     "start_time": "2024-06-18T07:41:56.835364200Z"
    }
   },
   "id": "b22b04f95b58fb23",
   "execution_count": 2
  },
  {
   "cell_type": "code",
   "outputs": [
    {
     "data": {
      "text/plain": "f0        0\nf1        0\nf2        0\nf3        0\nf4        0\nf5        0\nf6        0\nf7        0\nf8        0\nf9        0\nf10       0\nf11       0\nf12       0\nf13       0\nf14       0\nf15       0\nf16       0\nf17       0\nf18       0\nf19       0\nf20       0\nf21       0\nf22       0\nf23       0\nf24       0\nf25       0\nf26       0\nf27       0\nf28       0\nf29       0\nf30       0\nf31       0\nf32       0\nf33       0\nf34       0\nf35       0\nf36       0\nf37       0\nf38       0\nf39       0\nf40       0\nf41       0\ntarget    0\ndtype: int64"
     },
     "execution_count": 3,
     "metadata": {},
     "output_type": "execute_result"
    }
   ],
   "source": [
    "#Checking for missing values\n",
    "train.isnull().sum()"
   ],
   "metadata": {
    "collapsed": false,
    "ExecuteTime": {
     "end_time": "2024-06-18T07:41:56.994481100Z",
     "start_time": "2024-06-18T07:41:56.924867400Z"
    }
   },
   "id": "cbf3c37b8fdcf4f8",
   "execution_count": 3
  },
  {
   "cell_type": "code",
   "outputs": [
    {
     "data": {
      "text/plain": "             f0                                                    f1  \\\n          count      mean       std  min  25%  50%  75%  max    count   \ntarget                                                                  \n0        3917.0  1.061527  0.833138  0.0  0.0  1.0  2.0  2.0   3917.0   \n1        9882.0  1.082676  0.908831  0.0  0.0  1.0  2.0  2.0   9882.0   \n2       26734.0  0.899080  0.798188  0.0  0.0  1.0  2.0  2.0  26734.0   \n\n                  ...  f40           f41                                     \\\n            mean  ...  75%  max    count      mean       std  min  25%  50%   \ntarget            ...                                                         \n0       0.669135  ...  0.0  2.0   3917.0  0.003574  0.074868  0.0  0.0  0.0   \n1       0.572759  ...  0.0  2.0   9882.0  0.000911  0.038952  0.0  0.0  0.0   \n2       0.509052  ...  0.0  2.0  26734.0  0.001272  0.037681  0.0  0.0  0.0   \n\n                  \n        75%  max  \ntarget            \n0       0.0  2.0  \n1       0.0  2.0  \n2       0.0  2.0  \n\n[3 rows x 336 columns]",
      "text/html": "<div>\n<style scoped>\n    .dataframe tbody tr th:only-of-type {\n        vertical-align: middle;\n    }\n\n    .dataframe tbody tr th {\n        vertical-align: top;\n    }\n\n    .dataframe thead tr th {\n        text-align: left;\n    }\n\n    .dataframe thead tr:last-of-type th {\n        text-align: right;\n    }\n</style>\n<table border=\"1\" class=\"dataframe\">\n  <thead>\n    <tr>\n      <th></th>\n      <th colspan=\"8\" halign=\"left\">f0</th>\n      <th colspan=\"2\" halign=\"left\">f1</th>\n      <th>...</th>\n      <th colspan=\"2\" halign=\"left\">f40</th>\n      <th colspan=\"8\" halign=\"left\">f41</th>\n    </tr>\n    <tr>\n      <th></th>\n      <th>count</th>\n      <th>mean</th>\n      <th>std</th>\n      <th>min</th>\n      <th>25%</th>\n      <th>50%</th>\n      <th>75%</th>\n      <th>max</th>\n      <th>count</th>\n      <th>mean</th>\n      <th>...</th>\n      <th>75%</th>\n      <th>max</th>\n      <th>count</th>\n      <th>mean</th>\n      <th>std</th>\n      <th>min</th>\n      <th>25%</th>\n      <th>50%</th>\n      <th>75%</th>\n      <th>max</th>\n    </tr>\n    <tr>\n      <th>target</th>\n      <th></th>\n      <th></th>\n      <th></th>\n      <th></th>\n      <th></th>\n      <th></th>\n      <th></th>\n      <th></th>\n      <th></th>\n      <th></th>\n      <th></th>\n      <th></th>\n      <th></th>\n      <th></th>\n      <th></th>\n      <th></th>\n      <th></th>\n      <th></th>\n      <th></th>\n      <th></th>\n      <th></th>\n    </tr>\n  </thead>\n  <tbody>\n    <tr>\n      <th>0</th>\n      <td>3917.0</td>\n      <td>1.061527</td>\n      <td>0.833138</td>\n      <td>0.0</td>\n      <td>0.0</td>\n      <td>1.0</td>\n      <td>2.0</td>\n      <td>2.0</td>\n      <td>3917.0</td>\n      <td>0.669135</td>\n      <td>...</td>\n      <td>0.0</td>\n      <td>2.0</td>\n      <td>3917.0</td>\n      <td>0.003574</td>\n      <td>0.074868</td>\n      <td>0.0</td>\n      <td>0.0</td>\n      <td>0.0</td>\n      <td>0.0</td>\n      <td>2.0</td>\n    </tr>\n    <tr>\n      <th>1</th>\n      <td>9882.0</td>\n      <td>1.082676</td>\n      <td>0.908831</td>\n      <td>0.0</td>\n      <td>0.0</td>\n      <td>1.0</td>\n      <td>2.0</td>\n      <td>2.0</td>\n      <td>9882.0</td>\n      <td>0.572759</td>\n      <td>...</td>\n      <td>0.0</td>\n      <td>2.0</td>\n      <td>9882.0</td>\n      <td>0.000911</td>\n      <td>0.038952</td>\n      <td>0.0</td>\n      <td>0.0</td>\n      <td>0.0</td>\n      <td>0.0</td>\n      <td>2.0</td>\n    </tr>\n    <tr>\n      <th>2</th>\n      <td>26734.0</td>\n      <td>0.899080</td>\n      <td>0.798188</td>\n      <td>0.0</td>\n      <td>0.0</td>\n      <td>1.0</td>\n      <td>2.0</td>\n      <td>2.0</td>\n      <td>26734.0</td>\n      <td>0.509052</td>\n      <td>...</td>\n      <td>0.0</td>\n      <td>2.0</td>\n      <td>26734.0</td>\n      <td>0.001272</td>\n      <td>0.037681</td>\n      <td>0.0</td>\n      <td>0.0</td>\n      <td>0.0</td>\n      <td>0.0</td>\n      <td>2.0</td>\n    </tr>\n  </tbody>\n</table>\n<p>3 rows × 336 columns</p>\n</div>"
     },
     "execution_count": 4,
     "metadata": {},
     "output_type": "execute_result"
    }
   ],
   "source": [
    "# Information about the training data\n",
    "train.groupby('target').describe()"
   ],
   "metadata": {
    "collapsed": false,
    "ExecuteTime": {
     "end_time": "2024-06-18T07:41:57.362854200Z",
     "start_time": "2024-06-18T07:41:56.956962100Z"
    }
   },
   "id": "d1cf8ba8f1506328",
   "execution_count": 4
  },
  {
   "cell_type": "code",
   "outputs": [],
   "source": [
    "# Splitting the data into features and labels dataframes\n",
    "train_features, train_labels = train.drop('target', axis=1), train['target']\n",
    "dev_features, dev_labels = dev.drop('target', axis=1), dev['target']\n",
    "test_features, test_labels = test.drop('target', axis=1), test['target']"
   ],
   "metadata": {
    "collapsed": false,
    "ExecuteTime": {
     "end_time": "2024-06-18T07:41:57.378773800Z",
     "start_time": "2024-06-18T07:41:57.251491300Z"
    }
   },
   "id": "a246757dc51ac91f",
   "execution_count": 5
  },
  {
   "cell_type": "code",
   "outputs": [],
   "source": [
    "def model_grid_search(model, param_grid):\n",
    "    \"\"\"\n",
    "    This functions performs grid search on model hyperparameters    \n",
    "    :param model: A model object\n",
    "    :param param_grid: dictionary of {hyperparam_1 : [value_1, ..., value_n], ..., hyperparam_n : [value_1, ..., value_n]}\n",
    "    :return: The model with the hyperparameters that gives the best accuracy.\n",
    "    \"\"\"\n",
    "    k_features = [30, 35, 40, 42]\n",
    "    GS = GridSearchCV(estimator=model, param_grid=param_grid, verbose=5)\n",
    "    best_model = None\n",
    "    best_accuracy = float('-inf')\n",
    "    best_features = None\n",
    "    for k in k_features:\n",
    "        s = SelectKBest(score_func=mutual_info_classif, k=k)\n",
    "        new_train = s.fit_transform(train_features, train_labels)\n",
    "        cur_features = s.get_feature_names_out()\n",
    "        print(f\"Performing Grid Search for {k} features: {cur_features}\")\n",
    "        cur_model = GS.fit(new_train, train_labels)\n",
    "        cur_acc = GS.best_score_\n",
    "        if best_accuracy < cur_acc:\n",
    "            best_accuracy = cur_acc\n",
    "            best_model = cur_model\n",
    "            best_features = cur_features\n",
    "    return best_model, best_features"
   ],
   "metadata": {
    "collapsed": false,
    "ExecuteTime": {
     "end_time": "2024-06-18T07:41:57.379822100Z",
     "start_time": "2024-06-18T07:41:57.308613Z"
    }
   },
   "id": "c1f40c60647047af",
   "execution_count": 6
  },
  {
   "cell_type": "code",
   "outputs": [
    {
     "name": "stdout",
     "output_type": "stream",
     "text": [
      "Performing Grid Search for 30 features: ['f0' 'f1' 'f6' 'f7' 'f8' 'f10' 'f11' 'f12' 'f13' 'f14' 'f16' 'f18' 'f19'\n",
      " 'f20' 'f21' 'f23' 'f24' 'f25' 'f26' 'f27' 'f28' 'f30' 'f31' 'f32' 'f33'\n",
      " 'f34' 'f35' 'f36' 'f37' 'f41']\n",
      "Fitting 5 folds for each of 1 candidates, totalling 5 fits\n",
      "[CV 1/5] END gamma=0, lambda=1, learning_rate=0.4, n_estimators=100;, score=0.816 total time=   0.6s\n",
      "[CV 2/5] END gamma=0, lambda=1, learning_rate=0.4, n_estimators=100;, score=0.820 total time=   0.5s\n",
      "[CV 3/5] END gamma=0, lambda=1, learning_rate=0.4, n_estimators=100;, score=0.813 total time=   0.6s\n",
      "[CV 4/5] END gamma=0, lambda=1, learning_rate=0.4, n_estimators=100;, score=0.819 total time=   0.6s\n",
      "[CV 5/5] END gamma=0, lambda=1, learning_rate=0.4, n_estimators=100;, score=0.819 total time=   0.6s\n",
      "Performing Grid Search for 35 features: ['f0' 'f1' 'f2' 'f3' 'f5' 'f6' 'f7' 'f8' 'f10' 'f12' 'f13' 'f14' 'f15'\n",
      " 'f16' 'f18' 'f19' 'f20' 'f22' 'f24' 'f25' 'f26' 'f27' 'f29' 'f30' 'f31'\n",
      " 'f32' 'f33' 'f34' 'f35' 'f36' 'f37' 'f38' 'f39' 'f40' 'f41']\n",
      "Fitting 5 folds for each of 1 candidates, totalling 5 fits\n",
      "[CV 1/5] END gamma=0, lambda=1, learning_rate=0.4, n_estimators=100;, score=0.826 total time=   0.6s\n",
      "[CV 2/5] END gamma=0, lambda=1, learning_rate=0.4, n_estimators=100;, score=0.828 total time=   0.6s\n",
      "[CV 3/5] END gamma=0, lambda=1, learning_rate=0.4, n_estimators=100;, score=0.826 total time=   0.6s\n",
      "[CV 4/5] END gamma=0, lambda=1, learning_rate=0.4, n_estimators=100;, score=0.824 total time=   0.6s\n",
      "[CV 5/5] END gamma=0, lambda=1, learning_rate=0.4, n_estimators=100;, score=0.826 total time=   0.6s\n",
      "Performing Grid Search for 40 features: ['f0' 'f1' 'f4' 'f5' 'f6' 'f7' 'f8' 'f9' 'f10' 'f11' 'f12' 'f13' 'f14'\n",
      " 'f15' 'f16' 'f17' 'f18' 'f19' 'f20' 'f21' 'f22' 'f23' 'f24' 'f25' 'f26'\n",
      " 'f27' 'f28' 'f29' 'f30' 'f31' 'f32' 'f33' 'f34' 'f35' 'f36' 'f37' 'f38'\n",
      " 'f39' 'f40' 'f41']\n",
      "Fitting 5 folds for each of 1 candidates, totalling 5 fits\n",
      "[CV 1/5] END gamma=0, lambda=1, learning_rate=0.4, n_estimators=100;, score=0.827 total time=   0.6s\n",
      "[CV 2/5] END gamma=0, lambda=1, learning_rate=0.4, n_estimators=100;, score=0.834 total time=   0.7s\n",
      "[CV 3/5] END gamma=0, lambda=1, learning_rate=0.4, n_estimators=100;, score=0.827 total time=   0.6s\n",
      "[CV 4/5] END gamma=0, lambda=1, learning_rate=0.4, n_estimators=100;, score=0.830 total time=   0.6s\n",
      "[CV 5/5] END gamma=0, lambda=1, learning_rate=0.4, n_estimators=100;, score=0.831 total time=   0.6s\n",
      "Performing Grid Search for 42 features: ['f0' 'f1' 'f2' 'f3' 'f4' 'f5' 'f6' 'f7' 'f8' 'f9' 'f10' 'f11' 'f12' 'f13'\n",
      " 'f14' 'f15' 'f16' 'f17' 'f18' 'f19' 'f20' 'f21' 'f22' 'f23' 'f24' 'f25'\n",
      " 'f26' 'f27' 'f28' 'f29' 'f30' 'f31' 'f32' 'f33' 'f34' 'f35' 'f36' 'f37'\n",
      " 'f38' 'f39' 'f40' 'f41']\n",
      "Fitting 5 folds for each of 1 candidates, totalling 5 fits\n",
      "[CV 1/5] END gamma=0, lambda=1, learning_rate=0.4, n_estimators=100;, score=0.832 total time=   0.6s\n",
      "[CV 2/5] END gamma=0, lambda=1, learning_rate=0.4, n_estimators=100;, score=0.832 total time=   0.6s\n",
      "[CV 3/5] END gamma=0, lambda=1, learning_rate=0.4, n_estimators=100;, score=0.829 total time=   0.8s\n",
      "[CV 4/5] END gamma=0, lambda=1, learning_rate=0.4, n_estimators=100;, score=0.831 total time=   1.6s\n",
      "[CV 5/5] END gamma=0, lambda=1, learning_rate=0.4, n_estimators=100;, score=0.834 total time=   1.8s\n",
      "Accuracy: 0.8381438721136767\n",
      "Best model hyperparameters: XGBClassifier(base_score=None, booster=None, callbacks=None,\n",
      "              colsample_bylevel=None, colsample_bynode=None,\n",
      "              colsample_bytree=None, device=None, early_stopping_rounds=None,\n",
      "              enable_categorical=False, eval_metric=None, feature_types=None,\n",
      "              gamma=0, grow_policy=None, importance_type=None,\n",
      "              interaction_constraints=None, lambda=1, learning_rate=0.4,\n",
      "              max_bin=None, max_cat_threshold=None, max_cat_to_onehot=None,\n",
      "              max_delta_step=None, max_depth=None, max_leaves=None,\n",
      "              min_child_weight=None, missing=nan, monotone_constraints=None,\n",
      "              multi_strategy=None, n_estimators=100, n_jobs=None, num_class=3, ...)\n"
     ]
    },
    {
     "data": {
      "text/plain": "array([[ 255,  376,  639],\n       [ 111, 2661,  601],\n       [ 103,  357, 8409]], dtype=int64)"
     },
     "execution_count": 8,
     "metadata": {},
     "output_type": "execute_result"
    }
   ],
   "source": [
    "# Check XGBoost\n",
    "xg_params = {\"learning_rate\": [0.4, 0.3, 0.2], \"gamma\": [0, 1], \"lambda\": [1, 2, 3], \"n_estimators\": [100, 125, 150, 175]}\n",
    "xg_model = xgb.XGBClassifier(objective='multi:softmax', num_class=3)\n",
    "best_xg_model, best_xg_features = model_grid_search(xg_model, xg_params)\n",
    "y_pred = best_xg_model.predict(dev[best_xg_features])\n",
    "print(\"Accuracy:\", metrics.accuracy_score(dev_labels, y_pred))\n",
    "print(\"Best model hyperparameters:\", best_xg_model.best_estimator_)\n",
    "confusion_matrix(y_true=dev_labels, y_pred=y_pred, labels=[0,1,2])"
   ],
   "metadata": {
    "collapsed": false,
    "ExecuteTime": {
     "end_time": "2024-06-18T07:45:51.756802700Z",
     "start_time": "2024-06-18T07:44:59.806207300Z"
    }
   },
   "id": "b25838b9f02cac9c",
   "execution_count": 8
  },
  {
   "cell_type": "code",
   "outputs": [],
   "source": [
    "# Check Random Forest\n",
    "tree_params = {\"max_depth\": [None, 30, 50], \"n_estimators\": [100, 125, 150, 175], \"min_samples_split\":[2, 3, 4]}\n",
    "tree_model = RandomForestClassifier()\n",
    "best_tree_model, best_tree_features = model_grid_search(tree_model, tree_params)\n",
    "y_pred = best_tree_model.predict(dev[best_tree_features])\n",
    "print(\"Accuracy:\", metrics.accuracy_score(dev_labels, y_pred))\n",
    "print(\"Best model hyperparameters:\", best_tree_model.best_estimator_)\n",
    "confusion_matrix(y_true=dev_labels, y_pred=y_pred, labels=[0,1,2])"
   ],
   "metadata": {
    "collapsed": false
   },
   "id": "3ae62d8a007b139a"
  },
  {
   "cell_type": "code",
   "outputs": [],
   "source": [
    "# Check Gradient Boost\n",
    "gb_params = {\"max_depth\": [2, 3], \"n_estimators\": [100, 125, 150, 175], \"min_samples_split\": [2, 3], \"learning_rate\": [0.1, 0.01]}\n",
    "gb_model = GradientBoostingClassifier()\n",
    "best_gb_model, best_gb_features = model_grid_search(gb_model, gb_params)\n",
    "y_pred = best_gb_model.predict(dev[best_gb_features])\n",
    "print(\"Accuracy:\", metrics.accuracy_score(dev_labels, y_pred))\n",
    "print(\"Best model hyperparameters:\", best_gb_model.best_estimator_)\n",
    "confusion_matrix(y_true=dev_labels, y_pred=y_pred, labels=[0,1,2])"
   ],
   "metadata": {
    "collapsed": false
   },
   "id": "a01555fd296ea34"
  },
  {
   "cell_type": "code",
   "outputs": [],
   "source": [
    "from sklearn.pipeline import Pipeline\n",
    "from sklearn.feature_selection import SelectKBest\n",
    "from sklearn.preprocessing import StandardScaler\n",
    "from sklearn.svm import SVC\n",
    "\n",
    "pipe = Pipeline([('scaler', StandardScaler()),\n",
    "                 ('selector', SelectKBest(k=30)),\n",
    "                 ('classifier', xgb.XGBClassifier(objective='multi:softmax', num_class=3))])\n",
    "\n",
    "search_space = [{'selector__k': [30, 35, 40, 42]},\n",
    "                {'classifier': [RandomForestClassifier()],\n",
    "                 'classifier__n_estimators': [100, 125, 150, 175],\n",
    "                 'classifier__max_depth': [None, 30, 50],\n",
    "                 'classifier__min_samples_split': [2, 3, 4]},\n",
    "                {'classifier': [GradientBoostingClassifier()],\n",
    "                 'classifier__learning_rate': [0.1, 0.2],\n",
    "                 'classifier__max_depth': [2, 3],\n",
    "                 'classifier__min_samples_split': [2, 3],\n",
    "                 'classifier__n_estimators': [100, 125, 150, 175]},\n",
    "                {'classifier': [xgb.XGBClassifier(objective='multi:softmax', num_class=3)],\n",
    "                 'classifier__learning_rate': [0.2, 0.3, 0.4],\n",
    "                 'classifier__gamma': [0, 1],\n",
    "                 'classifier__lambda': [1, 2, 3],\n",
    "                 'classifier__n_estimators': [100, 125, 150, 175]},\n",
    "                {'classifier': [SVC(gamma='auto')]}]\n",
    "clf = GridSearchCV(pipe, search_space, verbose=5)\n",
    "clf.fit(train_features, train_labels)\n",
    "y_pred = clf.predict(dev)\n",
    "print(clf.best_estimator_)\n",
    "print(metrics.accuracy_score(dev_labels, y_pred))"
   ],
   "metadata": {
    "collapsed": false
   },
   "id": "ffd61424335a1dee"
  },
  {
   "cell_type": "code",
   "outputs": [],
   "source": [
    "from sklearn.pipeline import make_pipeline\n",
    "from sklearn.preprocessing import StandardScaler\n",
    "from sklearn.svm import SVC\n",
    "clf = make_pipeline(StandardScaler(), SVC(gamma='auto'))\n",
    "clf.fit(train_features, train_labels)\n",
    "y_pred = clf.predict(dev_features)\n",
    "accuracy = accuracy_score(dev_labels, y_pred)\n",
    "print(\"Accuracy:\", accuracy)\n",
    "confusion_matrix(y_true=dev_labels, y_pred=y_pred, labels=[0,1,2])"
   ],
   "metadata": {
    "collapsed": false
   },
   "id": "e36fce8000ce74cb"
  },
  {
   "cell_type": "code",
   "outputs": [],
   "source": [
    "#Under sampling\n",
    "from imblearn.under_sampling import RandomUnderSampler\n",
    "rus = RandomUnderSampler(random_state=42, sampling_strategy = 'not minority')\n",
    "train_features_resampled, train_labels_resampled = rus.fit_resample(train_features, train_labels)\n",
    "rf = RandomForestClassifier()\n",
    "rf.fit(train_features_resampled, train_labels_resampled)\n",
    "y_pred = rf.predict(dev_features)\n",
    "accuracy = accuracy_score(dev_labels, y_pred)\n",
    "print(\"Accuracy:\", accuracy)\n",
    "confusion_matrix(y_true=dev_labels, y_pred=y_pred, labels=[0,1,2])"
   ],
   "metadata": {
    "collapsed": false
   },
   "id": "7ee1e985bc5c374c"
  },
  {
   "cell_type": "code",
   "outputs": [],
   "source": [
    "#Over sampling\n",
    "from imblearn.over_sampling import SMOTE\n",
    "smote = SMOTE()\n",
    "train_features_resampled, train_labels_resampled = smote.fit_resample(train_features, train_labels)\n",
    "rf = RandomForestClassifier()\n",
    "rf.fit(train_features_resampled, train_labels_resampled)\n",
    "y_pred = rf.predict(dev_features)\n",
    "accuracy = accuracy_score(dev_labels, y_pred)\n",
    "print(\"Accuracy:\", accuracy)\n",
    "confusion_matrix(y_true=dev_labels, y_pred=y_pred, labels=[0,1,2])"
   ],
   "metadata": {
    "collapsed": false
   },
   "id": "656775cab20cb7a8"
  },
  {
   "cell_type": "code",
   "outputs": [],
   "source": [
    "from sklearn.feature_selection import SelectKBest, chi2\n",
    "\n",
    "k_best_selector = SelectKBest(chi2, k=40)\n",
    "train_features_new = k_best_selector.fit_transform(train_features, train_labels)\n",
    "rf = RandomForestClassifier()\n",
    "rf.fit(train_features_new, train_labels)\n",
    "y_pred = rf.predict(dev_features[k_best_selector.get_feature_names_out()])\n",
    "accuracy = accuracy_score(dev_labels, y_pred)\n",
    "print(\"Accuracy:\", accuracy)\n",
    "confusion_matrix(y_true=dev_labels, y_pred=y_pred, labels=[0,1,2])"
   ],
   "metadata": {
    "collapsed": false
   },
   "id": "fcfb24f0a91364c5"
  },
  {
   "cell_type": "code",
   "outputs": [],
   "source": [
    "def train_with_2_svc(features: pd.DataFrame, labels: pd.Series):\n",
    "    category_not_2_features = features[labels != 2]\n",
    "    category_not_2_labels = labels[labels != 2]\n",
    "    "
   ],
   "metadata": {
    "collapsed": false
   },
   "id": "52b725fa96ccbdf9"
  },
  {
   "cell_type": "code",
   "outputs": [],
   "source": [],
   "metadata": {
    "collapsed": false
   },
   "id": "2ff8eb99bab6b0c7"
  }
 ],
 "metadata": {
  "kernelspec": {
   "display_name": "Python 3",
   "language": "python",
   "name": "python3"
  },
  "language_info": {
   "codemirror_mode": {
    "name": "ipython",
    "version": 2
   },
   "file_extension": ".py",
   "mimetype": "text/x-python",
   "name": "python",
   "nbconvert_exporter": "python",
   "pygments_lexer": "ipython2",
   "version": "2.7.6"
  }
 },
 "nbformat": 4,
 "nbformat_minor": 5
}
