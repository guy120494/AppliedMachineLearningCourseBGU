{
 "cells": [
  {
   "cell_type": "code",
   "execution_count": 1,
   "id": "58c0969955472694",
   "metadata": {
    "ExecuteTime": {
     "end_time": "2024-06-20T15:58:54.368647Z",
     "start_time": "2024-06-20T15:58:49.961952Z"
    },
    "collapsed": false,
    "jupyter": {
     "outputs_hidden": false
    }
   },
   "outputs": [],
   "source": [
    "import math\n",
    "import pandas as pd\n",
    "import numpy as np\n",
    "from sklearn import *\n",
    "import matplotlib.pyplot as plt\n",
    "import xgboost as xgb\n",
    "from pandas.plotting import scatter_matrix\n",
    "from sklearn.ensemble import RandomForestClassifier, GradientBoostingClassifier\n",
    "from sklearn.metrics import accuracy_score, confusion_matrix\n",
    "from sklearn.model_selection import GridSearchCV\n",
    "from sklearn.pipeline import Pipeline\n",
    "from sklearn.svm import SVC\n",
    "from sklearn.preprocessing import PowerTransformer, PolynomialFeatures\n",
    "import seaborn as sns\n",
    "from imblearn.under_sampling import RandomUnderSampler\n",
    "from imblearn.over_sampling import SMOTE"
   ]
  },
  {
   "cell_type": "markdown",
   "id": "a7a3e460936e355e",
   "metadata": {
    "collapsed": false,
    "jupyter": {
     "outputs_hidden": false
    }
   },
   "source": [
    "# **Data inspection and preprocessing**"
   ]
  },
  {
   "cell_type": "code",
   "execution_count": 2,
   "id": "a2bf92577a6a15eb",
   "metadata": {
    "ExecuteTime": {
     "end_time": "2024-06-20T15:58:54.403952Z",
     "start_time": "2024-06-20T15:58:54.369657Z"
    },
    "collapsed": false,
    "jupyter": {
     "outputs_hidden": false
    }
   },
   "outputs": [],
   "source": [
    "# Unpacking data from pickle file and basic information about the data\n",
    "data = pd.read_pickle('./ass2.pickle')\n",
    "train, dev, test = data['train'], data['dev'], data['test']"
   ]
  },
  {
   "cell_type": "code",
   "execution_count": 3,
   "id": "13c2522016800fda",
   "metadata": {
    "ExecuteTime": {
     "end_time": "2024-06-20T15:58:54.430021Z",
     "start_time": "2024-06-20T15:58:54.404959Z"
    },
    "collapsed": false,
    "jupyter": {
     "outputs_hidden": false
    }
   },
   "outputs": [
    {
     "name": "stdout",
     "output_type": "stream",
     "text": [
      "number of features: 42\n",
      "types of labels: [2 1 0]\n",
      "number of different values: [('f0', 3), ('f1', 3), ('f2', 3), ('f3', 3), ('f4', 3), ('f5', 3), ('f6', 3), ('f7', 3), ('f8', 3), ('f9', 3), ('f10', 3), ('f11', 3), ('f12', 3), ('f13', 3), ('f14', 3), ('f15', 3), ('f16', 3), ('f17', 3), ('f18', 3), ('f19', 3), ('f20', 3), ('f21', 3), ('f22', 3), ('f23', 3), ('f24', 3), ('f25', 3), ('f26', 3), ('f27', 3), ('f28', 3), ('f29', 3), ('f30', 3), ('f31', 3), ('f32', 3), ('f33', 3), ('f34', 3), ('f35', 3), ('f36', 3), ('f37', 3), ('f38', 3), ('f39', 3), ('f40', 3), ('f41', 3), ('target', 3)]\n",
      "number of rows in train: 40533\n",
      "number of rows in dev: 13512\n",
      "number of rows in test: 13512\n"
     ]
    }
   ],
   "source": [
    "# Show basic data information\n",
    "print(f\"number of features: {len(train.columns) - 1}\")\n",
    "print(f\"types of labels: {train['target'].unique()}\")\n",
    "print(f\"number of different values: {[(c,len(train[c].unique()))  for c in train]}\")\n",
    "print(f\"number of rows in train: {len(train)}\")\n",
    "print(f\"number of rows in dev: {len(dev)}\")\n",
    "print(f\"number of rows in test: {len(test)}\")\n"
   ]
  },
  {
   "cell_type": "code",
   "execution_count": 4,
   "id": "2dde8f66ee605662",
   "metadata": {
    "ExecuteTime": {
     "end_time": "2024-06-20T15:58:54.446264Z",
     "start_time": "2024-06-20T15:58:54.431089Z"
    },
    "collapsed": false,
    "jupyter": {
     "outputs_hidden": false
    }
   },
   "outputs": [
    {
     "data": {
      "text/plain": [
       "f0        0\n",
       "f1        0\n",
       "f2        0\n",
       "f3        0\n",
       "f4        0\n",
       "f5        0\n",
       "f6        0\n",
       "f7        0\n",
       "f8        0\n",
       "f9        0\n",
       "f10       0\n",
       "f11       0\n",
       "f12       0\n",
       "f13       0\n",
       "f14       0\n",
       "f15       0\n",
       "f16       0\n",
       "f17       0\n",
       "f18       0\n",
       "f19       0\n",
       "f20       0\n",
       "f21       0\n",
       "f22       0\n",
       "f23       0\n",
       "f24       0\n",
       "f25       0\n",
       "f26       0\n",
       "f27       0\n",
       "f28       0\n",
       "f29       0\n",
       "f30       0\n",
       "f31       0\n",
       "f32       0\n",
       "f33       0\n",
       "f34       0\n",
       "f35       0\n",
       "f36       0\n",
       "f37       0\n",
       "f38       0\n",
       "f39       0\n",
       "f40       0\n",
       "f41       0\n",
       "target    0\n",
       "dtype: int64"
      ]
     },
     "execution_count": 4,
     "metadata": {},
     "output_type": "execute_result"
    }
   ],
   "source": [
    "#Checking for missing values\n",
    "train.isnull().sum()"
   ]
  },
  {
   "cell_type": "markdown",
   "id": "27317adc6bfbfe71",
   "metadata": {
    "collapsed": false,
    "jupyter": {
     "outputs_hidden": false
    }
   },
   "source": [
    "There are no missing values"
   ]
  },
  {
   "cell_type": "code",
   "execution_count": 5,
   "id": "fe03224b41993eec",
   "metadata": {
    "ExecuteTime": {
     "end_time": "2024-06-20T15:58:54.538768Z",
     "start_time": "2024-06-20T15:58:54.447306Z"
    },
    "collapsed": false,
    "jupyter": {
     "outputs_hidden": false
    }
   },
   "outputs": [
    {
     "data": {
      "text/html": [
       "<div>\n",
       "<style scoped>\n",
       "    .dataframe tbody tr th:only-of-type {\n",
       "        vertical-align: middle;\n",
       "    }\n",
       "\n",
       "    .dataframe tbody tr th {\n",
       "        vertical-align: top;\n",
       "    }\n",
       "\n",
       "    .dataframe thead th {\n",
       "        text-align: right;\n",
       "    }\n",
       "</style>\n",
       "<table border=\"1\" class=\"dataframe\">\n",
       "  <thead>\n",
       "    <tr style=\"text-align: right;\">\n",
       "      <th></th>\n",
       "      <th>f0</th>\n",
       "      <th>f1</th>\n",
       "      <th>f2</th>\n",
       "      <th>f3</th>\n",
       "      <th>f4</th>\n",
       "      <th>f5</th>\n",
       "      <th>f6</th>\n",
       "      <th>f7</th>\n",
       "      <th>f8</th>\n",
       "      <th>f9</th>\n",
       "      <th>...</th>\n",
       "      <th>f33</th>\n",
       "      <th>f34</th>\n",
       "      <th>f35</th>\n",
       "      <th>f36</th>\n",
       "      <th>f37</th>\n",
       "      <th>f38</th>\n",
       "      <th>f39</th>\n",
       "      <th>f40</th>\n",
       "      <th>f41</th>\n",
       "      <th>target</th>\n",
       "    </tr>\n",
       "  </thead>\n",
       "  <tbody>\n",
       "    <tr>\n",
       "      <th>count</th>\n",
       "      <td>40533.000000</td>\n",
       "      <td>40533.000000</td>\n",
       "      <td>40533.000000</td>\n",
       "      <td>40533.000000</td>\n",
       "      <td>40533.000000</td>\n",
       "      <td>40533.000000</td>\n",
       "      <td>40533.000000</td>\n",
       "      <td>40533.000000</td>\n",
       "      <td>40533.000000</td>\n",
       "      <td>40533.000000</td>\n",
       "      <td>...</td>\n",
       "      <td>40533.000000</td>\n",
       "      <td>40533.000000</td>\n",
       "      <td>40533.000000</td>\n",
       "      <td>40533.000000</td>\n",
       "      <td>40533.000000</td>\n",
       "      <td>40533.000000</td>\n",
       "      <td>40533.000000</td>\n",
       "      <td>40533.000000</td>\n",
       "      <td>40533.000000</td>\n",
       "      <td>40533.000000</td>\n",
       "    </tr>\n",
       "    <tr>\n",
       "      <th>mean</th>\n",
       "      <td>0.959539</td>\n",
       "      <td>0.540054</td>\n",
       "      <td>0.270890</td>\n",
       "      <td>0.131745</td>\n",
       "      <td>0.051982</td>\n",
       "      <td>0.009844</td>\n",
       "      <td>1.064269</td>\n",
       "      <td>0.582982</td>\n",
       "      <td>0.288407</td>\n",
       "      <td>0.137912</td>\n",
       "      <td>...</td>\n",
       "      <td>0.059260</td>\n",
       "      <td>0.014877</td>\n",
       "      <td>0.001604</td>\n",
       "      <td>0.838749</td>\n",
       "      <td>0.427331</td>\n",
       "      <td>0.188587</td>\n",
       "      <td>0.069992</td>\n",
       "      <td>0.016036</td>\n",
       "      <td>0.001406</td>\n",
       "      <td>1.562924</td>\n",
       "    </tr>\n",
       "    <tr>\n",
       "      <th>std</th>\n",
       "      <td>0.834109</td>\n",
       "      <td>0.779471</td>\n",
       "      <td>0.612657</td>\n",
       "      <td>0.448263</td>\n",
       "      <td>0.290031</td>\n",
       "      <td>0.119114</td>\n",
       "      <td>0.838151</td>\n",
       "      <td>0.793958</td>\n",
       "      <td>0.627516</td>\n",
       "      <td>0.457701</td>\n",
       "      <td>...</td>\n",
       "      <td>0.303588</td>\n",
       "      <td>0.152614</td>\n",
       "      <td>0.046832</td>\n",
       "      <td>0.832101</td>\n",
       "      <td>0.724840</td>\n",
       "      <td>0.525442</td>\n",
       "      <td>0.330019</td>\n",
       "      <td>0.155936</td>\n",
       "      <td>0.042993</td>\n",
       "      <td>0.662817</td>\n",
       "    </tr>\n",
       "    <tr>\n",
       "      <th>min</th>\n",
       "      <td>0.000000</td>\n",
       "      <td>0.000000</td>\n",
       "      <td>0.000000</td>\n",
       "      <td>0.000000</td>\n",
       "      <td>0.000000</td>\n",
       "      <td>0.000000</td>\n",
       "      <td>0.000000</td>\n",
       "      <td>0.000000</td>\n",
       "      <td>0.000000</td>\n",
       "      <td>0.000000</td>\n",
       "      <td>...</td>\n",
       "      <td>0.000000</td>\n",
       "      <td>0.000000</td>\n",
       "      <td>0.000000</td>\n",
       "      <td>0.000000</td>\n",
       "      <td>0.000000</td>\n",
       "      <td>0.000000</td>\n",
       "      <td>0.000000</td>\n",
       "      <td>0.000000</td>\n",
       "      <td>0.000000</td>\n",
       "      <td>0.000000</td>\n",
       "    </tr>\n",
       "    <tr>\n",
       "      <th>25%</th>\n",
       "      <td>0.000000</td>\n",
       "      <td>0.000000</td>\n",
       "      <td>0.000000</td>\n",
       "      <td>0.000000</td>\n",
       "      <td>0.000000</td>\n",
       "      <td>0.000000</td>\n",
       "      <td>0.000000</td>\n",
       "      <td>0.000000</td>\n",
       "      <td>0.000000</td>\n",
       "      <td>0.000000</td>\n",
       "      <td>...</td>\n",
       "      <td>0.000000</td>\n",
       "      <td>0.000000</td>\n",
       "      <td>0.000000</td>\n",
       "      <td>0.000000</td>\n",
       "      <td>0.000000</td>\n",
       "      <td>0.000000</td>\n",
       "      <td>0.000000</td>\n",
       "      <td>0.000000</td>\n",
       "      <td>0.000000</td>\n",
       "      <td>1.000000</td>\n",
       "    </tr>\n",
       "    <tr>\n",
       "      <th>50%</th>\n",
       "      <td>1.000000</td>\n",
       "      <td>0.000000</td>\n",
       "      <td>0.000000</td>\n",
       "      <td>0.000000</td>\n",
       "      <td>0.000000</td>\n",
       "      <td>0.000000</td>\n",
       "      <td>1.000000</td>\n",
       "      <td>0.000000</td>\n",
       "      <td>0.000000</td>\n",
       "      <td>0.000000</td>\n",
       "      <td>...</td>\n",
       "      <td>0.000000</td>\n",
       "      <td>0.000000</td>\n",
       "      <td>0.000000</td>\n",
       "      <td>1.000000</td>\n",
       "      <td>0.000000</td>\n",
       "      <td>0.000000</td>\n",
       "      <td>0.000000</td>\n",
       "      <td>0.000000</td>\n",
       "      <td>0.000000</td>\n",
       "      <td>2.000000</td>\n",
       "    </tr>\n",
       "    <tr>\n",
       "      <th>75%</th>\n",
       "      <td>2.000000</td>\n",
       "      <td>1.000000</td>\n",
       "      <td>0.000000</td>\n",
       "      <td>0.000000</td>\n",
       "      <td>0.000000</td>\n",
       "      <td>0.000000</td>\n",
       "      <td>2.000000</td>\n",
       "      <td>1.000000</td>\n",
       "      <td>0.000000</td>\n",
       "      <td>0.000000</td>\n",
       "      <td>...</td>\n",
       "      <td>0.000000</td>\n",
       "      <td>0.000000</td>\n",
       "      <td>0.000000</td>\n",
       "      <td>2.000000</td>\n",
       "      <td>1.000000</td>\n",
       "      <td>0.000000</td>\n",
       "      <td>0.000000</td>\n",
       "      <td>0.000000</td>\n",
       "      <td>0.000000</td>\n",
       "      <td>2.000000</td>\n",
       "    </tr>\n",
       "    <tr>\n",
       "      <th>max</th>\n",
       "      <td>2.000000</td>\n",
       "      <td>2.000000</td>\n",
       "      <td>2.000000</td>\n",
       "      <td>2.000000</td>\n",
       "      <td>2.000000</td>\n",
       "      <td>2.000000</td>\n",
       "      <td>2.000000</td>\n",
       "      <td>2.000000</td>\n",
       "      <td>2.000000</td>\n",
       "      <td>2.000000</td>\n",
       "      <td>...</td>\n",
       "      <td>2.000000</td>\n",
       "      <td>2.000000</td>\n",
       "      <td>2.000000</td>\n",
       "      <td>2.000000</td>\n",
       "      <td>2.000000</td>\n",
       "      <td>2.000000</td>\n",
       "      <td>2.000000</td>\n",
       "      <td>2.000000</td>\n",
       "      <td>2.000000</td>\n",
       "      <td>2.000000</td>\n",
       "    </tr>\n",
       "  </tbody>\n",
       "</table>\n",
       "<p>8 rows × 43 columns</p>\n",
       "</div>"
      ],
      "text/plain": [
       "                 f0            f1            f2            f3            f4  \\\n",
       "count  40533.000000  40533.000000  40533.000000  40533.000000  40533.000000   \n",
       "mean       0.959539      0.540054      0.270890      0.131745      0.051982   \n",
       "std        0.834109      0.779471      0.612657      0.448263      0.290031   \n",
       "min        0.000000      0.000000      0.000000      0.000000      0.000000   \n",
       "25%        0.000000      0.000000      0.000000      0.000000      0.000000   \n",
       "50%        1.000000      0.000000      0.000000      0.000000      0.000000   \n",
       "75%        2.000000      1.000000      0.000000      0.000000      0.000000   \n",
       "max        2.000000      2.000000      2.000000      2.000000      2.000000   \n",
       "\n",
       "                 f5            f6            f7            f8            f9  \\\n",
       "count  40533.000000  40533.000000  40533.000000  40533.000000  40533.000000   \n",
       "mean       0.009844      1.064269      0.582982      0.288407      0.137912   \n",
       "std        0.119114      0.838151      0.793958      0.627516      0.457701   \n",
       "min        0.000000      0.000000      0.000000      0.000000      0.000000   \n",
       "25%        0.000000      0.000000      0.000000      0.000000      0.000000   \n",
       "50%        0.000000      1.000000      0.000000      0.000000      0.000000   \n",
       "75%        0.000000      2.000000      1.000000      0.000000      0.000000   \n",
       "max        2.000000      2.000000      2.000000      2.000000      2.000000   \n",
       "\n",
       "       ...           f33           f34           f35           f36  \\\n",
       "count  ...  40533.000000  40533.000000  40533.000000  40533.000000   \n",
       "mean   ...      0.059260      0.014877      0.001604      0.838749   \n",
       "std    ...      0.303588      0.152614      0.046832      0.832101   \n",
       "min    ...      0.000000      0.000000      0.000000      0.000000   \n",
       "25%    ...      0.000000      0.000000      0.000000      0.000000   \n",
       "50%    ...      0.000000      0.000000      0.000000      1.000000   \n",
       "75%    ...      0.000000      0.000000      0.000000      2.000000   \n",
       "max    ...      2.000000      2.000000      2.000000      2.000000   \n",
       "\n",
       "                f37           f38           f39           f40           f41  \\\n",
       "count  40533.000000  40533.000000  40533.000000  40533.000000  40533.000000   \n",
       "mean       0.427331      0.188587      0.069992      0.016036      0.001406   \n",
       "std        0.724840      0.525442      0.330019      0.155936      0.042993   \n",
       "min        0.000000      0.000000      0.000000      0.000000      0.000000   \n",
       "25%        0.000000      0.000000      0.000000      0.000000      0.000000   \n",
       "50%        0.000000      0.000000      0.000000      0.000000      0.000000   \n",
       "75%        1.000000      0.000000      0.000000      0.000000      0.000000   \n",
       "max        2.000000      2.000000      2.000000      2.000000      2.000000   \n",
       "\n",
       "             target  \n",
       "count  40533.000000  \n",
       "mean       1.562924  \n",
       "std        0.662817  \n",
       "min        0.000000  \n",
       "25%        1.000000  \n",
       "50%        2.000000  \n",
       "75%        2.000000  \n",
       "max        2.000000  \n",
       "\n",
       "[8 rows x 43 columns]"
      ]
     },
     "execution_count": 5,
     "metadata": {},
     "output_type": "execute_result"
    }
   ],
   "source": [
    "# Show general information about the data (mean, ste, etc. by feature)\n",
    "train.describe()"
   ]
  },
  {
   "cell_type": "code",
   "execution_count": 6,
   "id": "3a648ad762cb662f",
   "metadata": {
    "ExecuteTime": {
     "end_time": "2024-06-20T15:58:54.691498Z",
     "start_time": "2024-06-20T15:58:54.538868Z"
    },
    "collapsed": false,
    "jupyter": {
     "outputs_hidden": false
    }
   },
   "outputs": [
    {
     "data": {
      "text/html": [
       "<div>\n",
       "<style scoped>\n",
       "    .dataframe tbody tr th:only-of-type {\n",
       "        vertical-align: middle;\n",
       "    }\n",
       "\n",
       "    .dataframe tbody tr th {\n",
       "        vertical-align: top;\n",
       "    }\n",
       "\n",
       "    .dataframe thead tr th {\n",
       "        text-align: left;\n",
       "    }\n",
       "\n",
       "    .dataframe thead tr:last-of-type th {\n",
       "        text-align: right;\n",
       "    }\n",
       "</style>\n",
       "<table border=\"1\" class=\"dataframe\">\n",
       "  <thead>\n",
       "    <tr>\n",
       "      <th></th>\n",
       "      <th colspan=\"8\" halign=\"left\">f0</th>\n",
       "      <th colspan=\"2\" halign=\"left\">f1</th>\n",
       "      <th>...</th>\n",
       "      <th colspan=\"2\" halign=\"left\">f40</th>\n",
       "      <th colspan=\"8\" halign=\"left\">f41</th>\n",
       "    </tr>\n",
       "    <tr>\n",
       "      <th></th>\n",
       "      <th>count</th>\n",
       "      <th>mean</th>\n",
       "      <th>std</th>\n",
       "      <th>min</th>\n",
       "      <th>25%</th>\n",
       "      <th>50%</th>\n",
       "      <th>75%</th>\n",
       "      <th>max</th>\n",
       "      <th>count</th>\n",
       "      <th>mean</th>\n",
       "      <th>...</th>\n",
       "      <th>75%</th>\n",
       "      <th>max</th>\n",
       "      <th>count</th>\n",
       "      <th>mean</th>\n",
       "      <th>std</th>\n",
       "      <th>min</th>\n",
       "      <th>25%</th>\n",
       "      <th>50%</th>\n",
       "      <th>75%</th>\n",
       "      <th>max</th>\n",
       "    </tr>\n",
       "    <tr>\n",
       "      <th>target</th>\n",
       "      <th></th>\n",
       "      <th></th>\n",
       "      <th></th>\n",
       "      <th></th>\n",
       "      <th></th>\n",
       "      <th></th>\n",
       "      <th></th>\n",
       "      <th></th>\n",
       "      <th></th>\n",
       "      <th></th>\n",
       "      <th></th>\n",
       "      <th></th>\n",
       "      <th></th>\n",
       "      <th></th>\n",
       "      <th></th>\n",
       "      <th></th>\n",
       "      <th></th>\n",
       "      <th></th>\n",
       "      <th></th>\n",
       "      <th></th>\n",
       "      <th></th>\n",
       "    </tr>\n",
       "  </thead>\n",
       "  <tbody>\n",
       "    <tr>\n",
       "      <th>0</th>\n",
       "      <td>3917.0</td>\n",
       "      <td>1.061527</td>\n",
       "      <td>0.833138</td>\n",
       "      <td>0.0</td>\n",
       "      <td>0.0</td>\n",
       "      <td>1.0</td>\n",
       "      <td>2.0</td>\n",
       "      <td>2.0</td>\n",
       "      <td>3917.0</td>\n",
       "      <td>0.669135</td>\n",
       "      <td>...</td>\n",
       "      <td>0.0</td>\n",
       "      <td>2.0</td>\n",
       "      <td>3917.0</td>\n",
       "      <td>0.003574</td>\n",
       "      <td>0.074868</td>\n",
       "      <td>0.0</td>\n",
       "      <td>0.0</td>\n",
       "      <td>0.0</td>\n",
       "      <td>0.0</td>\n",
       "      <td>2.0</td>\n",
       "    </tr>\n",
       "    <tr>\n",
       "      <th>1</th>\n",
       "      <td>9882.0</td>\n",
       "      <td>1.082676</td>\n",
       "      <td>0.908831</td>\n",
       "      <td>0.0</td>\n",
       "      <td>0.0</td>\n",
       "      <td>1.0</td>\n",
       "      <td>2.0</td>\n",
       "      <td>2.0</td>\n",
       "      <td>9882.0</td>\n",
       "      <td>0.572759</td>\n",
       "      <td>...</td>\n",
       "      <td>0.0</td>\n",
       "      <td>2.0</td>\n",
       "      <td>9882.0</td>\n",
       "      <td>0.000911</td>\n",
       "      <td>0.038952</td>\n",
       "      <td>0.0</td>\n",
       "      <td>0.0</td>\n",
       "      <td>0.0</td>\n",
       "      <td>0.0</td>\n",
       "      <td>2.0</td>\n",
       "    </tr>\n",
       "    <tr>\n",
       "      <th>2</th>\n",
       "      <td>26734.0</td>\n",
       "      <td>0.899080</td>\n",
       "      <td>0.798188</td>\n",
       "      <td>0.0</td>\n",
       "      <td>0.0</td>\n",
       "      <td>1.0</td>\n",
       "      <td>2.0</td>\n",
       "      <td>2.0</td>\n",
       "      <td>26734.0</td>\n",
       "      <td>0.509052</td>\n",
       "      <td>...</td>\n",
       "      <td>0.0</td>\n",
       "      <td>2.0</td>\n",
       "      <td>26734.0</td>\n",
       "      <td>0.001272</td>\n",
       "      <td>0.037681</td>\n",
       "      <td>0.0</td>\n",
       "      <td>0.0</td>\n",
       "      <td>0.0</td>\n",
       "      <td>0.0</td>\n",
       "      <td>2.0</td>\n",
       "    </tr>\n",
       "  </tbody>\n",
       "</table>\n",
       "<p>3 rows × 336 columns</p>\n",
       "</div>"
      ],
      "text/plain": [
       "             f0                                                    f1  \\\n",
       "          count      mean       std  min  25%  50%  75%  max    count   \n",
       "target                                                                  \n",
       "0        3917.0  1.061527  0.833138  0.0  0.0  1.0  2.0  2.0   3917.0   \n",
       "1        9882.0  1.082676  0.908831  0.0  0.0  1.0  2.0  2.0   9882.0   \n",
       "2       26734.0  0.899080  0.798188  0.0  0.0  1.0  2.0  2.0  26734.0   \n",
       "\n",
       "                  ...  f40           f41                                     \\\n",
       "            mean  ...  75%  max    count      mean       std  min  25%  50%   \n",
       "target            ...                                                         \n",
       "0       0.669135  ...  0.0  2.0   3917.0  0.003574  0.074868  0.0  0.0  0.0   \n",
       "1       0.572759  ...  0.0  2.0   9882.0  0.000911  0.038952  0.0  0.0  0.0   \n",
       "2       0.509052  ...  0.0  2.0  26734.0  0.001272  0.037681  0.0  0.0  0.0   \n",
       "\n",
       "                  \n",
       "        75%  max  \n",
       "target            \n",
       "0       0.0  2.0  \n",
       "1       0.0  2.0  \n",
       "2       0.0  2.0  \n",
       "\n",
       "[3 rows x 336 columns]"
      ]
     },
     "execution_count": 6,
     "metadata": {},
     "output_type": "execute_result"
    }
   ],
   "source": [
    "# Information about the training data - group by label\n",
    "train.groupby('target').describe()"
   ]
  },
  {
   "cell_type": "markdown",
   "id": "ae746469aab334f6",
   "metadata": {
    "collapsed": false,
    "jupyter": {
     "outputs_hidden": false
    }
   },
   "source": [
    "the \"count\" column tells us that the data is unbalanced. There are way more samples of label \"2\" than the other labels."
   ]
  },
  {
   "cell_type": "code",
   "execution_count": 7,
   "id": "f073c2f2776f2777",
   "metadata": {
    "ExecuteTime": {
     "end_time": "2024-06-20T15:58:54.705221Z",
     "start_time": "2024-06-20T15:58:54.691498Z"
    },
    "collapsed": false,
    "jupyter": {
     "outputs_hidden": false
    }
   },
   "outputs": [],
   "source": [
    "# Splitting the data into features and labels dataframes\n",
    "train_features, train_labels = train.drop('target', axis=1), train['target']\n",
    "dev_features, dev_labels = dev.drop('target', axis=1), dev['target']\n",
    "test_features, test_labels = test.drop('target', axis=1), test['target']"
   ]
  },
  {
   "cell_type": "code",
   "execution_count": 8,
   "id": "9fbaf67c00e6a3a4",
   "metadata": {
    "ExecuteTime": {
     "end_time": "2024-06-20T15:58:55.295755Z",
     "start_time": "2024-06-20T15:58:54.706223Z"
    },
    "collapsed": false,
    "jupyter": {
     "outputs_hidden": false
    }
   },
   "outputs": [
    {
     "data": {
      "text/plain": [
       "<Axes: >"
      ]
     },
     "execution_count": 8,
     "metadata": {},
     "output_type": "execute_result"
    },
    {
     "data": {
      "image/png": "[encoded data removed]",
      "text/plain": [
       "<Figure size 640x480 with 2 Axes>"
      ]
     },
     "metadata": {},
     "output_type": "display_data"
    }
   ],
   "source": [
    "# Check for redundant feature. We decide against removing features since the correlations are not strong enough\n",
    "sns.heatmap(train_features.corr())"
   ]
  },
  {
   "cell_type": "markdown",
   "id": "acb6d5d22ab693d8",
   "metadata": {
    "collapsed": false,
    "jupyter": {
     "outputs_hidden": false
    }
   },
   "source": [
    "For each pipeline in the learning section, we apply preprocessing method using PowerTransformer to map the features into more normal distribustion (Gaussian) and make learning easier. We showed the statistical data of each feature (for example, the mean of it), and it implies that this preprocess will achieve better results."
   ]
  },
  {
   "cell_type": "code",
   "execution_count": 9,
   "id": "7052abf80312cd5d",
   "metadata": {
    "ExecuteTime": {
     "end_time": "2024-06-20T15:58:56.361400Z",
     "start_time": "2024-06-20T15:58:55.296794Z"
    },
    "collapsed": false,
    "jupyter": {
     "outputs_hidden": false
    }
   },
   "outputs": [
    {
     "data": {
      "text/html": [
       "<div>\n",
       "<style scoped>\n",
       "    .dataframe tbody tr th:only-of-type {\n",
       "        vertical-align: middle;\n",
       "    }\n",
       "\n",
       "    .dataframe tbody tr th {\n",
       "        vertical-align: top;\n",
       "    }\n",
       "\n",
       "    .dataframe thead th {\n",
       "        text-align: right;\n",
       "    }\n",
       "</style>\n",
       "<table border=\"1\" class=\"dataframe\">\n",
       "  <thead>\n",
       "    <tr style=\"text-align: right;\">\n",
       "      <th></th>\n",
       "      <th>0</th>\n",
       "      <th>1</th>\n",
       "      <th>2</th>\n",
       "      <th>3</th>\n",
       "      <th>4</th>\n",
       "      <th>5</th>\n",
       "      <th>6</th>\n",
       "      <th>7</th>\n",
       "      <th>8</th>\n",
       "      <th>9</th>\n",
       "      <th>...</th>\n",
       "      <th>32</th>\n",
       "      <th>33</th>\n",
       "      <th>34</th>\n",
       "      <th>35</th>\n",
       "      <th>36</th>\n",
       "      <th>37</th>\n",
       "      <th>38</th>\n",
       "      <th>39</th>\n",
       "      <th>40</th>\n",
       "      <th>41</th>\n",
       "    </tr>\n",
       "  </thead>\n",
       "  <tbody>\n",
       "    <tr>\n",
       "      <th>count</th>\n",
       "      <td>4.053300e+04</td>\n",
       "      <td>4.053300e+04</td>\n",
       "      <td>4.053300e+04</td>\n",
       "      <td>4.053300e+04</td>\n",
       "      <td>4.053300e+04</td>\n",
       "      <td>4.053300e+04</td>\n",
       "      <td>4.053300e+04</td>\n",
       "      <td>4.053300e+04</td>\n",
       "      <td>4.053300e+04</td>\n",
       "      <td>4.053300e+04</td>\n",
       "      <td>...</td>\n",
       "      <td>4.053300e+04</td>\n",
       "      <td>4.053300e+04</td>\n",
       "      <td>4.053300e+04</td>\n",
       "      <td>4.053300e+04</td>\n",
       "      <td>4.053300e+04</td>\n",
       "      <td>4.053300e+04</td>\n",
       "      <td>4.053300e+04</td>\n",
       "      <td>4.053300e+04</td>\n",
       "      <td>4.053300e+04</td>\n",
       "      <td>4.053300e+04</td>\n",
       "    </tr>\n",
       "    <tr>\n",
       "      <th>mean</th>\n",
       "      <td>9.676550e-17</td>\n",
       "      <td>1.262159e-17</td>\n",
       "      <td>7.669367e-17</td>\n",
       "      <td>2.804797e-18</td>\n",
       "      <td>-4.347435e-17</td>\n",
       "      <td>-3.260577e-17</td>\n",
       "      <td>-7.047053e-17</td>\n",
       "      <td>-2.664557e-17</td>\n",
       "      <td>6.188083e-17</td>\n",
       "      <td>5.434294e-18</td>\n",
       "      <td>...</td>\n",
       "      <td>-1.116660e-16</td>\n",
       "      <td>1.332279e-17</td>\n",
       "      <td>-3.137867e-17</td>\n",
       "      <td>1.752998e-17</td>\n",
       "      <td>-6.310793e-17</td>\n",
       "      <td>-4.207196e-18</td>\n",
       "      <td>-4.654210e-17</td>\n",
       "      <td>-8.519571e-17</td>\n",
       "      <td>4.207196e-17</td>\n",
       "      <td>1.849413e-17</td>\n",
       "    </tr>\n",
       "    <tr>\n",
       "      <th>std</th>\n",
       "      <td>1.000012e+00</td>\n",
       "      <td>1.000012e+00</td>\n",
       "      <td>1.000012e+00</td>\n",
       "      <td>1.000012e+00</td>\n",
       "      <td>1.000012e+00</td>\n",
       "      <td>1.000012e+00</td>\n",
       "      <td>1.000012e+00</td>\n",
       "      <td>1.000012e+00</td>\n",
       "      <td>1.000012e+00</td>\n",
       "      <td>1.000012e+00</td>\n",
       "      <td>...</td>\n",
       "      <td>1.000012e+00</td>\n",
       "      <td>1.000012e+00</td>\n",
       "      <td>1.000012e+00</td>\n",
       "      <td>1.000012e+00</td>\n",
       "      <td>1.000012e+00</td>\n",
       "      <td>1.000012e+00</td>\n",
       "      <td>1.000012e+00</td>\n",
       "      <td>1.000012e+00</td>\n",
       "      <td>1.000012e+00</td>\n",
       "      <td>1.000012e+00</td>\n",
       "    </tr>\n",
       "    <tr>\n",
       "      <th>min</th>\n",
       "      <td>-1.200979e+00</td>\n",
       "      <td>-7.467845e-01</td>\n",
       "      <td>-4.716368e-01</td>\n",
       "      <td>-3.115412e-01</td>\n",
       "      <td>-1.892139e-01</td>\n",
       "      <td>-8.764691e-02</td>\n",
       "      <td>-1.293499e+00</td>\n",
       "      <td>-7.920003e-01</td>\n",
       "      <td>-4.907926e-01</td>\n",
       "      <td>-3.194826e-01</td>\n",
       "      <td>...</td>\n",
       "      <td>-3.487365e-01</td>\n",
       "      <td>-2.069069e-01</td>\n",
       "      <td>-1.033053e-01</td>\n",
       "      <td>-3.618409e-02</td>\n",
       "      <td>-1.073533e+00</td>\n",
       "      <td>-6.336377e-01</td>\n",
       "      <td>-3.815101e-01</td>\n",
       "      <td>-2.247513e-01</td>\n",
       "      <td>-1.091253e-01</td>\n",
       "      <td>-3.443290e-02</td>\n",
       "    </tr>\n",
       "    <tr>\n",
       "      <th>25%</th>\n",
       "      <td>-1.200979e+00</td>\n",
       "      <td>-7.467845e-01</td>\n",
       "      <td>-4.716368e-01</td>\n",
       "      <td>-3.115412e-01</td>\n",
       "      <td>-1.892139e-01</td>\n",
       "      <td>-8.764691e-02</td>\n",
       "      <td>-1.293499e+00</td>\n",
       "      <td>-7.920003e-01</td>\n",
       "      <td>-4.907926e-01</td>\n",
       "      <td>-3.194826e-01</td>\n",
       "      <td>...</td>\n",
       "      <td>-3.487365e-01</td>\n",
       "      <td>-2.069069e-01</td>\n",
       "      <td>-1.033053e-01</td>\n",
       "      <td>-3.618409e-02</td>\n",
       "      <td>-1.073533e+00</td>\n",
       "      <td>-6.336377e-01</td>\n",
       "      <td>-3.815101e-01</td>\n",
       "      <td>-2.247513e-01</td>\n",
       "      <td>-1.091253e-01</td>\n",
       "      <td>-3.443290e-02</td>\n",
       "    </tr>\n",
       "    <tr>\n",
       "      <th>50%</th>\n",
       "      <td>1.826660e-01</td>\n",
       "      <td>-7.467845e-01</td>\n",
       "      <td>-4.716368e-01</td>\n",
       "      <td>-3.115412e-01</td>\n",
       "      <td>-1.892139e-01</td>\n",
       "      <td>-8.764691e-02</td>\n",
       "      <td>-2.308405e-02</td>\n",
       "      <td>-7.920003e-01</td>\n",
       "      <td>-4.907926e-01</td>\n",
       "      <td>-3.194826e-01</td>\n",
       "      <td>...</td>\n",
       "      <td>-3.487365e-01</td>\n",
       "      <td>-2.069069e-01</td>\n",
       "      <td>-1.033053e-01</td>\n",
       "      <td>-3.618409e-02</td>\n",
       "      <td>4.329313e-01</td>\n",
       "      <td>-6.336377e-01</td>\n",
       "      <td>-3.815101e-01</td>\n",
       "      <td>-2.247513e-01</td>\n",
       "      <td>-1.091253e-01</td>\n",
       "      <td>-3.443290e-02</td>\n",
       "    </tr>\n",
       "    <tr>\n",
       "      <th>75%</th>\n",
       "      <td>1.180611e+00</td>\n",
       "      <td>1.154175e+00</td>\n",
       "      <td>-4.716368e-01</td>\n",
       "      <td>-3.115412e-01</td>\n",
       "      <td>-1.892139e-01</td>\n",
       "      <td>-8.764691e-02</td>\n",
       "      <td>1.095390e+00</td>\n",
       "      <td>1.038870e+00</td>\n",
       "      <td>-4.907926e-01</td>\n",
       "      <td>-3.194826e-01</td>\n",
       "      <td>...</td>\n",
       "      <td>-3.487365e-01</td>\n",
       "      <td>-2.069069e-01</td>\n",
       "      <td>-1.033053e-01</td>\n",
       "      <td>-3.618409e-02</td>\n",
       "      <td>1.257282e+00</td>\n",
       "      <td>1.481827e+00</td>\n",
       "      <td>-3.815101e-01</td>\n",
       "      <td>-2.247513e-01</td>\n",
       "      <td>-1.091253e-01</td>\n",
       "      <td>-3.443290e-02</td>\n",
       "    </tr>\n",
       "    <tr>\n",
       "      <th>max</th>\n",
       "      <td>1.180611e+00</td>\n",
       "      <td>1.496873e+00</td>\n",
       "      <td>2.140185e+00</td>\n",
       "      <td>3.210122e+00</td>\n",
       "      <td>5.285024e+00</td>\n",
       "      <td>1.140942e+01</td>\n",
       "      <td>1.095390e+00</td>\n",
       "      <td>1.447554e+00</td>\n",
       "      <td>2.063338e+00</td>\n",
       "      <td>3.130460e+00</td>\n",
       "      <td>...</td>\n",
       "      <td>2.868788e+00</td>\n",
       "      <td>4.833092e+00</td>\n",
       "      <td>9.680045e+00</td>\n",
       "      <td>2.763645e+01</td>\n",
       "      <td>1.257282e+00</td>\n",
       "      <td>1.670652e+00</td>\n",
       "      <td>2.624580e+00</td>\n",
       "      <td>4.449362e+00</td>\n",
       "      <td>9.163779e+00</td>\n",
       "      <td>2.904200e+01</td>\n",
       "    </tr>\n",
       "  </tbody>\n",
       "</table>\n",
       "<p>8 rows × 42 columns</p>\n",
       "</div>"
      ],
      "text/plain": [
       "                 0             1             2             3             4   \\\n",
       "count  4.053300e+04  4.053300e+04  4.053300e+04  4.053300e+04  4.053300e+04   \n",
       "mean   9.676550e-17  1.262159e-17  7.669367e-17  2.804797e-18 -4.347435e-17   \n",
       "std    1.000012e+00  1.000012e+00  1.000012e+00  1.000012e+00  1.000012e+00   \n",
       "min   -1.200979e+00 -7.467845e-01 -4.716368e-01 -3.115412e-01 -1.892139e-01   \n",
       "25%   -1.200979e+00 -7.467845e-01 -4.716368e-01 -3.115412e-01 -1.892139e-01   \n",
       "50%    1.826660e-01 -7.467845e-01 -4.716368e-01 -3.115412e-01 -1.892139e-01   \n",
       "75%    1.180611e+00  1.154175e+00 -4.716368e-01 -3.115412e-01 -1.892139e-01   \n",
       "max    1.180611e+00  1.496873e+00  2.140185e+00  3.210122e+00  5.285024e+00   \n",
       "\n",
       "                 5             6             7             8             9   \\\n",
       "count  4.053300e+04  4.053300e+04  4.053300e+04  4.053300e+04  4.053300e+04   \n",
       "mean  -3.260577e-17 -7.047053e-17 -2.664557e-17  6.188083e-17  5.434294e-18   \n",
       "std    1.000012e+00  1.000012e+00  1.000012e+00  1.000012e+00  1.000012e+00   \n",
       "min   -8.764691e-02 -1.293499e+00 -7.920003e-01 -4.907926e-01 -3.194826e-01   \n",
       "25%   -8.764691e-02 -1.293499e+00 -7.920003e-01 -4.907926e-01 -3.194826e-01   \n",
       "50%   -8.764691e-02 -2.308405e-02 -7.920003e-01 -4.907926e-01 -3.194826e-01   \n",
       "75%   -8.764691e-02  1.095390e+00  1.038870e+00 -4.907926e-01 -3.194826e-01   \n",
       "max    1.140942e+01  1.095390e+00  1.447554e+00  2.063338e+00  3.130460e+00   \n",
       "\n",
       "       ...            32            33            34            35  \\\n",
       "count  ...  4.053300e+04  4.053300e+04  4.053300e+04  4.053300e+04   \n",
       "mean   ... -1.116660e-16  1.332279e-17 -3.137867e-17  1.752998e-17   \n",
       "std    ...  1.000012e+00  1.000012e+00  1.000012e+00  1.000012e+00   \n",
       "min    ... -3.487365e-01 -2.069069e-01 -1.033053e-01 -3.618409e-02   \n",
       "25%    ... -3.487365e-01 -2.069069e-01 -1.033053e-01 -3.618409e-02   \n",
       "50%    ... -3.487365e-01 -2.069069e-01 -1.033053e-01 -3.618409e-02   \n",
       "75%    ... -3.487365e-01 -2.069069e-01 -1.033053e-01 -3.618409e-02   \n",
       "max    ...  2.868788e+00  4.833092e+00  9.680045e+00  2.763645e+01   \n",
       "\n",
       "                 36            37            38            39            40  \\\n",
       "count  4.053300e+04  4.053300e+04  4.053300e+04  4.053300e+04  4.053300e+04   \n",
       "mean  -6.310793e-17 -4.207196e-18 -4.654210e-17 -8.519571e-17  4.207196e-17   \n",
       "std    1.000012e+00  1.000012e+00  1.000012e+00  1.000012e+00  1.000012e+00   \n",
       "min   -1.073533e+00 -6.336377e-01 -3.815101e-01 -2.247513e-01 -1.091253e-01   \n",
       "25%   -1.073533e+00 -6.336377e-01 -3.815101e-01 -2.247513e-01 -1.091253e-01   \n",
       "50%    4.329313e-01 -6.336377e-01 -3.815101e-01 -2.247513e-01 -1.091253e-01   \n",
       "75%    1.257282e+00  1.481827e+00 -3.815101e-01 -2.247513e-01 -1.091253e-01   \n",
       "max    1.257282e+00  1.670652e+00  2.624580e+00  4.449362e+00  9.163779e+00   \n",
       "\n",
       "                 41  \n",
       "count  4.053300e+04  \n",
       "mean   1.849413e-17  \n",
       "std    1.000012e+00  \n",
       "min   -3.443290e-02  \n",
       "25%   -3.443290e-02  \n",
       "50%   -3.443290e-02  \n",
       "75%   -3.443290e-02  \n",
       "max    2.904200e+01  \n",
       "\n",
       "[8 rows x 42 columns]"
      ]
     },
     "execution_count": 9,
     "metadata": {},
     "output_type": "execute_result"
    }
   ],
   "source": [
    "# After preprocess, features will be closer to form of Gaussian distribution\n",
    "processed = PowerTransformer(method=\"yeo-johnson\").fit(train_features).transform(train_features)\n",
    "pd.DataFrame(processed).describe()"
   ]
  },
  {
   "cell_type": "markdown",
   "id": "a2497ba562582831",
   "metadata": {
    "collapsed": false,
    "jupyter": {
     "outputs_hidden": false
    }
   },
   "source": [
    "# **Learning**"
   ]
  },
  {
   "cell_type": "markdown",
   "id": "bae3358f5b10e9c9",
   "metadata": {
    "collapsed": false,
    "jupyter": {
     "outputs_hidden": false
    }
   },
   "source": [
    "We try few models, and for each one we try different hyperparameters using grid search. Finally we use accuracy score metric to evaluate the model, and also show the confusion matrix"
   ]
  },
  {
   "cell_type": "code",
   "execution_count": 10,
   "id": "9f3d6100aea68a6c",
   "metadata": {
    "ExecuteTime": {
     "end_time": "2024-06-20T16:00:07.682697Z",
     "start_time": "2024-06-20T15:58:56.361400Z"
    },
    "collapsed": false,
    "jupyter": {
     "outputs_hidden": false
    }
   },
   "outputs": [
    {
     "name": "stdout",
     "output_type": "stream",
     "text": [
      "Fitting 5 folds for each of 9 candidates, totalling 45 fits\n",
      "[CV 1/5] END classifier__learning_rate=0.2, classifier__n_estimators=50;, score=0.796 total time=   4.5s\n",
      "[CV 2/5] END classifier__learning_rate=0.2, classifier__n_estimators=50;, score=0.800 total time=   2.5s\n",
      "[CV 3/5] END classifier__learning_rate=0.2, classifier__n_estimators=50;, score=0.792 total time=   2.5s\n",
      "[CV 4/5] END classifier__learning_rate=0.2, classifier__n_estimators=50;, score=0.791 total time=   2.7s\n",
      "[CV 5/5] END classifier__learning_rate=0.2, classifier__n_estimators=50;, score=0.800 total time=   2.4s\n",
      "[CV 1/5] END classifier__learning_rate=0.2, classifier__n_estimators=100;, score=0.812 total time=   1.6s\n",
      "[CV 2/5] END classifier__learning_rate=0.2, classifier__n_estimators=100;, score=0.815 total time=   0.9s\n",
      "[CV 3/5] END classifier__learning_rate=0.2, classifier__n_estimators=100;, score=0.811 total time=   0.8s\n",
      "[CV 4/5] END classifier__learning_rate=0.2, classifier__n_estimators=100;, score=0.809 total time=   1.1s\n",
      "[CV 5/5] END classifier__learning_rate=0.2, classifier__n_estimators=100;, score=0.821 total time=   1.0s\n",
      "[CV 1/5] END classifier__learning_rate=0.2, classifier__n_estimators=200;, score=0.824 total time=   1.3s\n",
      "[CV 2/5] END classifier__learning_rate=0.2, classifier__n_estimators=200;, score=0.829 total time=   1.3s\n",
      "[CV 3/5] END classifier__learning_rate=0.2, classifier__n_estimators=200;, score=0.826 total time=   4.1s\n",
      "[CV 4/5] END classifier__learning_rate=0.2, classifier__n_estimators=200;, score=0.824 total time=   4.0s\n",
      "[CV 5/5] END classifier__learning_rate=0.2, classifier__n_estimators=200;, score=0.830 total time=   3.9s\n",
      "[CV 1/5] END classifier__learning_rate=0.3, classifier__n_estimators=50;, score=0.807 total time=   2.4s\n",
      "[CV 2/5] END classifier__learning_rate=0.3, classifier__n_estimators=50;, score=0.811 total time=   2.3s\n",
      "[CV 3/5] END classifier__learning_rate=0.3, classifier__n_estimators=50;, score=0.803 total time=   2.3s\n",
      "[CV 4/5] END classifier__learning_rate=0.3, classifier__n_estimators=50;, score=0.808 total time=   2.4s\n",
      "[CV 5/5] END classifier__learning_rate=0.3, classifier__n_estimators=50;, score=0.811 total time=   2.3s\n",
      "[CV 1/5] END classifier__learning_rate=0.3, classifier__n_estimators=100;, score=0.820 total time=   2.9s\n",
      "[CV 2/5] END classifier__learning_rate=0.3, classifier__n_estimators=100;, score=0.826 total time=   3.1s\n",
      "[CV 3/5] END classifier__learning_rate=0.3, classifier__n_estimators=100;, score=0.818 total time=   2.8s\n",
      "[CV 4/5] END classifier__learning_rate=0.3, classifier__n_estimators=100;, score=0.824 total time=   3.0s\n",
      "[CV 5/5] END classifier__learning_rate=0.3, classifier__n_estimators=100;, score=0.825 total time=   2.9s\n",
      "[CV 1/5] END classifier__learning_rate=0.3, classifier__n_estimators=200;, score=0.829 total time=   4.0s\n",
      "[CV 2/5] END classifier__learning_rate=0.3, classifier__n_estimators=200;, score=0.836 total time=   3.9s\n",
      "[CV 3/5] END classifier__learning_rate=0.3, classifier__n_estimators=200;, score=0.829 total time=   3.8s\n",
      "[CV 4/5] END classifier__learning_rate=0.3, classifier__n_estimators=200;, score=0.836 total time=   4.0s\n",
      "[CV 5/5] END classifier__learning_rate=0.3, classifier__n_estimators=200;, score=0.835 total time=   4.0s\n",
      "[CV 1/5] END classifier__learning_rate=0.4, classifier__n_estimators=50;, score=0.813 total time=   2.3s\n",
      "[CV 2/5] END classifier__learning_rate=0.4, classifier__n_estimators=50;, score=0.816 total time=   2.4s\n",
      "[CV 3/5] END classifier__learning_rate=0.4, classifier__n_estimators=50;, score=0.812 total time=   2.5s\n",
      "[CV 4/5] END classifier__learning_rate=0.4, classifier__n_estimators=50;, score=0.812 total time=   2.5s\n",
      "[CV 5/5] END classifier__learning_rate=0.4, classifier__n_estimators=50;, score=0.820 total time=   2.6s\n",
      "[CV 1/5] END classifier__learning_rate=0.4, classifier__n_estimators=100;, score=0.825 total time=   3.1s\n",
      "[CV 2/5] END classifier__learning_rate=0.4, classifier__n_estimators=100;, score=0.833 total time=   3.0s\n",
      "[CV 3/5] END classifier__learning_rate=0.4, classifier__n_estimators=100;, score=0.827 total time=   2.9s\n",
      "[CV 4/5] END classifier__learning_rate=0.4, classifier__n_estimators=100;, score=0.827 total time=   3.1s\n",
      "[CV 5/5] END classifier__learning_rate=0.4, classifier__n_estimators=100;, score=0.829 total time=   3.1s\n",
      "[CV 1/5] END classifier__learning_rate=0.4, classifier__n_estimators=200;, score=0.833 total time=   4.1s\n",
      "[CV 2/5] END classifier__learning_rate=0.4, classifier__n_estimators=200;, score=0.839 total time=   4.1s\n",
      "[CV 3/5] END classifier__learning_rate=0.4, classifier__n_estimators=200;, score=0.836 total time=   4.0s\n",
      "[CV 4/5] END classifier__learning_rate=0.4, classifier__n_estimators=200;, score=0.835 total time=   4.2s\n",
      "[CV 5/5] END classifier__learning_rate=0.4, classifier__n_estimators=200;, score=0.838 total time=   4.1s\n",
      "Pipeline(steps=[('scalar', PowerTransformer()),\n",
      "                ('classifier',\n",
      "                 XGBClassifier(base_score=None, booster=None, callbacks=None,\n",
      "                               colsample_bylevel=None, colsample_bynode=None,\n",
      "                               colsample_bytree=None, device=None,\n",
      "                               early_stopping_rounds=None,\n",
      "                               enable_categorical=False, eval_metric=None,\n",
      "                               feature_types=None, gamma=None, grow_policy=None,\n",
      "                               importance_type=None,\n",
      "                               interaction_constraints=None, learning_rate=0.4,\n",
      "                               max_bin=None, max_cat_threshold=None,\n",
      "                               max_cat_to_onehot=None, max_delta_step=None,\n",
      "                               max_depth=None, max_leaves=None,\n",
      "                               min_child_weight=None, missing=nan,\n",
      "                               monotone_constraints=None, multi_strategy=None,\n",
      "                               n_estimators=200, n_jobs=None, num_class=3,\n",
      "                               num_parallel_tree=None, ...))])\n",
      "Accuracy: 0.8442865600947306\n"
     ]
    },
    {
     "data": {
      "text/plain": [
       "array([[ 340,  359,  571],\n",
       "       [ 149, 2690,  534],\n",
       "       [ 151,  340, 8378]], dtype=int64)"
      ]
     },
     "execution_count": 10,
     "metadata": {},
     "output_type": "execute_result"
    }
   ],
   "source": [
    "# Check XG Boost\n",
    "# We try various learning rates and estimators\n",
    "pipe = Pipeline(steps=[('scalar', PowerTransformer(method='yeo-johnson')), ('classifier', xgb.XGBClassifier(objective='multi:softmax', num_class=3))])\n",
    "xg_param_space = [{'classifier__learning_rate': [0.2, 0.3, 0.4],\n",
    "                 'classifier__n_estimators': [50, 100, 200]}]\n",
    "xg_clf = GridSearchCV(pipe, xg_param_space, verbose=5)\n",
    "xg_clf.fit(train_features, train_labels)\n",
    "y_pred = xg_clf.predict(dev_features)\n",
    "print(xg_clf.best_estimator_)\n",
    "print(\"Accuracy:\", metrics.accuracy_score(dev_labels, y_pred))\n",
    "confusion_matrix(y_true=dev_labels, y_pred=y_pred, labels=[0,1,2])"
   ]
  },
  {
   "cell_type": "code",
   "execution_count": 11,
   "id": "444765abbbe3f180",
   "metadata": {
    "ExecuteTime": {
     "start_time": "2024-06-20T16:00:07.683728Z"
    },
    "collapsed": false,
    "is_executing": true,
    "jupyter": {
     "outputs_hidden": false
    }
   },
   "outputs": [
    {
     "name": "stdout",
     "output_type": "stream",
     "text": [
      "Fitting 5 folds for each of 27 candidates, totalling 135 fits\n",
      "[CV 1/5] END classifier__max_depth=None, classifier__min_samples_split=2, classifier__n_estimators=100;, score=0.790 total time=   8.3s\n",
      "[CV 2/5] END classifier__max_depth=None, classifier__min_samples_split=2, classifier__n_estimators=100;, score=0.797 total time=   7.7s\n",
      "[CV 3/5] END classifier__max_depth=None, classifier__min_samples_split=2, classifier__n_estimators=100;, score=0.790 total time=   7.6s\n",
      "[CV 4/5] END classifier__max_depth=None, classifier__min_samples_split=2, classifier__n_estimators=100;, score=0.791 total time=   7.8s\n",
      "[CV 5/5] END classifier__max_depth=None, classifier__min_samples_split=2, classifier__n_estimators=100;, score=0.794 total time=   7.5s\n",
      "[CV 1/5] END classifier__max_depth=None, classifier__min_samples_split=2, classifier__n_estimators=250;, score=0.794 total time=  16.5s\n",
      "[CV 2/5] END classifier__max_depth=None, classifier__min_samples_split=2, classifier__n_estimators=250;, score=0.798 total time=  17.2s\n",
      "[CV 3/5] END classifier__max_depth=None, classifier__min_samples_split=2, classifier__n_estimators=250;, score=0.792 total time=  18.4s\n",
      "[CV 4/5] END classifier__max_depth=None, classifier__min_samples_split=2, classifier__n_estimators=250;, score=0.794 total time=  17.6s\n",
      "[CV 5/5] END classifier__max_depth=None, classifier__min_samples_split=2, classifier__n_estimators=250;, score=0.794 total time=  17.4s\n",
      "[CV 1/5] END classifier__max_depth=None, classifier__min_samples_split=2, classifier__n_estimators=400;, score=0.792 total time=  25.1s\n",
      "[CV 2/5] END classifier__max_depth=None, classifier__min_samples_split=2, classifier__n_estimators=400;, score=0.798 total time=  24.6s\n",
      "[CV 3/5] END classifier__max_depth=None, classifier__min_samples_split=2, classifier__n_estimators=400;, score=0.792 total time=  25.9s\n",
      "[CV 4/5] END classifier__max_depth=None, classifier__min_samples_split=2, classifier__n_estimators=400;, score=0.791 total time=360.5min\n",
      "[CV 5/5] END classifier__max_depth=None, classifier__min_samples_split=2, classifier__n_estimators=400;, score=0.795 total time=  21.5s\n",
      "[CV 1/5] END classifier__max_depth=None, classifier__min_samples_split=3, classifier__n_estimators=100;, score=0.788 total time=   6.5s\n",
      "[CV 2/5] END classifier__max_depth=None, classifier__min_samples_split=3, classifier__n_estimators=100;, score=0.795 total time=   6.3s\n",
      "[CV 3/5] END classifier__max_depth=None, classifier__min_samples_split=3, classifier__n_estimators=100;, score=0.792 total time=   6.3s\n",
      "[CV 4/5] END classifier__max_depth=None, classifier__min_samples_split=3, classifier__n_estimators=100;, score=0.791 total time=   6.2s\n",
      "[CV 5/5] END classifier__max_depth=None, classifier__min_samples_split=3, classifier__n_estimators=100;, score=0.793 total time=   6.4s\n",
      "[CV 1/5] END classifier__max_depth=None, classifier__min_samples_split=3, classifier__n_estimators=250;, score=0.793 total time=  13.4s\n",
      "[CV 2/5] END classifier__max_depth=None, classifier__min_samples_split=3, classifier__n_estimators=250;, score=0.800 total time=  14.0s\n",
      "[CV 3/5] END classifier__max_depth=None, classifier__min_samples_split=3, classifier__n_estimators=250;, score=0.791 total time=  13.2s\n",
      "[CV 4/5] END classifier__max_depth=None, classifier__min_samples_split=3, classifier__n_estimators=250;, score=0.795 total time=  13.4s\n",
      "[CV 5/5] END classifier__max_depth=None, classifier__min_samples_split=3, classifier__n_estimators=250;, score=0.797 total time=  13.7s\n",
      "[CV 1/5] END classifier__max_depth=None, classifier__min_samples_split=3, classifier__n_estimators=400;, score=0.794 total time=  20.2s\n",
      "[CV 2/5] END classifier__max_depth=None, classifier__min_samples_split=3, classifier__n_estimators=400;, score=0.798 total time=  20.8s\n",
      "[CV 3/5] END classifier__max_depth=None, classifier__min_samples_split=3, classifier__n_estimators=400;, score=0.792 total time=  21.3s\n",
      "[CV 4/5] END classifier__max_depth=None, classifier__min_samples_split=3, classifier__n_estimators=400;, score=0.793 total time=  21.3s\n",
      "[CV 5/5] END classifier__max_depth=None, classifier__min_samples_split=3, classifier__n_estimators=400;, score=0.795 total time=  21.5s\n",
      "[CV 1/5] END classifier__max_depth=None, classifier__min_samples_split=4, classifier__n_estimators=100;, score=0.790 total time=   6.5s\n",
      "[CV 2/5] END classifier__max_depth=None, classifier__min_samples_split=4, classifier__n_estimators=100;, score=0.794 total time=   5.8s\n",
      "[CV 3/5] END classifier__max_depth=None, classifier__min_samples_split=4, classifier__n_estimators=100;, score=0.787 total time=   5.7s\n",
      "[CV 4/5] END classifier__max_depth=None, classifier__min_samples_split=4, classifier__n_estimators=100;, score=0.791 total time=   5.9s\n",
      "[CV 5/5] END classifier__max_depth=None, classifier__min_samples_split=4, classifier__n_estimators=100;, score=0.793 total time=   5.8s\n",
      "[CV 1/5] END classifier__max_depth=None, classifier__min_samples_split=4, classifier__n_estimators=250;, score=0.796 total time=  12.1s\n",
      "[CV 2/5] END classifier__max_depth=None, classifier__min_samples_split=4, classifier__n_estimators=250;, score=0.797 total time=  12.1s\n",
      "[CV 3/5] END classifier__max_depth=None, classifier__min_samples_split=4, classifier__n_estimators=250;, score=0.792 total time=  12.1s\n",
      "[CV 4/5] END classifier__max_depth=None, classifier__min_samples_split=4, classifier__n_estimators=250;, score=0.793 total time=  12.3s\n",
      "[CV 5/5] END classifier__max_depth=None, classifier__min_samples_split=4, classifier__n_estimators=250;, score=0.795 total time=386.4min\n",
      "[CV 1/5] END classifier__max_depth=None, classifier__min_samples_split=4, classifier__n_estimators=400;, score=0.795 total time=  18.5s\n",
      "[CV 2/5] END classifier__max_depth=None, classifier__min_samples_split=4, classifier__n_estimators=400;, score=0.796 total time=   8.7s\n",
      "[CV 3/5] END classifier__max_depth=None, classifier__min_samples_split=4, classifier__n_estimators=400;, score=0.792 total time=  21.2s\n",
      "[CV 4/5] END classifier__max_depth=None, classifier__min_samples_split=4, classifier__n_estimators=400;, score=0.793 total time=  20.9s\n",
      "[CV 5/5] END classifier__max_depth=None, classifier__min_samples_split=4, classifier__n_estimators=400;, score=0.795 total time=  14.3s\n",
      "[CV 1/5] END classifier__max_depth=30, classifier__min_samples_split=2, classifier__n_estimators=100;, score=0.792 total time=   3.0s\n",
      "[CV 2/5] END classifier__max_depth=30, classifier__min_samples_split=2, classifier__n_estimators=100;, score=0.795 total time=   2.9s\n",
      "[CV 3/5] END classifier__max_depth=30, classifier__min_samples_split=2, classifier__n_estimators=100;, score=0.790 total time=   3.0s\n",
      "[CV 4/5] END classifier__max_depth=30, classifier__min_samples_split=2, classifier__n_estimators=100;, score=0.794 total time=   2.9s\n",
      "[CV 5/5] END classifier__max_depth=30, classifier__min_samples_split=2, classifier__n_estimators=100;, score=0.794 total time=   3.0s\n",
      "[CV 1/5] END classifier__max_depth=30, classifier__min_samples_split=2, classifier__n_estimators=250;, score=0.786 total time=   6.5s\n",
      "[CV 2/5] END classifier__max_depth=30, classifier__min_samples_split=2, classifier__n_estimators=250;, score=0.796 total time=   7.0s\n",
      "[CV 3/5] END classifier__max_depth=30, classifier__min_samples_split=2, classifier__n_estimators=250;, score=0.791 total time=   7.6s\n",
      "[CV 4/5] END classifier__max_depth=30, classifier__min_samples_split=2, classifier__n_estimators=250;, score=0.796 total time=   7.1s\n",
      "[CV 5/5] END classifier__max_depth=30, classifier__min_samples_split=2, classifier__n_estimators=250;, score=0.797 total time=   6.8s\n",
      "[CV 1/5] END classifier__max_depth=30, classifier__min_samples_split=2, classifier__n_estimators=400;, score=0.790 total time=  10.8s\n",
      "[CV 2/5] END classifier__max_depth=30, classifier__min_samples_split=2, classifier__n_estimators=400;, score=0.800 total time=  10.9s\n",
      "[CV 3/5] END classifier__max_depth=30, classifier__min_samples_split=2, classifier__n_estimators=400;, score=0.790 total time=  10.4s\n",
      "[CV 4/5] END classifier__max_depth=30, classifier__min_samples_split=2, classifier__n_estimators=400;, score=0.792 total time=  10.0s\n",
      "[CV 5/5] END classifier__max_depth=30, classifier__min_samples_split=2, classifier__n_estimators=400;, score=0.796 total time=  10.2s\n",
      "[CV 1/5] END classifier__max_depth=30, classifier__min_samples_split=3, classifier__n_estimators=100;, score=0.790 total time=   2.8s\n",
      "[CV 2/5] END classifier__max_depth=30, classifier__min_samples_split=3, classifier__n_estimators=100;, score=0.794 total time=   2.6s\n",
      "[CV 3/5] END classifier__max_depth=30, classifier__min_samples_split=3, classifier__n_estimators=100;, score=0.792 total time=   2.9s\n",
      "[CV 4/5] END classifier__max_depth=30, classifier__min_samples_split=3, classifier__n_estimators=100;, score=0.791 total time=   2.6s\n",
      "[CV 5/5] END classifier__max_depth=30, classifier__min_samples_split=3, classifier__n_estimators=100;, score=0.791 total time=   2.8s\n",
      "[CV 1/5] END classifier__max_depth=30, classifier__min_samples_split=3, classifier__n_estimators=250;, score=0.792 total time=   5.9s\n",
      "[CV 2/5] END classifier__max_depth=30, classifier__min_samples_split=3, classifier__n_estimators=250;, score=0.797 total time=   6.8s\n",
      "[CV 3/5] END classifier__max_depth=30, classifier__min_samples_split=3, classifier__n_estimators=250;, score=0.791 total time=   5.9s\n",
      "[CV 4/5] END classifier__max_depth=30, classifier__min_samples_split=3, classifier__n_estimators=250;, score=0.791 total time=   5.9s\n",
      "[CV 5/5] END classifier__max_depth=30, classifier__min_samples_split=3, classifier__n_estimators=250;, score=0.796 total time=   6.4s\n",
      "[CV 1/5] END classifier__max_depth=30, classifier__min_samples_split=3, classifier__n_estimators=400;, score=0.793 total time=  17.4s\n",
      "[CV 2/5] END classifier__max_depth=30, classifier__min_samples_split=3, classifier__n_estimators=400;, score=0.798 total time=  27.8s\n",
      "[CV 3/5] END classifier__max_depth=30, classifier__min_samples_split=3, classifier__n_estimators=400;, score=0.790 total time=  25.1s\n",
      "[CV 4/5] END classifier__max_depth=30, classifier__min_samples_split=3, classifier__n_estimators=400;, score=0.793 total time=  22.0s\n",
      "[CV 5/5] END classifier__max_depth=30, classifier__min_samples_split=3, classifier__n_estimators=400;, score=0.796 total time=  23.2s\n",
      "[CV 1/5] END classifier__max_depth=30, classifier__min_samples_split=4, classifier__n_estimators=100;, score=0.793 total time=   7.5s\n",
      "[CV 2/5] END classifier__max_depth=30, classifier__min_samples_split=4, classifier__n_estimators=100;, score=0.794 total time=   7.0s\n",
      "[CV 3/5] END classifier__max_depth=30, classifier__min_samples_split=4, classifier__n_estimators=100;, score=0.790 total time=   7.4s\n",
      "[CV 4/5] END classifier__max_depth=30, classifier__min_samples_split=4, classifier__n_estimators=100;, score=0.792 total time=   7.6s\n",
      "[CV 5/5] END classifier__max_depth=30, classifier__min_samples_split=4, classifier__n_estimators=100;, score=0.792 total time=   7.6s\n",
      "[CV 1/5] END classifier__max_depth=30, classifier__min_samples_split=4, classifier__n_estimators=250;, score=0.791 total time=  14.8s\n",
      "[CV 2/5] END classifier__max_depth=30, classifier__min_samples_split=4, classifier__n_estimators=250;, score=0.794 total time=  14.5s\n",
      "[CV 3/5] END classifier__max_depth=30, classifier__min_samples_split=4, classifier__n_estimators=250;, score=0.793 total time=  14.2s\n",
      "[CV 4/5] END classifier__max_depth=30, classifier__min_samples_split=4, classifier__n_estimators=250;, score=0.792 total time=  13.4s\n",
      "[CV 5/5] END classifier__max_depth=30, classifier__min_samples_split=4, classifier__n_estimators=250;, score=0.792 total time=  15.3s\n",
      "[CV 1/5] END classifier__max_depth=30, classifier__min_samples_split=4, classifier__n_estimators=400;, score=0.793 total time=  24.0s\n",
      "[CV 2/5] END classifier__max_depth=30, classifier__min_samples_split=4, classifier__n_estimators=400;, score=0.798 total time=  21.5s\n",
      "[CV 3/5] END classifier__max_depth=30, classifier__min_samples_split=4, classifier__n_estimators=400;, score=0.793 total time=  21.4s\n",
      "[CV 4/5] END classifier__max_depth=30, classifier__min_samples_split=4, classifier__n_estimators=400;, score=0.792 total time=  18.8s\n",
      "[CV 5/5] END classifier__max_depth=30, classifier__min_samples_split=4, classifier__n_estimators=400;, score=0.795 total time=  19.7s\n",
      "[CV 1/5] END classifier__max_depth=50, classifier__min_samples_split=2, classifier__n_estimators=100;, score=0.793 total time=   7.1s\n",
      "[CV 2/5] END classifier__max_depth=50, classifier__min_samples_split=2, classifier__n_estimators=100;, score=0.795 total time=   7.6s\n",
      "[CV 3/5] END classifier__max_depth=50, classifier__min_samples_split=2, classifier__n_estimators=100;, score=0.790 total time=   7.8s\n",
      "[CV 4/5] END classifier__max_depth=50, classifier__min_samples_split=2, classifier__n_estimators=100;, score=0.791 total time=   8.4s\n",
      "[CV 5/5] END classifier__max_depth=50, classifier__min_samples_split=2, classifier__n_estimators=100;, score=0.791 total time=   8.0s\n",
      "[CV 1/5] END classifier__max_depth=50, classifier__min_samples_split=2, classifier__n_estimators=250;, score=0.792 total time=  16.9s\n",
      "[CV 2/5] END classifier__max_depth=50, classifier__min_samples_split=2, classifier__n_estimators=250;, score=0.797 total time=  16.6s\n",
      "[CV 3/5] END classifier__max_depth=50, classifier__min_samples_split=2, classifier__n_estimators=250;, score=0.794 total time=  15.2s\n",
      "[CV 4/5] END classifier__max_depth=50, classifier__min_samples_split=2, classifier__n_estimators=250;, score=0.793 total time=  16.2s\n",
      "[CV 5/5] END classifier__max_depth=50, classifier__min_samples_split=2, classifier__n_estimators=250;, score=0.797 total time=  15.8s\n",
      "[CV 1/5] END classifier__max_depth=50, classifier__min_samples_split=2, classifier__n_estimators=400;, score=0.794 total time=  24.7s\n",
      "[CV 2/5] END classifier__max_depth=50, classifier__min_samples_split=2, classifier__n_estimators=400;, score=0.799 total time=  26.0s\n",
      "[CV 3/5] END classifier__max_depth=50, classifier__min_samples_split=2, classifier__n_estimators=400;, score=0.793 total time=  25.1s\n",
      "[CV 4/5] END classifier__max_depth=50, classifier__min_samples_split=2, classifier__n_estimators=400;, score=0.793 total time=  23.8s\n",
      "[CV 5/5] END classifier__max_depth=50, classifier__min_samples_split=2, classifier__n_estimators=400;, score=0.797 total time=  23.8s\n",
      "[CV 1/5] END classifier__max_depth=50, classifier__min_samples_split=3, classifier__n_estimators=100;, score=0.792 total time=   7.3s\n",
      "[CV 2/5] END classifier__max_depth=50, classifier__min_samples_split=3, classifier__n_estimators=100;, score=0.796 total time=   7.1s\n",
      "[CV 3/5] END classifier__max_depth=50, classifier__min_samples_split=3, classifier__n_estimators=100;, score=0.789 total time=   7.3s\n",
      "[CV 4/5] END classifier__max_depth=50, classifier__min_samples_split=3, classifier__n_estimators=100;, score=0.788 total time=   7.4s\n",
      "[CV 5/5] END classifier__max_depth=50, classifier__min_samples_split=3, classifier__n_estimators=100;, score=0.796 total time=   7.5s\n",
      "[CV 1/5] END classifier__max_depth=50, classifier__min_samples_split=3, classifier__n_estimators=250;, score=0.792 total time=  15.5s\n",
      "[CV 2/5] END classifier__max_depth=50, classifier__min_samples_split=3, classifier__n_estimators=250;, score=0.798 total time=  15.5s\n",
      "[CV 3/5] END classifier__max_depth=50, classifier__min_samples_split=3, classifier__n_estimators=250;, score=0.791 total time=  14.2s\n",
      "[CV 4/5] END classifier__max_depth=50, classifier__min_samples_split=3, classifier__n_estimators=250;, score=0.792 total time=  14.3s\n",
      "[CV 5/5] END classifier__max_depth=50, classifier__min_samples_split=3, classifier__n_estimators=250;, score=0.793 total time=  14.8s\n",
      "[CV 1/5] END classifier__max_depth=50, classifier__min_samples_split=3, classifier__n_estimators=400;, score=0.793 total time=  23.2s\n",
      "[CV 2/5] END classifier__max_depth=50, classifier__min_samples_split=3, classifier__n_estimators=400;, score=0.798 total time=  24.8s\n",
      "[CV 3/5] END classifier__max_depth=50, classifier__min_samples_split=3, classifier__n_estimators=400;, score=0.792 total time=  24.8s\n",
      "[CV 4/5] END classifier__max_depth=50, classifier__min_samples_split=3, classifier__n_estimators=400;, score=0.791 total time=  23.5s\n",
      "[CV 5/5] END classifier__max_depth=50, classifier__min_samples_split=3, classifier__n_estimators=400;, score=0.798 total time=  23.2s\n",
      "[CV 1/5] END classifier__max_depth=50, classifier__min_samples_split=4, classifier__n_estimators=100;, score=0.792 total time=   6.5s\n",
      "[CV 2/5] END classifier__max_depth=50, classifier__min_samples_split=4, classifier__n_estimators=100;, score=0.796 total time=   6.2s\n",
      "[CV 3/5] END classifier__max_depth=50, classifier__min_samples_split=4, classifier__n_estimators=100;, score=0.791 total time=   6.5s\n",
      "[CV 4/5] END classifier__max_depth=50, classifier__min_samples_split=4, classifier__n_estimators=100;, score=0.790 total time=   6.5s\n",
      "[CV 5/5] END classifier__max_depth=50, classifier__min_samples_split=4, classifier__n_estimators=100;, score=0.790 total time=   6.7s\n",
      "[CV 1/5] END classifier__max_depth=50, classifier__min_samples_split=4, classifier__n_estimators=250;, score=0.794 total time=  13.7s\n",
      "[CV 2/5] END classifier__max_depth=50, classifier__min_samples_split=4, classifier__n_estimators=250;, score=0.795 total time=  14.6s\n",
      "[CV 3/5] END classifier__max_depth=50, classifier__min_samples_split=4, classifier__n_estimators=250;, score=0.791 total time=  15.0s\n",
      "[CV 4/5] END classifier__max_depth=50, classifier__min_samples_split=4, classifier__n_estimators=250;, score=0.791 total time=  13.4s\n",
      "[CV 5/5] END classifier__max_depth=50, classifier__min_samples_split=4, classifier__n_estimators=250;, score=0.797 total time=  13.8s\n",
      "[CV 1/5] END classifier__max_depth=50, classifier__min_samples_split=4, classifier__n_estimators=400;, score=0.794 total time=  19.9s\n",
      "[CV 2/5] END classifier__max_depth=50, classifier__min_samples_split=4, classifier__n_estimators=400;, score=0.796 total time=  21.6s\n",
      "[CV 3/5] END classifier__max_depth=50, classifier__min_samples_split=4, classifier__n_estimators=400;, score=0.791 total time=  22.1s\n",
      "[CV 4/5] END classifier__max_depth=50, classifier__min_samples_split=4, classifier__n_estimators=400;, score=0.793 total time=  22.0s\n",
      "[CV 5/5] END classifier__max_depth=50, classifier__min_samples_split=4, classifier__n_estimators=400;, score=0.795 total time=  21.2s\n",
      "Pipeline(steps=[('scalar', PowerTransformer()),\n",
      "                ('classifier',\n",
      "                 RandomForestClassifier(min_samples_split=3,\n",
      "                                        n_estimators=250))])\n",
      "Accuracy: 0.7997335701598579\n"
     ]
    },
    {
     "data": {
      "text/plain": [
       "array([[ 106,  322,  842],\n",
       "       [  65, 2204, 1104],\n",
       "       [  59,  314, 8496]], dtype=int64)"
      ]
     },
     "execution_count": 11,
     "metadata": {},
     "output_type": "execute_result"
    }
   ],
   "source": [
    "# Check Random Forest\n",
    "# We try various depth and minimal split parameters\n",
    "pipe = Pipeline(steps=[('scalar', PowerTransformer(method='yeo-johnson')), ('classifier', RandomForestClassifier())])\n",
    "forest_param_space = [{'classifier__n_estimators': [100, 250, 400],\n",
    "                 'classifier__max_depth': [None, 30, 50],\n",
    "                 'classifier__min_samples_split': [2, 3, 4]}]\n",
    "rf_clf = GridSearchCV(pipe, forest_param_space, verbose=5)\n",
    "rf_clf.fit(train_features, train_labels)\n",
    "y_pred = rf_clf.predict(dev_features)\n",
    "print(rf_clf.best_estimator_)\n",
    "print(\"Accuracy:\", metrics.accuracy_score(dev_labels, y_pred))\n",
    "confusion_matrix(y_true=dev_labels, y_pred=y_pred, labels=[0,1,2])"
   ]
  },
  {
   "cell_type": "code",
   "execution_count": 12,
   "id": "f165aaf67b29d55a",
   "metadata": {
    "collapsed": false,
    "is_executing": true,
    "jupyter": {
     "outputs_hidden": false
    }
   },
   "outputs": [
    {
     "name": "stdout",
     "output_type": "stream",
     "text": [
      "Fitting 5 folds for each of 24 candidates, totalling 120 fits\n",
      "[CV 1/5] END classifier__learning_rate=0.2, classifier__max_depth=2, classifier__min_samples_split=2, classifier__n_estimators=100;, score=0.745 total time=  12.8s\n",
      "[CV 2/5] END classifier__learning_rate=0.2, classifier__max_depth=2, classifier__min_samples_split=2, classifier__n_estimators=100;, score=0.743 total time=  12.8s\n",
      "[CV 3/5] END classifier__learning_rate=0.2, classifier__max_depth=2, classifier__min_samples_split=2, classifier__n_estimators=100;, score=0.739 total time=39.4min\n",
      "[CV 4/5] END classifier__learning_rate=0.2, classifier__max_depth=2, classifier__min_samples_split=2, classifier__n_estimators=100;, score=0.738 total time=  12.9s\n",
      "[CV 5/5] END classifier__learning_rate=0.2, classifier__max_depth=2, classifier__min_samples_split=2, classifier__n_estimators=100;, score=0.739 total time=  13.2s\n",
      "[CV 1/5] END classifier__learning_rate=0.2, classifier__max_depth=2, classifier__min_samples_split=2, classifier__n_estimators=250;, score=0.767 total time=  32.4s\n",
      "[CV 2/5] END classifier__learning_rate=0.2, classifier__max_depth=2, classifier__min_samples_split=2, classifier__n_estimators=250;, score=0.767 total time=  33.1s\n",
      "[CV 3/5] END classifier__learning_rate=0.2, classifier__max_depth=2, classifier__min_samples_split=2, classifier__n_estimators=250;, score=0.760 total time=  30.9s\n",
      "[CV 4/5] END classifier__learning_rate=0.2, classifier__max_depth=2, classifier__min_samples_split=2, classifier__n_estimators=250;, score=0.758 total time=  33.0s\n",
      "[CV 5/5] END classifier__learning_rate=0.2, classifier__max_depth=2, classifier__min_samples_split=2, classifier__n_estimators=250;, score=0.765 total time=  31.5s\n",
      "[CV 1/5] END classifier__learning_rate=0.2, classifier__max_depth=2, classifier__min_samples_split=2, classifier__n_estimators=400;, score=0.775 total time=  50.9s\n",
      "[CV 2/5] END classifier__learning_rate=0.2, classifier__max_depth=2, classifier__min_samples_split=2, classifier__n_estimators=400;, score=0.777 total time=  48.4s\n",
      "[CV 3/5] END classifier__learning_rate=0.2, classifier__max_depth=2, classifier__min_samples_split=2, classifier__n_estimators=400;, score=0.766 total time=  54.6s\n",
      "[CV 4/5] END classifier__learning_rate=0.2, classifier__max_depth=2, classifier__min_samples_split=2, classifier__n_estimators=400;, score=0.766 total time=  48.3s\n",
      "[CV 5/5] END classifier__learning_rate=0.2, classifier__max_depth=2, classifier__min_samples_split=2, classifier__n_estimators=400;, score=0.772 total time=  47.3s\n",
      "[CV 1/5] END classifier__learning_rate=0.2, classifier__max_depth=2, classifier__min_samples_split=3, classifier__n_estimators=100;, score=0.745 total time=  13.3s\n",
      "[CV 2/5] END classifier__learning_rate=0.2, classifier__max_depth=2, classifier__min_samples_split=3, classifier__n_estimators=100;, score=0.743 total time=  12.7s\n",
      "[CV 3/5] END classifier__learning_rate=0.2, classifier__max_depth=2, classifier__min_samples_split=3, classifier__n_estimators=100;, score=0.739 total time=  12.2s\n",
      "[CV 4/5] END classifier__learning_rate=0.2, classifier__max_depth=2, classifier__min_samples_split=3, classifier__n_estimators=100;, score=0.738 total time=  12.4s\n",
      "[CV 5/5] END classifier__learning_rate=0.2, classifier__max_depth=2, classifier__min_samples_split=3, classifier__n_estimators=100;, score=0.739 total time=  12.6s\n",
      "[CV 1/5] END classifier__learning_rate=0.2, classifier__max_depth=2, classifier__min_samples_split=3, classifier__n_estimators=250;, score=0.767 total time=  30.3s\n",
      "[CV 2/5] END classifier__learning_rate=0.2, classifier__max_depth=2, classifier__min_samples_split=3, classifier__n_estimators=250;, score=0.767 total time=  33.0s\n",
      "[CV 3/5] END classifier__learning_rate=0.2, classifier__max_depth=2, classifier__min_samples_split=3, classifier__n_estimators=250;, score=0.760 total time=  29.2s\n",
      "[CV 4/5] END classifier__learning_rate=0.2, classifier__max_depth=2, classifier__min_samples_split=3, classifier__n_estimators=250;, score=0.758 total time=  28.5s\n",
      "[CV 5/5] END classifier__learning_rate=0.2, classifier__max_depth=2, classifier__min_samples_split=3, classifier__n_estimators=250;, score=0.765 total time=  30.6s\n",
      "[CV 1/5] END classifier__learning_rate=0.2, classifier__max_depth=2, classifier__min_samples_split=3, classifier__n_estimators=400;, score=0.775 total time=  48.0s\n",
      "[CV 2/5] END classifier__learning_rate=0.2, classifier__max_depth=2, classifier__min_samples_split=3, classifier__n_estimators=400;, score=0.777 total time=  47.0s\n",
      "[CV 3/5] END classifier__learning_rate=0.2, classifier__max_depth=2, classifier__min_samples_split=3, classifier__n_estimators=400;, score=0.766 total time=  51.1s\n",
      "[CV 4/5] END classifier__learning_rate=0.2, classifier__max_depth=2, classifier__min_samples_split=3, classifier__n_estimators=400;, score=0.766 total time=  45.4s\n",
      "[CV 5/5] END classifier__learning_rate=0.2, classifier__max_depth=2, classifier__min_samples_split=3, classifier__n_estimators=400;, score=0.772 total time=  45.0s\n",
      "[CV 1/5] END classifier__learning_rate=0.2, classifier__max_depth=3, classifier__min_samples_split=2, classifier__n_estimators=100;, score=0.770 total time=  18.6s\n",
      "[CV 2/5] END classifier__learning_rate=0.2, classifier__max_depth=3, classifier__min_samples_split=2, classifier__n_estimators=100;, score=0.775 total time=  19.0s\n",
      "[CV 3/5] END classifier__learning_rate=0.2, classifier__max_depth=3, classifier__min_samples_split=2, classifier__n_estimators=100;, score=0.767 total time=  18.0s\n",
      "[CV 4/5] END classifier__learning_rate=0.2, classifier__max_depth=3, classifier__min_samples_split=2, classifier__n_estimators=100;, score=0.767 total time=  17.8s\n",
      "[CV 5/5] END classifier__learning_rate=0.2, classifier__max_depth=3, classifier__min_samples_split=2, classifier__n_estimators=100;, score=0.772 total time=  18.5s\n",
      "[CV 1/5] END classifier__learning_rate=0.2, classifier__max_depth=3, classifier__min_samples_split=2, classifier__n_estimators=250;, score=0.789 total time=  46.3s\n",
      "[CV 2/5] END classifier__learning_rate=0.2, classifier__max_depth=3, classifier__min_samples_split=2, classifier__n_estimators=250;, score=0.790 total time=  44.8s\n",
      "[CV 3/5] END classifier__learning_rate=0.2, classifier__max_depth=3, classifier__min_samples_split=2, classifier__n_estimators=250;, score=0.784 total time=  43.1s\n",
      "[CV 4/5] END classifier__learning_rate=0.2, classifier__max_depth=3, classifier__min_samples_split=2, classifier__n_estimators=250;, score=0.783 total time=  45.8s\n",
      "[CV 5/5] END classifier__learning_rate=0.2, classifier__max_depth=3, classifier__min_samples_split=2, classifier__n_estimators=250;, score=0.789 total time=  43.2s\n",
      "[CV 1/5] END classifier__learning_rate=0.2, classifier__max_depth=3, classifier__min_samples_split=2, classifier__n_estimators=400;, score=0.798 total time= 1.2min\n",
      "[CV 2/5] END classifier__learning_rate=0.2, classifier__max_depth=3, classifier__min_samples_split=2, classifier__n_estimators=400;, score=0.798 total time= 1.0min\n",
      "[CV 3/5] END classifier__learning_rate=0.2, classifier__max_depth=3, classifier__min_samples_split=2, classifier__n_estimators=400;, score=0.790 total time= 1.1min\n",
      "[CV 4/5] END classifier__learning_rate=0.2, classifier__max_depth=3, classifier__min_samples_split=2, classifier__n_estimators=400;, score=0.791 total time= 1.1min\n",
      "[CV 5/5] END classifier__learning_rate=0.2, classifier__max_depth=3, classifier__min_samples_split=2, classifier__n_estimators=400;, score=0.796 total time= 1.1min\n",
      "[CV 1/5] END classifier__learning_rate=0.2, classifier__max_depth=3, classifier__min_samples_split=3, classifier__n_estimators=100;, score=0.770 total time=  16.3s\n",
      "[CV 2/5] END classifier__learning_rate=0.2, classifier__max_depth=3, classifier__min_samples_split=3, classifier__n_estimators=100;, score=0.775 total time=  16.4s\n",
      "[CV 3/5] END classifier__learning_rate=0.2, classifier__max_depth=3, classifier__min_samples_split=3, classifier__n_estimators=100;, score=0.767 total time=  16.3s\n",
      "[CV 4/5] END classifier__learning_rate=0.2, classifier__max_depth=3, classifier__min_samples_split=3, classifier__n_estimators=100;, score=0.767 total time=  16.8s\n",
      "[CV 5/5] END classifier__learning_rate=0.2, classifier__max_depth=3, classifier__min_samples_split=3, classifier__n_estimators=100;, score=0.772 total time=  17.0s\n",
      "[CV 1/5] END classifier__learning_rate=0.2, classifier__max_depth=3, classifier__min_samples_split=3, classifier__n_estimators=250;, score=0.790 total time=  40.0s\n",
      "[CV 2/5] END classifier__learning_rate=0.2, classifier__max_depth=3, classifier__min_samples_split=3, classifier__n_estimators=250;, score=0.791 total time=  39.0s\n",
      "[CV 3/5] END classifier__learning_rate=0.2, classifier__max_depth=3, classifier__min_samples_split=3, classifier__n_estimators=250;, score=0.784 total time=  41.0s\n",
      "[CV 4/5] END classifier__learning_rate=0.2, classifier__max_depth=3, classifier__min_samples_split=3, classifier__n_estimators=250;, score=0.786 total time=  42.9s\n",
      "[CV 5/5] END classifier__learning_rate=0.2, classifier__max_depth=3, classifier__min_samples_split=3, classifier__n_estimators=250;, score=0.789 total time=  41.2s\n",
      "[CV 1/5] END classifier__learning_rate=0.2, classifier__max_depth=3, classifier__min_samples_split=3, classifier__n_estimators=400;, score=0.798 total time= 1.1min\n",
      "[CV 2/5] END classifier__learning_rate=0.2, classifier__max_depth=3, classifier__min_samples_split=3, classifier__n_estimators=400;, score=0.798 total time= 1.0min\n",
      "[CV 3/5] END classifier__learning_rate=0.2, classifier__max_depth=3, classifier__min_samples_split=3, classifier__n_estimators=400;, score=0.790 total time= 1.1min\n",
      "[CV 4/5] END classifier__learning_rate=0.2, classifier__max_depth=3, classifier__min_samples_split=3, classifier__n_estimators=400;, score=0.792 total time= 1.1min\n",
      "[CV 5/5] END classifier__learning_rate=0.2, classifier__max_depth=3, classifier__min_samples_split=3, classifier__n_estimators=400;, score=0.796 total time= 1.1min\n",
      "[CV 1/5] END classifier__learning_rate=0.3, classifier__max_depth=2, classifier__min_samples_split=2, classifier__n_estimators=100;, score=0.758 total time=  12.2s\n",
      "[CV 2/5] END classifier__learning_rate=0.3, classifier__max_depth=2, classifier__min_samples_split=2, classifier__n_estimators=100;, score=0.757 total time=  12.0s\n",
      "[CV 3/5] END classifier__learning_rate=0.3, classifier__max_depth=2, classifier__min_samples_split=2, classifier__n_estimators=100;, score=0.751 total time=  12.0s\n",
      "[CV 4/5] END classifier__learning_rate=0.3, classifier__max_depth=2, classifier__min_samples_split=2, classifier__n_estimators=100;, score=0.749 total time=  13.1s\n",
      "[CV 5/5] END classifier__learning_rate=0.3, classifier__max_depth=2, classifier__min_samples_split=2, classifier__n_estimators=100;, score=0.754 total time=116.1min\n",
      "[CV 1/5] END classifier__learning_rate=0.3, classifier__max_depth=2, classifier__min_samples_split=2, classifier__n_estimators=250;, score=0.774 total time=  30.5s\n",
      "[CV 2/5] END classifier__learning_rate=0.3, classifier__max_depth=2, classifier__min_samples_split=2, classifier__n_estimators=250;, score=0.775 total time=  32.2s\n",
      "[CV 3/5] END classifier__learning_rate=0.3, classifier__max_depth=2, classifier__min_samples_split=2, classifier__n_estimators=250;, score=0.766 total time=  28.9s\n",
      "[CV 4/5] END classifier__learning_rate=0.3, classifier__max_depth=2, classifier__min_samples_split=2, classifier__n_estimators=250;, score=0.764 total time=  32.4s\n",
      "[CV 5/5] END classifier__learning_rate=0.3, classifier__max_depth=2, classifier__min_samples_split=2, classifier__n_estimators=250;, score=0.773 total time=  31.7s\n",
      "[CV 1/5] END classifier__learning_rate=0.3, classifier__max_depth=2, classifier__min_samples_split=2, classifier__n_estimators=400;, score=0.781 total time=  47.1s\n",
      "[CV 2/5] END classifier__learning_rate=0.3, classifier__max_depth=2, classifier__min_samples_split=2, classifier__n_estimators=400;, score=0.784 total time=  49.0s\n",
      "[CV 3/5] END classifier__learning_rate=0.3, classifier__max_depth=2, classifier__min_samples_split=2, classifier__n_estimators=400;, score=0.772 total time=  50.3s\n",
      "[CV 4/5] END classifier__learning_rate=0.3, classifier__max_depth=2, classifier__min_samples_split=2, classifier__n_estimators=400;, score=0.771 total time=  47.7s\n",
      "[CV 5/5] END classifier__learning_rate=0.3, classifier__max_depth=2, classifier__min_samples_split=2, classifier__n_estimators=400;, score=0.779 total time=  50.9s\n",
      "[CV 1/5] END classifier__learning_rate=0.3, classifier__max_depth=2, classifier__min_samples_split=3, classifier__n_estimators=100;, score=0.758 total time=  13.4s\n",
      "[CV 2/5] END classifier__learning_rate=0.3, classifier__max_depth=2, classifier__min_samples_split=3, classifier__n_estimators=100;, score=0.757 total time=  12.3s\n",
      "[CV 3/5] END classifier__learning_rate=0.3, classifier__max_depth=2, classifier__min_samples_split=3, classifier__n_estimators=100;, score=0.751 total time=  11.8s\n",
      "[CV 4/5] END classifier__learning_rate=0.3, classifier__max_depth=2, classifier__min_samples_split=3, classifier__n_estimators=100;, score=0.749 total time=  13.7s\n",
      "[CV 5/5] END classifier__learning_rate=0.3, classifier__max_depth=2, classifier__min_samples_split=3, classifier__n_estimators=100;, score=0.754 total time=  13.8s\n",
      "[CV 1/5] END classifier__learning_rate=0.3, classifier__max_depth=2, classifier__min_samples_split=3, classifier__n_estimators=250;, score=0.774 total time=17.7min\n",
      "[CV 2/5] END classifier__learning_rate=0.3, classifier__max_depth=2, classifier__min_samples_split=3, classifier__n_estimators=250;, score=0.775 total time=  31.3s\n",
      "[CV 3/5] END classifier__learning_rate=0.3, classifier__max_depth=2, classifier__min_samples_split=3, classifier__n_estimators=250;, score=0.766 total time=  30.4s\n",
      "[CV 4/5] END classifier__learning_rate=0.3, classifier__max_depth=2, classifier__min_samples_split=3, classifier__n_estimators=250;, score=0.764 total time=  30.6s\n",
      "[CV 5/5] END classifier__learning_rate=0.3, classifier__max_depth=2, classifier__min_samples_split=3, classifier__n_estimators=250;, score=0.773 total time=  30.0s\n",
      "[CV 1/5] END classifier__learning_rate=0.3, classifier__max_depth=2, classifier__min_samples_split=3, classifier__n_estimators=400;, score=0.781 total time=  50.3s\n",
      "[CV 2/5] END classifier__learning_rate=0.3, classifier__max_depth=2, classifier__min_samples_split=3, classifier__n_estimators=400;, score=0.784 total time=  48.4s\n",
      "[CV 3/5] END classifier__learning_rate=0.3, classifier__max_depth=2, classifier__min_samples_split=3, classifier__n_estimators=400;, score=0.772 total time=  46.8s\n",
      "[CV 4/5] END classifier__learning_rate=0.3, classifier__max_depth=2, classifier__min_samples_split=3, classifier__n_estimators=400;, score=0.771 total time= 2.7min\n",
      "[CV 5/5] END classifier__learning_rate=0.3, classifier__max_depth=2, classifier__min_samples_split=3, classifier__n_estimators=400;, score=0.779 total time=  44.9s\n",
      "[CV 1/5] END classifier__learning_rate=0.3, classifier__max_depth=3, classifier__min_samples_split=2, classifier__n_estimators=100;, score=0.780 total time=  17.9s\n",
      "[CV 2/5] END classifier__learning_rate=0.3, classifier__max_depth=3, classifier__min_samples_split=2, classifier__n_estimators=100;, score=0.780 total time=  19.0s\n",
      "[CV 3/5] END classifier__learning_rate=0.3, classifier__max_depth=3, classifier__min_samples_split=2, classifier__n_estimators=100;, score=0.775 total time=  18.3s\n",
      "[CV 4/5] END classifier__learning_rate=0.3, classifier__max_depth=3, classifier__min_samples_split=2, classifier__n_estimators=100;, score=0.775 total time=  18.7s\n",
      "[CV 5/5] END classifier__learning_rate=0.3, classifier__max_depth=3, classifier__min_samples_split=2, classifier__n_estimators=100;, score=0.779 total time=  18.7s\n",
      "[CV 1/5] END classifier__learning_rate=0.3, classifier__max_depth=3, classifier__min_samples_split=2, classifier__n_estimators=250;, score=0.795 total time=  43.3s\n",
      "[CV 2/5] END classifier__learning_rate=0.3, classifier__max_depth=3, classifier__min_samples_split=2, classifier__n_estimators=250;, score=0.797 total time=  46.1s\n",
      "[CV 3/5] END classifier__learning_rate=0.3, classifier__max_depth=3, classifier__min_samples_split=2, classifier__n_estimators=250;, score=0.789 total time=  44.6s\n",
      "[CV 4/5] END classifier__learning_rate=0.3, classifier__max_depth=3, classifier__min_samples_split=2, classifier__n_estimators=250;, score=0.791 total time=  44.6s\n",
      "[CV 5/5] END classifier__learning_rate=0.3, classifier__max_depth=3, classifier__min_samples_split=2, classifier__n_estimators=250;, score=0.795 total time=  46.0s\n",
      "[CV 1/5] END classifier__learning_rate=0.3, classifier__max_depth=3, classifier__min_samples_split=2, classifier__n_estimators=400;, score=0.805 total time= 1.1min\n",
      "[CV 2/5] END classifier__learning_rate=0.3, classifier__max_depth=3, classifier__min_samples_split=2, classifier__n_estimators=400;, score=0.804 total time= 1.2min\n",
      "[CV 3/5] END classifier__learning_rate=0.3, classifier__max_depth=3, classifier__min_samples_split=2, classifier__n_estimators=400;, score=0.797 total time= 1.2min\n",
      "[CV 4/5] END classifier__learning_rate=0.3, classifier__max_depth=3, classifier__min_samples_split=2, classifier__n_estimators=400;, score=0.799 total time= 1.2min\n",
      "[CV 5/5] END classifier__learning_rate=0.3, classifier__max_depth=3, classifier__min_samples_split=2, classifier__n_estimators=400;, score=0.801 total time= 1.2min\n",
      "[CV 1/5] END classifier__learning_rate=0.3, classifier__max_depth=3, classifier__min_samples_split=3, classifier__n_estimators=100;, score=0.780 total time=  18.8s\n",
      "[CV 2/5] END classifier__learning_rate=0.3, classifier__max_depth=3, classifier__min_samples_split=3, classifier__n_estimators=100;, score=0.780 total time=  17.9s\n",
      "[CV 3/5] END classifier__learning_rate=0.3, classifier__max_depth=3, classifier__min_samples_split=3, classifier__n_estimators=100;, score=0.775 total time=  18.2s\n",
      "[CV 4/5] END classifier__learning_rate=0.3, classifier__max_depth=3, classifier__min_samples_split=3, classifier__n_estimators=100;, score=0.771 total time=  15.1s\n",
      "[CV 5/5] END classifier__learning_rate=0.3, classifier__max_depth=3, classifier__min_samples_split=3, classifier__n_estimators=100;, score=0.779 total time=  14.4s\n",
      "[CV 1/5] END classifier__learning_rate=0.3, classifier__max_depth=3, classifier__min_samples_split=3, classifier__n_estimators=250;, score=0.795 total time=  42.4s\n",
      "[CV 2/5] END classifier__learning_rate=0.3, classifier__max_depth=3, classifier__min_samples_split=3, classifier__n_estimators=250;, score=0.794 total time=  40.8s\n",
      "[CV 3/5] END classifier__learning_rate=0.3, classifier__max_depth=3, classifier__min_samples_split=3, classifier__n_estimators=250;, score=0.788 total time=  39.4s\n",
      "[CV 4/5] END classifier__learning_rate=0.3, classifier__max_depth=3, classifier__min_samples_split=3, classifier__n_estimators=250;, score=0.789 total time=  34.4s\n",
      "[CV 5/5] END classifier__learning_rate=0.3, classifier__max_depth=3, classifier__min_samples_split=3, classifier__n_estimators=250;, score=0.798 total time=  38.1s\n",
      "[CV 1/5] END classifier__learning_rate=0.3, classifier__max_depth=3, classifier__min_samples_split=3, classifier__n_estimators=400;, score=0.805 total time= 1.1min\n",
      "[CV 2/5] END classifier__learning_rate=0.3, classifier__max_depth=3, classifier__min_samples_split=3, classifier__n_estimators=400;, score=0.802 total time= 1.1min\n",
      "[CV 3/5] END classifier__learning_rate=0.3, classifier__max_depth=3, classifier__min_samples_split=3, classifier__n_estimators=400;, score=0.797 total time= 1.0min\n",
      "[CV 4/5] END classifier__learning_rate=0.3, classifier__max_depth=3, classifier__min_samples_split=3, classifier__n_estimators=400;, score=0.798 total time= 1.0min\n",
      "[CV 5/5] END classifier__learning_rate=0.3, classifier__max_depth=3, classifier__min_samples_split=3, classifier__n_estimators=400;, score=0.802 total time= 1.1min\n",
      "Pipeline(steps=[('scalar', PowerTransformer()),\n",
      "                ('classifier',\n",
      "                 GradientBoostingClassifier(learning_rate=0.3,\n",
      "                                            n_estimators=400))])\n",
      "Accuracy: 0.8069863824748372\n"
     ]
    },
    {
     "data": {
      "text/plain": [
       "array([[ 168,  370,  732],\n",
       "       [  76, 2429,  868],\n",
       "       [  74,  488, 8307]], dtype=int64)"
      ]
     },
     "execution_count": 12,
     "metadata": {},
     "output_type": "execute_result"
    }
   ],
   "source": [
    "# Check Gradient Boosting\n",
    "# We try various hyperparameters for this model as well\n",
    "pipe = Pipeline(steps=[('scalar', PowerTransformer(method='yeo-johnson')), ('classifier', GradientBoostingClassifier())])\n",
    "gb_param_space = [{'classifier__learning_rate': [0.2, 0.3],\n",
    "                 'classifier__max_depth': [2, 3],\n",
    "                 'classifier__min_samples_split': [2, 3],\n",
    "                 'classifier__n_estimators': [100, 250, 400]}]\n",
    "gb_clf = GridSearchCV(pipe, gb_param_space, verbose=5)\n",
    "gb_clf.fit(train_features, train_labels)\n",
    "y_pred = gb_clf.predict(dev_features)\n",
    "print(gb_clf.best_estimator_)\n",
    "print(\"Accuracy:\", metrics.accuracy_score(dev_labels, y_pred))\n",
    "confusion_matrix(y_true=dev_labels, y_pred=y_pred, labels=[0,1,2])"
   ]
  },
  {
   "cell_type": "markdown",
   "id": "708e29bb42adbe5b",
   "metadata": {
    "collapsed": false,
    "jupyter": {
     "outputs_hidden": false
    }
   },
   "source": [
    "We note that we tried using PolynomialFeatures for XG boost and gradient boosting, but it caused our models to perform extremely slow"
   ]
  },
  {
   "cell_type": "code",
   "execution_count": 13,
   "id": "c729986ac9646b0",
   "metadata": {
    "collapsed": false,
    "is_executing": true,
    "jupyter": {
     "outputs_hidden": false
    }
   },
   "outputs": [
    {
     "name": "stdout",
     "output_type": "stream",
     "text": [
      "Fitting 5 folds for each of 6 candidates, totalling 30 fits\n",
      "[CV 1/5] END classifier__C=1, classifier__class_weight=None;, score=0.682 total time= 2.8min\n",
      "[CV 2/5] END classifier__C=1, classifier__class_weight=None;, score=0.679 total time= 2.6min\n",
      "[CV 3/5] END classifier__C=1, classifier__class_weight=None;, score=0.680 total time= 2.8min\n",
      "[CV 4/5] END classifier__C=1, classifier__class_weight=None;, score=0.682 total time= 2.8min\n",
      "[CV 5/5] END classifier__C=1, classifier__class_weight=None;, score=0.683 total time= 2.6min\n",
      "[CV 1/5] END classifier__C=1, classifier__class_weight=balanced;, score=0.508 total time= 3.5min\n",
      "[CV 2/5] END classifier__C=1, classifier__class_weight=balanced;, score=0.505 total time= 3.7min\n",
      "[CV 3/5] END classifier__C=1, classifier__class_weight=balanced;, score=0.494 total time= 3.7min\n",
      "[CV 4/5] END classifier__C=1, classifier__class_weight=balanced;, score=0.508 total time= 3.6min\n",
      "[CV 5/5] END classifier__C=1, classifier__class_weight=balanced;, score=0.501 total time= 3.4min\n",
      "[CV 1/5] END classifier__C=2, classifier__class_weight=None;, score=0.703 total time= 2.7min\n",
      "[CV 2/5] END classifier__C=2, classifier__class_weight=None;, score=0.698 total time= 2.7min\n",
      "[CV 3/5] END classifier__C=2, classifier__class_weight=None;, score=0.701 total time= 2.7min\n",
      "[CV 4/5] END classifier__C=2, classifier__class_weight=None;, score=0.700 total time= 2.8min\n",
      "[CV 5/5] END classifier__C=2, classifier__class_weight=None;, score=0.701 total time= 2.7min\n",
      "[CV 1/5] END classifier__C=2, classifier__class_weight=balanced;, score=0.532 total time= 3.2min\n",
      "[CV 2/5] END classifier__C=2, classifier__class_weight=balanced;, score=0.539 total time=47.3min\n",
      "[CV 3/5] END classifier__C=2, classifier__class_weight=balanced;, score=0.525 total time= 3.6min\n",
      "[CV 4/5] END classifier__C=2, classifier__class_weight=balanced;, score=0.535 total time= 3.7min\n",
      "[CV 5/5] END classifier__C=2, classifier__class_weight=balanced;, score=0.527 total time= 1.8min\n",
      "[CV 1/5] END classifier__C=3, classifier__class_weight=None;, score=0.713 total time=  56.4s\n",
      "[CV 2/5] END classifier__C=3, classifier__class_weight=None;, score=0.712 total time=  52.9s\n",
      "[CV 3/5] END classifier__C=3, classifier__class_weight=None;, score=0.714 total time=  55.3s\n",
      "[CV 4/5] END classifier__C=3, classifier__class_weight=None;, score=0.711 total time=  54.9s\n",
      "[CV 5/5] END classifier__C=3, classifier__class_weight=None;, score=0.714 total time=  52.9s\n",
      "[CV 1/5] END classifier__C=3, classifier__class_weight=balanced;, score=0.552 total time= 1.2min\n",
      "[CV 2/5] END classifier__C=3, classifier__class_weight=balanced;, score=0.554 total time=73.0min\n",
      "[CV 3/5] END classifier__C=3, classifier__class_weight=balanced;, score=0.538 total time= 1.3min\n",
      "[CV 4/5] END classifier__C=3, classifier__class_weight=balanced;, score=0.552 total time= 1.2min\n",
      "[CV 5/5] END classifier__C=3, classifier__class_weight=balanced;, score=0.541 total time= 1.2min\n",
      "Pipeline(steps=[('scalar', PowerTransformer()),\n",
      "                ('classifier', SVC(C=3, gamma='auto'))])\n",
      "Accuracy: 0.7198786264061575\n"
     ]
    },
    {
     "data": {
      "text/plain": [
       "array([[   4,  163, 1103],\n",
       "       [   4, 1144, 2225],\n",
       "       [   5,  285, 8579]], dtype=int64)"
      ]
     },
     "execution_count": 13,
     "metadata": {},
     "output_type": "execute_result"
    }
   ],
   "source": [
    "# Check SVC\n",
    "# We try few possible parameters\n",
    "pipe = Pipeline(steps=[('scalar', PowerTransformer(method='yeo-johnson')),('classifier', SVC(gamma='auto'))])\n",
    "svc_param_space = [{'classifier__class_weight': [None, 'balanced'], 'classifier__C': [1, 2, 3]}]\n",
    "svc_clf = GridSearchCV(pipe, svc_param_space, verbose=5)\n",
    "svc_clf.fit(train_features, train_labels)\n",
    "y_pred = svc_clf.predict(dev_features)\n",
    "print(svc_clf.best_estimator_)\n",
    "print(\"Accuracy:\", metrics.accuracy_score(dev_labels, y_pred))\n",
    "confusion_matrix(y_true=dev_labels, y_pred=y_pred, labels=[0,1,2])"
   ]
  },
  {
   "cell_type": "code",
   "execution_count": 14,
   "id": "9a7a925091f8189f",
   "metadata": {
    "collapsed": false,
    "is_executing": true,
    "jupyter": {
     "outputs_hidden": false
    }
   },
   "outputs": [],
   "source": [
    "# since the data is unbalanced, we try over and under sampling approaches\n",
    "\n",
    "#Under sampling\n",
    "rus = RandomUnderSampler(random_state=42, sampling_strategy = 'not minority')\n",
    "train_features_under_sampled, train_labels_under_sampled = rus.fit_resample(train_features, train_labels)\n",
    "\n",
    "#over sampling\n",
    "smote = SMOTE()\n",
    "train_features_over_sampled, train_labels_over_sampled = smote.fit_resample(train_features, train_labels)"
   ]
  },
  {
   "cell_type": "code",
   "execution_count": 15,
   "id": "7d0e811085ec37b",
   "metadata": {
    "collapsed": false,
    "is_executing": true,
    "jupyter": {
     "outputs_hidden": false
    }
   },
   "outputs": [
    {
     "name": "stdout",
     "output_type": "stream",
     "text": [
      "Accuracy: 0.6771018354055655\n"
     ]
    },
    {
     "data": {
      "text/plain": [
       "array([[ 767,  293,  210],\n",
       "       [ 758, 2281,  334],\n",
       "       [1712, 1056, 6101]], dtype=int64)"
      ]
     },
     "execution_count": 15,
     "metadata": {},
     "output_type": "execute_result"
    }
   ],
   "source": [
    "rf_under_sampled =clone(rf_clf.best_estimator_)\n",
    "rf_under_sampled.fit(train_features_under_sampled, train_labels_under_sampled)\n",
    "y_pred = rf_under_sampled.predict(dev_features)\n",
    "accuracy = accuracy_score(dev_labels, y_pred)\n",
    "print(\"Accuracy:\", accuracy)\n",
    "confusion_matrix(y_true=dev_labels, y_pred=y_pred, labels=[0,1,2])"
   ]
  },
  {
   "cell_type": "code",
   "execution_count": 16,
   "id": "4a63fdd777bd21e4",
   "metadata": {
    "collapsed": false,
    "is_executing": true,
    "jupyter": {
     "outputs_hidden": false
    }
   },
   "outputs": [
    {
     "name": "stdout",
     "output_type": "stream",
     "text": [
      "Accuracy: 0.7747927767910006\n"
     ]
    },
    {
     "data": {
      "text/plain": [
       "array([[ 397,  392,  481],\n",
       "       [ 334, 2393,  646],\n",
       "       [ 563,  627, 7679]], dtype=int64)"
      ]
     },
     "execution_count": 16,
     "metadata": {},
     "output_type": "execute_result"
    }
   ],
   "source": [
    "rf_over_sampling = clone(rf_clf.best_estimator_)\n",
    "rf_over_sampling.fit(train_features_over_sampled, train_labels_over_sampled)\n",
    "y_pred = rf_over_sampling.predict(dev_features)\n",
    "accuracy = accuracy_score(dev_labels, y_pred)\n",
    "print(\"Accuracy:\", accuracy)\n",
    "confusion_matrix(y_true=dev_labels, y_pred=y_pred, labels=[0,1,2])"
   ]
  },
  {
   "cell_type": "code",
   "execution_count": 17,
   "id": "a54f30889fda5a20",
   "metadata": {
    "collapsed": false,
    "is_executing": true,
    "jupyter": {
     "outputs_hidden": false
    }
   },
   "outputs": [
    {
     "name": "stdout",
     "output_type": "stream",
     "text": [
      "Accuracy: 0.7282415630550622\n"
     ]
    },
    {
     "data": {
      "text/plain": [
       "array([[ 829,  258,  183],\n",
       "       [ 741, 2421,  211],\n",
       "       [1560,  719, 6590]], dtype=int64)"
      ]
     },
     "execution_count": 17,
     "metadata": {},
     "output_type": "execute_result"
    }
   ],
   "source": [
    "xg_under_sampled =clone(xg_clf.best_estimator_)\n",
    "xg_under_sampled.fit(train_features_under_sampled, train_labels_under_sampled)\n",
    "y_pred = xg_under_sampled.predict(dev_features)\n",
    "accuracy = accuracy_score(dev_labels, y_pred)\n",
    "print(\"Accuracy:\", accuracy)\n",
    "confusion_matrix(y_true=dev_labels, y_pred=y_pred, labels=[0,1,2])"
   ]
  },
  {
   "cell_type": "code",
   "execution_count": 18,
   "id": "db84a01c9852924",
   "metadata": {
    "collapsed": false,
    "is_executing": true,
    "jupyter": {
     "outputs_hidden": false
    }
   },
   "outputs": [
    {
     "name": "stdout",
     "output_type": "stream",
     "text": [
      "Accuracy: 0.8177915926583778\n"
     ]
    },
    {
     "data": {
      "text/plain": [
       "array([[ 395,  441,  434],\n",
       "       [ 213, 2742,  418],\n",
       "       [ 384,  572, 7913]], dtype=int64)"
      ]
     },
     "execution_count": 18,
     "metadata": {},
     "output_type": "execute_result"
    }
   ],
   "source": [
    "xg_over_sampled =clone(xg_clf.best_estimator_)\n",
    "xg_over_sampled.fit(train_features_over_sampled, train_labels_over_sampled)\n",
    "y_pred = xg_over_sampled.predict(dev_features)\n",
    "accuracy = accuracy_score(dev_labels, y_pred)\n",
    "print(\"Accuracy:\", accuracy)\n",
    "confusion_matrix(y_true=dev_labels, y_pred=y_pred, labels=[0,1,2])"
   ]
  },
  {
   "cell_type": "code",
   "execution_count": 19,
   "id": "41a76393d567ea66",
   "metadata": {
    "collapsed": false,
    "is_executing": true,
    "jupyter": {
     "outputs_hidden": false
    }
   },
   "outputs": [
    {
     "name": "stdout",
     "output_type": "stream",
     "text": [
      "Accuracy: 0.49341326228537596\n"
     ]
    },
    {
     "data": {
      "text/plain": [
       "array([[ 682,  342,  246],\n",
       "       [ 952, 1831,  590],\n",
       "       [2811, 1904, 4154]], dtype=int64)"
      ]
     },
     "execution_count": 19,
     "metadata": {},
     "output_type": "execute_result"
    }
   ],
   "source": [
    "svc_under_sampled =clone(svc_clf.best_estimator_)\n",
    "svc_under_sampled.fit(train_features_under_sampled, train_labels_under_sampled)\n",
    "y_pred = svc_under_sampled.predict(dev_features)\n",
    "accuracy = accuracy_score(dev_labels, y_pred)\n",
    "print(\"Accuracy:\", accuracy)\n",
    "confusion_matrix(y_true=dev_labels, y_pred=y_pred, labels=[0,1,2])"
   ]
  },
  {
   "cell_type": "code",
   "execution_count": 20,
   "id": "20087b29358bd953",
   "metadata": {
    "collapsed": false,
    "is_executing": true,
    "jupyter": {
     "outputs_hidden": false
    }
   },
   "outputs": [
    {
     "name": "stdout",
     "output_type": "stream",
     "text": [
      "Accuracy: 0.6807282415630551\n"
     ]
    },
    {
     "data": {
      "text/plain": [
       "array([[ 140,  302,  828],\n",
       "       [ 116, 1591, 1666],\n",
       "       [ 328, 1074, 7467]], dtype=int64)"
      ]
     },
     "execution_count": 20,
     "metadata": {},
     "output_type": "execute_result"
    }
   ],
   "source": [
    "svc_over_sampled =clone(svc_clf.best_estimator_)\n",
    "svc_over_sampled.fit(train_features_over_sampled, train_labels_over_sampled)\n",
    "y_pred = svc_over_sampled.predict(dev_features)\n",
    "accuracy = accuracy_score(dev_labels, y_pred)\n",
    "print(\"Accuracy:\", accuracy)\n",
    "confusion_matrix(y_true=dev_labels, y_pred=y_pred, labels=[0,1,2])"
   ]
  },
  {
   "cell_type": "markdown",
   "id": "4754d7cae61d1d76",
   "metadata": {
    "collapsed": false,
    "jupyter": {
     "outputs_hidden": false
    }
   },
   "source": [
    "# **Test**"
   ]
  },
  {
   "cell_type": "code",
   "execution_count": 21,
   "id": "6bac9f1aa37de0c",
   "metadata": {
    "collapsed": false,
    "is_executing": true,
    "jupyter": {
     "outputs_hidden": false
    }
   },
   "outputs": [
    {
     "name": "stdout",
     "output_type": "stream",
     "text": [
      "Test accuracy: 0.8413262285375962\n"
     ]
    }
   ],
   "source": [
    "#Training the best model on training and dev sets and test it on test set\n",
    "train_and_dev_features = pd.concat([train_features, dev_features], ignore_index=True)\n",
    "train_and_dev_labels = pd.concat([train_labels, dev_labels], ignore_index=True)\n",
    "\n",
    "best_model = clone(xg_clf.best_estimator_)\n",
    "best_model.fit(train_and_dev_features, train_and_dev_labels)\n",
    "y_pred = best_model.predict(test_features)\n",
    "print(\"Test accuracy:\", metrics.accuracy_score(test_labels, y_pred))"
   ]
  }
 ],
 "metadata": {
  "kernelspec": {
   "display_name": "Python 3 (ipykernel)",
   "language": "python",
   "name": "python3"
  },
  "language_info": {
   "codemirror_mode": {
    "name": "ipython",
    "version": 3
   },
   "file_extension": ".py",
   "mimetype": "text/x-python",
   "name": "python",
   "nbconvert_exporter": "python",
   "pygments_lexer": "ipython3",
   "version": "3.12.4"
  }
 },
 "nbformat": 4,
 "nbformat_minor": 5
}
